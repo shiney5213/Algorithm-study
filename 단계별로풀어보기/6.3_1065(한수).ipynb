{
 "cells": [
  {
   "cell_type": "markdown",
   "metadata": {},
   "source": [
    "# 백준 1065번 문제\n",
    "- https://www.acmicpc.net/problem/1065\n",
    "\n",
    "##  문제\n",
    "- 어떤 양의 정수 X의 각 자리가 등차수열을 이룬다면, 그 수를 한수라고 한다. 등차수열은 연속된 두 개의 수의 차이가 일정한 수열을 말한다. N이 주어졌을 때, 1보다 크거나 같고, N보다 작거나 같은 한수의 개수를 출력하는 프로그램을 작성하시오. \n",
    "\n",
    "> 입력\n",
    "- 첫째 줄에 1,000보다 작거나 같은 자연수 N이 주어진다.\n",
    "- 예: 110\n",
    "\n",
    "> 출력\n",
    "- 첫째 줄에 1보다 크거나 같고, N보다 작거나 같은 한수의 개수를 출력한다.\n",
    "- 예: 99"
   ]
  },
  {
   "cell_type": "markdown",
   "metadata": {
    "ExecuteTime": {
     "end_time": "2020-02-07T04:17:28.198938Z",
     "start_time": "2020-02-07T04:17:28.195946Z"
    }
   },
   "source": [
    "## 1.풀이\n",
    "- 입력된 수보다 작거나 같은 한수의 개수를 출력하는 문제\n",
    "- 일단 한수를 찾는 방법을 알아보자\n",
    "\n",
    "> 2자리수는\n",
    "- 모두 한수가 될 수 있음.\n",
    "- 등차가 되는 수가 한가지 이기 때문에\n",
    "\n",
    "> 3자리수는 \n",
    "- 등차가 되려면 백의자리수 - 십의자리 수 = 십의 자리수 - 일의 자리수\n",
    "- 입력되는 수가 1000보다 작거나 같은 자연수이므로 4자리수는 고려하지 않아도 됨"
   ]
  },
  {
   "cell_type": "code",
   "execution_count": 29,
   "metadata": {
    "ExecuteTime": {
     "end_time": "2020-03-19T02:15:17.708363Z",
     "start_time": "2020-03-19T02:15:15.614364Z"
    }
   },
   "outputs": [
    {
     "name": "stdout",
     "output_type": "stream",
     "text": [
      "210\n",
      "105\n"
     ]
    }
   ],
   "source": [
    "def hansu (N):\n",
    "    cnt = 0\n",
    "    for i in range(1, N + 1):\n",
    "        if i <= 99:\n",
    "            cnt += 1\n",
    "        else:\n",
    "            num=[int(j) for j in str(i)]\n",
    "            if num[0]- num[1] == num[1]- num[2]:\n",
    "                cnt += 1\n",
    "    return cnt\n",
    "\n",
    "N = int(input())\n",
    "print(hansu(N))\n"
   ]
  },
  {
   "cell_type": "markdown",
   "metadata": {},
   "source": [
    "#### 결과"
   ]
  },
  {
   "cell_type": "markdown",
   "metadata": {
    "ExecuteTime": {
     "end_time": "2020-02-10T01:09:09.720273Z",
     "start_time": "2020-02-10T01:09:09.703301Z"
    }
   },
   "source": [
    "![1065_1](images/1065_1.png)"
   ]
  },
  {
   "cell_type": "code",
   "execution_count": null,
   "metadata": {},
   "outputs": [],
   "source": []
  }
 ],
 "metadata": {
  "kernelspec": {
   "display_name": "Python 3",
   "language": "python",
   "name": "python3"
  },
  "language_info": {
   "codemirror_mode": {
    "name": "ipython",
    "version": 3
   },
   "file_extension": ".py",
   "mimetype": "text/x-python",
   "name": "python",
   "nbconvert_exporter": "python",
   "pygments_lexer": "ipython3",
   "version": "3.6.8"
  },
  "toc": {
   "base_numbering": 1,
   "nav_menu": {},
   "number_sections": false,
   "sideBar": true,
   "skip_h1_title": false,
   "title_cell": "Table of Contents",
   "title_sidebar": "Contents",
   "toc_cell": false,
   "toc_position": {
    "height": "calc(100% - 180px)",
    "left": "10px",
    "top": "150px",
    "width": "191.594px"
   },
   "toc_section_display": true,
   "toc_window_display": false
  },
  "varInspector": {
   "cols": {
    "lenName": 16,
    "lenType": 16,
    "lenVar": 40
   },
   "kernels_config": {
    "python": {
     "delete_cmd_postfix": "",
     "delete_cmd_prefix": "del ",
     "library": "var_list.py",
     "varRefreshCmd": "print(var_dic_list())"
    },
    "r": {
     "delete_cmd_postfix": ") ",
     "delete_cmd_prefix": "rm(",
     "library": "var_list.r",
     "varRefreshCmd": "cat(var_dic_list()) "
    }
   },
   "types_to_exclude": [
    "module",
    "function",
    "builtin_function_or_method",
    "instance",
    "_Feature"
   ],
   "window_display": false
  }
 },
 "nbformat": 4,
 "nbformat_minor": 2
}
