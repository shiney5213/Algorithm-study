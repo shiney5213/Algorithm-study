{
 "cells": [
  {
   "cell_type": "markdown",
   "metadata": {},
   "source": [
    "# 백준 2108번 문제\n",
    "- https://www.acmicpc.net/problem/2108\n",
    "\n",
    "##  1.문제\n",
    "- 수를 처리하는 것은 통계학에서 상당히 중요한 일이다. 통계학에서 N개의 수를 대표하는 기본 통계값에는 다음과 같은 것들이 있다. 단, N은 홀수라고 가정하자.\n",
    "\n",
    "- 산술평균 : N개의 수들의 합을 N으로 나눈 값\n",
    "- 중앙값 : N개의 수들을 증가하는 순서로 나열했을 경우 그 중앙에 위치하는 값\n",
    "- 최빈값 : N개의 수들 중 가장 많이 나타나는 값\n",
    "- 범위 : N개의 수들 중 최댓값과 최솟값의 차이\n",
    "- N개의 수가 주어졌을 때, 네 가지 기본 통계값을 구하는 프로그램을 작성하시오.\n",
    "\n",
    "\n",
    "> 입력\n",
    "- 첫째 줄에 수의 개수 N(1 ≤ N ≤ 500,000)이 주어진다. 그 다음 N개의 줄에는 정수들이 주어진다. 입력되는 정수의 절댓값은 4,000을 넘지 않는다.\n",
    "- 예\n",
    "- 5\n",
    "- 1\n",
    "- 3\n",
    "- 8\n",
    "- -2\n",
    "- 2 \n",
    "\n",
    "> 출력\n",
    "- 첫째 줄에는 산술평균을 출력한다. 소수점 이하 첫째 자리에서 반올림한 값을 출력한다.\n",
    "- 둘째 줄에는 중앙값을 출력한다.\n",
    "- 셋째 줄에는 최빈값을 출력한다. 여러 개 있을 때에는 최빈값 중 두 번째로 작은 값을 출력한다.\n",
    "- 넷째 줄에는 범위를 출력한다.\n",
    "- 예\n",
    "- 2\n",
    "- 2\n",
    "- 1\n",
    "- 10"
   ]
  },
  {
   "cell_type": "markdown",
   "metadata": {
    "ExecuteTime": {
     "end_time": "2020-02-07T04:17:28.198938Z",
     "start_time": "2020-02-07T04:17:28.195946Z"
    }
   },
   "source": [
    "## 2.풀이\n"
   ]
  },
  {
   "cell_type": "code",
   "execution_count": 34,
   "metadata": {},
   "outputs": [
    {
     "name": "stdout",
     "output_type": "stream",
     "text": [
      "5\n",
      "1 \n",
      "3\n",
      "5\n",
      "7\n",
      "9\n"
     ]
    }
   ],
   "source": [
    "num_list = [int(input()) for i in range(int(input()))]"
   ]
  },
  {
   "cell_type": "code",
   "execution_count": 35,
   "metadata": {},
   "outputs": [
    {
     "name": "stdout",
     "output_type": "stream",
     "text": [
      "5.0\n"
     ]
    }
   ],
   "source": [
    "sansul_mean =sum(num_list)/len(num_list)\n",
    "print(round(sansul_mean,1))"
   ]
  },
  {
   "cell_type": "code",
   "execution_count": 36,
   "metadata": {},
   "outputs": [
    {
     "name": "stdout",
     "output_type": "stream",
     "text": [
      "5\n"
     ]
    }
   ],
   "source": [
    "mid_num = sorted(num_list)[int(len(num_list)/2)]\n",
    "print(mid_num)"
   ]
  },
  {
   "cell_type": "code",
   "execution_count": 41,
   "metadata": {},
   "outputs": [
    {
     "name": "stdout",
     "output_type": "stream",
     "text": [
      "{1: 1, 3: 1, 5: 1, 7: 1, 9: 1}\n"
     ]
    }
   ],
   "source": [
    "import operator\n",
    "fre_num={}\n",
    "for i in num_list:\n",
    "    fre_num[i]=fre_num.get(i, 0)\n",
    "    fre_num[i]+=1\n",
    "print(fre_num)    "
   ]
  },
  {
   "cell_type": "code",
   "execution_count": 46,
   "metadata": {},
   "outputs": [
    {
     "name": "stdout",
     "output_type": "stream",
     "text": [
      "[(1, 1), (3, 1), (5, 1), (7, 1), (9, 1)]\n",
      "1\n"
     ]
    }
   ],
   "source": [
    "# value, key 정렬\n",
    "sort_fre = sorted(fre_num.items(), key = lambda items: (items[1], items[0]))\n",
    "print(sort_fre)\n",
    "print(sort_fre[0][1])"
   ]
  },
  {
   "cell_type": "code",
   "execution_count": null,
   "metadata": {},
   "outputs": [],
   "source": [
    "# 멀티 인덱스로 정렬하기\n"
   ]
  },
  {
   "cell_type": "code",
   "execution_count": 38,
   "metadata": {},
   "outputs": [
    {
     "name": "stdout",
     "output_type": "stream",
     "text": [
      "8\n"
     ]
    }
   ],
   "source": [
    "print(max(num_list)-min(num_list))"
   ]
  },
  {
   "cell_type": "markdown",
   "metadata": {
    "ExecuteTime": {
     "end_time": "2020-05-26T00:55:42.247952Z",
     "start_time": "2020-05-26T00:55:42.146951Z"
    }
   },
   "source": [
    "#### 결과\n",
    "![2108_1](images/2108_1.png)"
   ]
  },
  {
   "cell_type": "markdown",
   "metadata": {},
   "source": [
    "## 3. 풀이\n",
    "> 시간초과\n",
    "- 시간 초과를 없애기 위해\n",
    "- sys.stdin.readline()을 이용\n",
    "- 함수로 정리해서 풀어보자\n",
    "- dict로 만드는 과정도 for문 말고 counter사용하자\n",
    "- 참고: https://roseline124.github.io/algorithm/2019/03/22/Algorithm-baekjoon-2108.html"
   ]
  },
  {
   "cell_type": "code",
   "execution_count": 48,
   "metadata": {},
   "outputs": [],
   "source": [
    "import sys\n",
    "from collections import Counter\n"
   ]
  },
  {
   "cell_type": "code",
   "execution_count": 65,
   "metadata": {},
   "outputs": [
    {
     "ename": "ValueError",
     "evalue": "invalid literal for int() with base 10: ''",
     "output_type": "error",
     "traceback": [
      "\u001b[1;31m---------------------------------------------------------------------------\u001b[0m",
      "\u001b[1;31mValueError\u001b[0m                                Traceback (most recent call last)",
      "\u001b[1;32m<ipython-input-65-5ed4984e1956>\u001b[0m in \u001b[0;36m<module>\u001b[1;34m\u001b[0m\n\u001b[1;32m----> 1\u001b[1;33m \u001b[0mN\u001b[0m \u001b[1;33m=\u001b[0m \u001b[0mint\u001b[0m\u001b[1;33m(\u001b[0m\u001b[0msys\u001b[0m\u001b[1;33m.\u001b[0m\u001b[0mstdin\u001b[0m\u001b[1;33m.\u001b[0m\u001b[0mreadline\u001b[0m\u001b[1;33m(\u001b[0m\u001b[1;33m)\u001b[0m\u001b[1;33m)\u001b[0m\u001b[1;33m\u001b[0m\u001b[1;33m\u001b[0m\u001b[0m\n\u001b[0m\u001b[0;32m      2\u001b[0m \u001b[0mnum_list\u001b[0m \u001b[1;33m=\u001b[0m \u001b[1;33m[\u001b[0m\u001b[0mint\u001b[0m\u001b[1;33m(\u001b[0m\u001b[0msys\u001b[0m\u001b[1;33m.\u001b[0m\u001b[0mstdin\u001b[0m\u001b[1;33m.\u001b[0m\u001b[0mreadline\u001b[0m\u001b[1;33m(\u001b[0m\u001b[1;33m)\u001b[0m\u001b[1;33m)\u001b[0m \u001b[1;32mfor\u001b[0m \u001b[0mi\u001b[0m \u001b[1;32min\u001b[0m \u001b[0mrange\u001b[0m\u001b[1;33m(\u001b[0m\u001b[0mN\u001b[0m\u001b[1;33m)\u001b[0m\u001b[1;33m]\u001b[0m\u001b[1;33m\u001b[0m\u001b[1;33m\u001b[0m\u001b[0m\n",
      "\u001b[1;31mValueError\u001b[0m: invalid literal for int() with base 10: ''"
     ]
    }
   ],
   "source": [
    "N = int(sys.stdin.readline())\n",
    "num_list = [int(sys.stdin.readline()) for i in range(N)]"
   ]
  },
  {
   "cell_type": "code",
   "execution_count": 82,
   "metadata": {},
   "outputs": [],
   "source": [
    "num_list = [1,1,1,3,5]"
   ]
  },
  {
   "cell_type": "code",
   "execution_count": 75,
   "metadata": {},
   "outputs": [],
   "source": [
    "def mean(num_list):\n",
    "    return round(sum(num_list)/len(num_list))"
   ]
  },
  {
   "cell_type": "code",
   "execution_count": 76,
   "metadata": {},
   "outputs": [
    {
     "name": "stdout",
     "output_type": "stream",
     "text": [
      "3\n"
     ]
    }
   ],
   "source": [
    "print(mean(num_list))"
   ]
  },
  {
   "cell_type": "code",
   "execution_count": 77,
   "metadata": {},
   "outputs": [],
   "source": [
    "def median(num_list):\n",
    "    return sorted(num_list)[int(len(num_list)/2)]"
   ]
  },
  {
   "cell_type": "code",
   "execution_count": 78,
   "metadata": {},
   "outputs": [
    {
     "name": "stdout",
     "output_type": "stream",
     "text": [
      "3\n"
     ]
    }
   ],
   "source": [
    "print(median(num_list))"
   ]
  },
  {
   "cell_type": "code",
   "execution_count": 84,
   "metadata": {},
   "outputs": [
    {
     "name": "stdout",
     "output_type": "stream",
     "text": [
      "Counter({1: 3, 3: 1, 5: 1})\n",
      "[(3, 1), (5, 1), (1, 3)]\n",
      "1\n"
     ]
    }
   ],
   "source": [
    "# value, key를 기준으로 정렬\n",
    "def mode(num_list):\n",
    "    count_num = Counter(num_list)\n",
    "    print(count_num)\n",
    "    count_sort = sorted(count_num.items(), key =lambda items: (items[1], items[0]))\n",
    "    print(count_sort)\n",
    "    return count_sort\n",
    "\n",
    "print(mode(num_list)[0][1])"
   ]
  },
  {
   "cell_type": "code",
   "execution_count": 85,
   "metadata": {},
   "outputs": [
    {
     "name": "stdout",
     "output_type": "stream",
     "text": [
      "4\n"
     ]
    }
   ],
   "source": [
    "def scope(num_list):\n",
    "    return max(num_list) - min(num_list)\n",
    "\n",
    "print(scope(num_list))"
   ]
  },
  {
   "cell_type": "markdown",
   "metadata": {},
   "source": [
    "#### 결과\n",
    "![2108_1](images/2108_2.png)"
   ]
  },
  {
   "cell_type": "markdown",
   "metadata": {},
   "source": [
    "## 4. 풀이\n",
    "- 최빈값이 같은 경우 두번째로 작은 값을 출력해야 한다.."
   ]
  },
  {
   "cell_type": "code",
   "execution_count": 148,
   "metadata": {},
   "outputs": [],
   "source": [
    "num_list = [4,3,3,2,2,1,1,4, 1, 3,4]"
   ]
  },
  {
   "cell_type": "code",
   "execution_count": 149,
   "metadata": {},
   "outputs": [
    {
     "name": "stdout",
     "output_type": "stream",
     "text": [
      "[(4, 3), (3, 3), (1, 3), (2, 2)]\n"
     ]
    }
   ],
   "source": [
    "count_dict = Counter(num_list)\n",
    "max_count = Counter(num_list).most_common()\n",
    "print(max_count)"
   ]
  },
  {
   "cell_type": "code",
   "execution_count": 150,
   "metadata": {},
   "outputs": [
    {
     "data": {
      "text/plain": [
       "[(2, 2), (1, 3), (3, 3), (4, 3)]"
      ]
     },
     "execution_count": 150,
     "metadata": {},
     "output_type": "execute_result"
    }
   ],
   "source": [
    "sort_count = sorted(max_count, key = lambda items: (items[1],items[0]), reverse = False)\n",
    "sort_count"
   ]
  },
  {
   "cell_type": "code",
   "execution_count": 152,
   "metadata": {},
   "outputs": [
    {
     "name": "stdout",
     "output_type": "stream",
     "text": [
      "[(4, 3), (3, 3), (1, 3), (2, 2)]\n",
      "[(2, 2), (4, 3), (3, 3), (1, 3)]\n",
      "3\n"
     ]
    }
   ],
   "source": [
    "# value, key를 기준으로 정렬\n",
    "def mode(num_list):\n",
    "    count_dict = Counter(num_list)\n",
    "    count_list = count_dict.most_common()\n",
    "    print(count_list)\n",
    "    #value기준으로 정렬\n",
    "    count_sort = sorted(count_list, key = lambda items: items[1])\n",
    "    print(count_sort)\n",
    "    \n",
    "    if count_sort[-1][1]== count_sort[-2][1]:\n",
    "        return count_sort[-2][0]\n",
    "    else:\n",
    "        return count_sort[-1][0]\n",
    "\n",
    "print(mode(num_list))"
   ]
  },
  {
   "cell_type": "code",
   "execution_count": null,
   "metadata": {},
   "outputs": [],
   "source": []
  },
  {
   "cell_type": "code",
   "execution_count": null,
   "metadata": {},
   "outputs": [],
   "source": []
  }
 ],
 "metadata": {
  "kernelspec": {
   "display_name": "Python 3",
   "language": "python",
   "name": "python3"
  },
  "language_info": {
   "codemirror_mode": {
    "name": "ipython",
    "version": 3
   },
   "file_extension": ".py",
   "mimetype": "text/x-python",
   "name": "python",
   "nbconvert_exporter": "python",
   "pygments_lexer": "ipython3",
   "version": "3.6.10"
  },
  "toc": {
   "base_numbering": 1,
   "nav_menu": {},
   "number_sections": false,
   "sideBar": true,
   "skip_h1_title": false,
   "title_cell": "Table of Contents",
   "title_sidebar": "Contents",
   "toc_cell": false,
   "toc_position": {
    "height": "calc(100% - 180px)",
    "left": "10px",
    "top": "150px",
    "width": "191.583px"
   },
   "toc_section_display": true,
   "toc_window_display": false
  },
  "varInspector": {
   "cols": {
    "lenName": 16,
    "lenType": 16,
    "lenVar": 40
   },
   "kernels_config": {
    "python": {
     "delete_cmd_postfix": "",
     "delete_cmd_prefix": "del ",
     "library": "var_list.py",
     "varRefreshCmd": "print(var_dic_list())"
    },
    "r": {
     "delete_cmd_postfix": ") ",
     "delete_cmd_prefix": "rm(",
     "library": "var_list.r",
     "varRefreshCmd": "cat(var_dic_list()) "
    }
   },
   "types_to_exclude": [
    "module",
    "function",
    "builtin_function_or_method",
    "instance",
    "_Feature"
   ],
   "window_display": false
  }
 },
 "nbformat": 4,
 "nbformat_minor": 2
}
