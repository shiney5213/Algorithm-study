{
 "cells": [
  {
   "cell_type": "markdown",
   "metadata": {},
   "source": [
    "# 백준 1002번 문제\n",
    "- https://www.acmicpc.net/problem/1002\n",
    "\n",
    "##  1.문제\n",
    "- 조규현과 백승환은 터렛에 근무하는 직원이다. 하지만 워낙 존재감이 없어서 인구수는 차지하지 않는다. 다음은 조규현과 백승환의 사진이다.\n",
    "- 이석원은 조규현과 백승환에게 상대편 마린(류재명)의 위치를 계산하라는 명령을 내렸다. 조규현과 백승환은 각각 자신의 터렛 위치에서 현재 적까지의 거리를 계산했다.\n",
    "- 조규현의 좌표 (x1, y1)와 백승환의 좌표 (x2, y2)가 주어지고, 조규현이 계산한 류재명과의 거리 r1과 백승환이 계산한 류재명과의 거리 r2가 주어졌을 때, 류재명이 있을 수 있는 좌표의 수를 출력하는 프로그램을 작성하시오.\n",
    "\n",
    "> 입력\n",
    "- 첫째 줄에 테스트 케이스의 개수 T가 주어진다. 각 테스트 케이스는 다음과 같이 이루어져 있다.\n",
    "- 한 줄에 x1, y1, r1, x2, y2, r2가 주어진다. x1, y1, x2, y2는 -10,000보다 크거나 같고, 10,000보다 작거나 같은 정수이고, r1, r2는 10,000보다 작거나 같은 자연수이다.\n",
    "- 예\n",
    "- 3\n",
    "- 0 0 13 40 0 37\n",
    "- 0 0 3 0 7 4\n",
    "- 1 1 1 1 1 5\n",
    "\n",
    ">출력\n",
    "- 각 테스트 케이스마다 류재명이 있을 수 있는 위치의 수를 출력한다. 만약 류재명이 있을 수 있는 위치의 개수가 무한대일 경우에는 -1을 출력한다.\n",
    "- 예\n",
    "- 2\n",
    "- 1\n",
    "- 0"
   ]
  },
  {
   "cell_type": "markdown",
   "metadata": {
    "ExecuteTime": {
     "end_time": "2020-02-07T04:17:28.198938Z",
     "start_time": "2020-02-07T04:17:28.195946Z"
    }
   },
   "source": [
    "## 2.풀이\n",
    "\n",
    "> 풀이\n",
    "- 두 원의 방정식으로 겹치는 점의 개수를 출력하는 문제\n",
    "- 원의 방정식: (x-a)**2 + (y-b)**2 = r**2\n",
    "\n",
    "\n",
    "> 경우의 수: 4가지\n",
    "- 일치\n",
    "- 한점에서 만나는 경우\n",
    "- 두 점에서 만나는 경우\n",
    "- 만나지 않는 경우\n",
    "\n",
    "> 참고\n",
    "- https://leedakyeong.tistory.com/entry/%EB%B0%B1%EC%A4%80-1002%EB%B2%88-%ED%84%B0%EB%A0%9B-in-python-%ED%8C%8C%EC%9D%B4%EC%8D%AC-%EC%BD%94%EB%93%9C-%EB%B0%8F-%EC%84%A4%EB%AA%85"
   ]
  },
  {
   "cell_type": "code",
   "execution_count": 5,
   "metadata": {},
   "outputs": [],
   "source": [
    "from math import sqrt"
   ]
  },
  {
   "cell_type": "code",
   "execution_count": 3,
   "metadata": {},
   "outputs": [
    {
     "name": "stdout",
     "output_type": "stream",
     "text": [
      "0 0 13 40 0 37\n"
     ]
    }
   ],
   "source": [
    "x1, y1,r1, x2, y2, r2= map(int,input().split())"
   ]
  },
  {
   "cell_type": "code",
   "execution_count": 6,
   "metadata": {},
   "outputs": [
    {
     "name": "stdout",
     "output_type": "stream",
     "text": [
      "40.0\n"
     ]
    }
   ],
   "source": [
    "# 두 중심점 사이의 거리\n",
    "r = sqrt((x1-x2)**2 + (y1-y2)**2)\n",
    "print(r)"
   ]
  },
  {
   "cell_type": "code",
   "execution_count": 9,
   "metadata": {},
   "outputs": [
    {
     "name": "stdout",
     "output_type": "stream",
     "text": [
      "[13, 37]\n"
     ]
    }
   ],
   "source": [
    "R= [r1, r2, r]\n",
    "max_r = max(R)\n",
    "R.remove(max_r)\n",
    "print(R)"
   ]
  },
  {
   "cell_type": "code",
   "execution_count": 11,
   "metadata": {},
   "outputs": [
    {
     "name": "stdout",
     "output_type": "stream",
     "text": [
      "2\n"
     ]
    }
   ],
   "source": [
    "if r1 == r2 and ㄱ==0:\n",
    "    print(-1)\n",
    "elif r==r1+r2 or max_r==sum(R):\n",
    "    print(1)\n",
    "elif r > r1 + r2:\n",
    "    print(0)\n",
    "else:\n",
    "    print(2)"
   ]
  },
  {
   "cell_type": "code",
   "execution_count": 14,
   "metadata": {},
   "outputs": [
    {
     "name": "stdout",
     "output_type": "stream",
     "text": [
      "1\n"
     ]
    }
   ],
   "source": [
    "T = int(input())"
   ]
  },
  {
   "cell_type": "code",
   "execution_count": 18,
   "metadata": {},
   "outputs": [
    {
     "name": "stdout",
     "output_type": "stream",
     "text": [
      "0 0 13 40 0 37\n",
      "2\n"
     ]
    }
   ],
   "source": [
    "for i in range(T):\n",
    "    x1, y1,r1, x2, y2, r2= map(int,input().split())\n",
    "\n",
    "    # 두 중심점 사이의 거리\n",
    "    r = sqrt((x1-x2)**2 + (y1-y2)**2)\n",
    "\n",
    "    R= [r1, r2, r]\n",
    "    max_r = max(R)\n",
    "    R.remove(max_r)\n",
    "\n",
    "    if r1 == r2 and r==0:\n",
    "        print(-1)\n",
    "    elif r==r1+r2:\n",
    "        print(1)\n",
    "    elif r > r1 + r2 or max_r>sum(R):\n",
    "        print(0)\n",
    "    else:\n",
    "        print(2)\n"
   ]
  },
  {
   "cell_type": "markdown",
   "metadata": {},
   "source": [
    "#### 결과"
   ]
  },
  {
   "cell_type": "markdown",
   "metadata": {
    "ExecuteTime": {
     "end_time": "2020-05-10T07:03:24.535050Z",
     "start_time": "2020-05-10T07:03:24.487042Z"
    }
   },
   "source": [
    "![1002_1](./images/1002_1.png)"
   ]
  },
  {
   "cell_type": "markdown",
   "metadata": {},
   "source": [
    "## 2. 풀이\n",
    "> 런타임 에러\n",
    "- if문의 조건을 다시 한번 살펴보자..."
   ]
  },
  {
   "cell_type": "code",
   "execution_count": 23,
   "metadata": {},
   "outputs": [
    {
     "name": "stdout",
     "output_type": "stream",
     "text": [
      "1 \n",
      "1 1 1 1 1 5\n",
      "1 1 1\n",
      "[1, 0.0] 5\n",
      "0\n"
     ]
    }
   ],
   "source": [
    "T = int(input())\n",
    "\n",
    "for i in range(T):\n",
    "    x1, y1,r1, x2, y2, r2= map(int,input().split())\n",
    "\n",
    "    # 두 중심점 사이의 거리\n",
    "    r = sqrt((x1-x2)**2 + (y1-y2)**2)\n",
    "\n",
    "    R= [r1, r2, r]\n",
    "    max_r = max(R)\n",
    "    R.remove(max_r)\n",
    "    print(R, max_r)\n",
    "\n",
    "    # 두 원이 일치하는 경우\n",
    "    if (r1 == r2) and (r==0):\n",
    "        print(-1)\n",
    "    # 두 원이 내접, 외접하는 경우\n",
    "    elif (r==r1+r2) or( max_r == sum(R)):\n",
    "        print(1)\n",
    "    # 두 원이 만나지 않는 경우\n",
    "    elif max_r>sum(R):\n",
    "        print(0)\n",
    "    # 두 점에서 만나는 경우\n",
    "    else:\n",
    "        print(2)"
   ]
  },
  {
   "cell_type": "markdown",
   "metadata": {},
   "source": [
    "#### 결과\n",
    "![1002_2](images/1002_2.png)"
   ]
  },
  {
   "cell_type": "markdown",
   "metadata": {},
   "source": [
    "## 3. 풀이\n",
    "> 런타임 에러\n",
    "- 참고한 사이트와 로직은 같은데 런다임 에러 발생..\n",
    "- 똑같이 넣어보자"
   ]
  },
  {
   "cell_type": "code",
   "execution_count": 24,
   "metadata": {},
   "outputs": [
    {
     "name": "stdout",
     "output_type": "stream",
     "text": [
      "1\n",
      "1 1 1 1 1 6\n",
      "0\n"
     ]
    }
   ],
   "source": [
    "n = int(input())\n",
    " \n",
    "for i in range(n) :\n",
    "    x1, y1, r1, x2, y2, r2 = map(int, input().split())\n",
    "    r = ((x1-x2)**2 + (y1-y2)**2)**(1/2)\n",
    "    R = [r1,r2,r]\n",
    "    m=max(R); R.remove(m)\n",
    "    print(-1 if (r==0 and r1==r2) else 1 if (r == r1+r2 or m==sum(R)) else 0 if (m > sum(R)) else 2)\n",
    "\n",
    "\n",
    "\n"
   ]
  },
  {
   "cell_type": "markdown",
   "metadata": {},
   "source": [
    "#### 결과\n",
    "![1002_3](images/1002_3.png)"
   ]
  },
  {
   "cell_type": "markdown",
   "metadata": {},
   "source": [
    "- if elif 문을 한줄로 표현\n",
    "- 중첩되어 있어 헷갈리지만 이렇게 쓰는 연습을 해보자!"
   ]
  },
  {
   "cell_type": "code",
   "execution_count": null,
   "metadata": {},
   "outputs": [],
   "source": [
    "-1 if (r==0 and r1==r2) else 1 if (r == r1+r2 or m==sum(R)) else 0 if (m > sum(R)) else 2\n"
   ]
  }
 ],
 "metadata": {
  "kernelspec": {
   "display_name": "Python 3",
   "language": "python",
   "name": "python3"
  },
  "toc": {
   "base_numbering": 1,
   "nav_menu": {},
   "number_sections": false,
   "sideBar": true,
   "skip_h1_title": false,
   "title_cell": "Table of Contents",
   "title_sidebar": "Contents",
   "toc_cell": false,
   "toc_position": {
    "height": "calc(100% - 180px)",
    "left": "10px",
    "top": "150px",
    "width": "191.583px"
   },
   "toc_section_display": true,
   "toc_window_display": false
  },
  "varInspector": {
   "cols": {
    "lenName": 16,
    "lenType": 16,
    "lenVar": 40
   },
   "kernels_config": {
    "python": {
     "delete_cmd_postfix": "",
     "delete_cmd_prefix": "del ",
     "library": "var_list.py",
     "varRefreshCmd": "print(var_dic_list())"
    },
    "r": {
     "delete_cmd_postfix": ") ",
     "delete_cmd_prefix": "rm(",
     "library": "var_list.r",
     "varRefreshCmd": "cat(var_dic_list()) "
    }
   },
   "types_to_exclude": [
    "module",
    "function",
    "builtin_function_or_method",
    "instance",
    "_Feature"
   ],
   "window_display": false
  }
 },
 "nbformat": 4,
 "nbformat_minor": 2
}
