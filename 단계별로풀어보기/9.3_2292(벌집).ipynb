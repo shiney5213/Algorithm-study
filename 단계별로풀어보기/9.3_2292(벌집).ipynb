{
 "cells": [
  {
   "cell_type": "markdown",
   "metadata": {},
   "source": [
    "# 백준 2292번 문제\n",
    "- https://www.acmicpc.net/problem/2292\n",
    "\n",
    "##  1.문제\n",
    "- 위의 그림과 같이 육각형으로 이루어진 벌집이 있다. 그림에서 보는 바와 같이 중앙의 방 1부터 시작해서 이웃하는 방에 돌아가면서 1씩 증가하는 번호를 주소로 매길 수 있다. 숫자 N이 주어졌을 때, 벌집의 중앙 1에서 N번 방까지 최소 개수의 방을 지나서 갈 때 몇 개의 방을 지나가는지(시작과 끝을 포함하여)를 계산하는 프로그램을 작성하시오. 예를 들면, 13까지는 3개, 58까지는 5개를 지난다.\n",
    "\n",
    "\n",
    "> 입력\n",
    "- 첫째 줄에 N(1 ≤ N ≤ 1,000,000,000)이 주어진다.\n",
    "- 예: 13\n",
    "\n",
    ">출력\n",
    "- 입력으로 주어진 방까지 최소 개수의 방을 지나서 갈 때 몇 개의 방을 지나는지 출력한다.\n",
    "- 예: 3"
   ]
  },
  {
   "cell_type": "markdown",
   "metadata": {
    "ExecuteTime": {
     "end_time": "2020-02-07T04:17:28.198938Z",
     "start_time": "2020-02-07T04:17:28.195946Z"
    }
   },
   "source": [
    "## 2.풀이\n",
    "> 수열로 접근하자\n",
    "- 1,2,9,22,41,66,... => 1 7 13 19 25 => 6씩 증가,\n",
    "- 1,3,11,25,45,...=> 2 8 14 20 => 6씩 증가,\n",
    "- 1,4,13,28,49,...=> 3,9,15,21 => 6씩 증가,\n",
    "- 1,5,15,31,53,...=> 4,10,16,22 => 6씩 증가,\n",
    "- 1,6,17,34,57,... => 5,11,17,23 => 6씩 증가\n",
    "    \n",
    "> 규칙성 찾기\\n\",\n",
    "- 1, 1+(1+0 * 6), 2+(1+1 * 6),9+(1+6 * 2), 22 + (1+6 * 3),...,\n",
    "- 2, 2+(1 +0 * 6), 3+(2 +1 * 6),11+(2+6 * 2), 25+(2 +6 * 3),...,\n",
    "\n",
    "> 최소 방의 개수\\n\",\n",
    "- 41 = 이전 항 + (1 + 6 * 3)  -> 방의 수: 5개(3 + 2),\n",
    "- 45 = 이전 항 + ( 2 + 6 * 3) -> 방의 수: 5개(3 + 2),\n",
    "- 13 = 이전 항 + (3 + 6 * 1) -> 방의 수: 3개( 1 + 2),\n",
    "\n",
    "> 일반화\\n\",\n",
    "- 방의 수 = (입력받은 수 - 이전 항 - 초기 차이 ) / i,\n",
    "- 1 = (13 - 4 - 3)/ 6\",\n",
    "- 3 = (45- 25 - 2)/ 6\""
   ]
  },
  {
   "cell_type": "code",
   "execution_count": 1,
   "metadata": {
    "ExecuteTime": {
     "end_time": "2020-04-06T07:30:20.528371Z",
     "start_time": "2020-04-06T07:30:20.511375Z"
    },
    "scrolled": false
   },
   "outputs": [
    {
     "data": {
      "text/plain": [
       "16666666"
      ]
     },
     "execution_count": 1,
     "metadata": {},
     "output_type": "execute_result"
    }
   ],
   "source": [
    "int(100000000 / 6)"
   ]
  },
  {
   "cell_type": "code",
   "execution_count": 2,
   "metadata": {
    "ExecuteTime": {
     "end_time": "2020-04-06T07:30:39.686370Z",
     "start_time": "2020-04-06T07:30:35.217368Z"
    }
   },
   "outputs": [
    {
     "name": "stdout",
     "output_type": "stream",
     "text": [
      "13\n"
     ]
    }
   ],
   "source": [
    "num = int(input())"
   ]
  },
  {
   "cell_type": "code",
   "execution_count": 4,
   "metadata": {
    "ExecuteTime": {
     "end_time": "2020-04-06T07:32:17.431365Z",
     "start_time": "2020-04-06T07:31:57.721369Z"
    }
   },
   "outputs": [
    {
     "name": "stdout",
     "output_type": "stream",
     "text": [
      "3\n"
     ]
    }
   ],
   "source": [
    "def result(num, dif):\n",
    "    a1 = 1\n",
    "    for i in range(0, 16666666):\n",
    "        a1 =a1 + (dif + i * 6)\n",
    "        if a1 == num:\n",
    "            print(i + 2)\n",
    "            break\n",
    "for j in range(1, 6):       \n",
    "    result(num, j)"
   ]
  },
  {
   "cell_type": "markdown",
   "metadata": {},
   "source": [
    "#### 결과"
   ]
  },
  {
   "cell_type": "markdown",
   "metadata": {
    "ExecuteTime": {
     "end_time": "2020-04-06T07:32:57.500370Z",
     "start_time": "2020-04-06T07:32:57.387374Z"
    }
   },
   "source": [
    "![2292_1](./images/2292_1.png)"
   ]
  },
  {
   "cell_type": "markdown",
   "metadata": {
    "ExecuteTime": {
     "end_time": "2020-04-06T07:33:34.270377Z",
     "start_time": "2020-04-06T07:33:34.263371Z"
    }
   },
   "source": [
    "## 3.풀이2\n",
    "> 런타임에러\n",
    "- for문에서 수열을 차례대로 모두 돌면서 검사하기 때문에 발생한듯\n",
    "- 다른 방법으로 코딩해보자\n",
    "\n",
    "\n",
    "> 범위를 지정해보자\n",
    "- 방1개: 1까지 \n",
    "- 방2개:  7까지=> 7 = 1 + 6\n",
    "- 방3개: 19까지=> 19 = 7 + 6 * 2\n",
    "- 방4개: 37까지=> 37 = 19 + 6 * 3\n",
    "- 방5개: 61까지=> 61 = 37 + 6 * 4\n"
   ]
  },
  {
   "cell_type": "code",
   "execution_count": 23,
   "metadata": {
    "ExecuteTime": {
     "end_time": "2020-04-06T07:46:59.502952Z",
     "start_time": "2020-04-06T07:46:56.507951Z"
    }
   },
   "outputs": [
    {
     "name": "stdout",
     "output_type": "stream",
     "text": [
      "61\n"
     ]
    }
   ],
   "source": [
    "num = int(input())"
   ]
  },
  {
   "cell_type": "code",
   "execution_count": 27,
   "metadata": {
    "ExecuteTime": {
     "end_time": "2020-04-06T07:55:20.163369Z",
     "start_time": "2020-04-06T07:55:20.154374Z"
    }
   },
   "outputs": [
    {
     "name": "stdout",
     "output_type": "stream",
     "text": [
      "5\n",
      "[1, 7, 19, 37]\n"
     ]
    }
   ],
   "source": [
    "a = [1] \n",
    "for i in range(1, num//6):\n",
    "    a1 = a[i-1] + (6 * i)\n",
    "    if a1 <num:\n",
    "        a.append(a1)\n",
    "    else:\n",
    "        break\n",
    "print(len(a) + 1)\n",
    "print(a)"
   ]
  },
  {
   "cell_type": "markdown",
   "metadata": {},
   "source": [
    "#### 결과"
   ]
  },
  {
   "cell_type": "markdown",
   "metadata": {},
   "source": [
    "![2292_2](./images/2292_2.png)"
   ]
  },
  {
   "cell_type": "markdown",
   "metadata": {
    "ExecuteTime": {
     "end_time": "2020-04-06T07:51:32.278407Z",
     "start_time": "2020-04-06T07:51:32.273368Z"
    }
   },
   "source": [
    "## 4. 풀이3"
   ]
  },
  {
   "cell_type": "markdown",
   "metadata": {
    "ExecuteTime": {
     "end_time": "2020-04-06T07:56:41.887372Z",
     "start_time": "2020-04-06T07:56:41.880376Z"
    }
   },
   "source": [
    "> 틀렸습니다..\n",
    "- 배열로 하지 말고, 룸 개수를 변수로 만들어보자"
   ]
  },
  {
   "cell_type": "code",
   "execution_count": 39,
   "metadata": {
    "ExecuteTime": {
     "end_time": "2020-04-06T08:02:39.051371Z",
     "start_time": "2020-04-06T08:02:38.079367Z"
    }
   },
   "outputs": [
    {
     "name": "stdout",
     "output_type": "stream",
     "text": [
      "71\n",
      "1 7 2\n",
      "2 19 3\n",
      "3 37 4\n",
      "4 61 5\n",
      "6\n"
     ]
    }
   ],
   "source": [
    "num = int(input())\n",
    "\n",
    "a = 1 \n",
    "room = 1\n",
    "for i in range(1, num):\n",
    "    a = a + (6 * i)\n",
    "    if a <num:\n",
    "        room += 1\n",
    "        print(i, a, room)\n",
    "    else:\n",
    "        break\n",
    "print(room+1)\n"
   ]
  },
  {
   "cell_type": "markdown",
   "metadata": {},
   "source": [
    "#### 결과"
   ]
  },
  {
   "cell_type": "markdown",
   "metadata": {},
   "source": [
    "![2292_3](./images/2292_3.png)"
   ]
  },
  {
   "cell_type": "markdown",
   "metadata": {},
   "source": [
    "## 5. 풀이4\n",
    "- 입력이 1일 때 오류가 남\n",
    "- 인덱스를 조절하자"
   ]
  },
  {
   "cell_type": "code",
   "execution_count": 49,
   "metadata": {
    "ExecuteTime": {
     "end_time": "2020-04-06T08:07:27.228372Z",
     "start_time": "2020-04-06T08:07:26.327369Z"
    }
   },
   "outputs": [
    {
     "name": "stdout",
     "output_type": "stream",
     "text": [
      "1\n"
     ]
    }
   ],
   "source": [
    "num = int(input())\n"
   ]
  },
  {
   "cell_type": "code",
   "execution_count": 50,
   "metadata": {
    "ExecuteTime": {
     "end_time": "2020-04-06T08:07:27.728369Z",
     "start_time": "2020-04-06T08:07:27.721365Z"
    }
   },
   "outputs": [
    {
     "name": "stdout",
     "output_type": "stream",
     "text": [
      "1\n"
     ]
    }
   ],
   "source": [
    "a = 1 \n",
    "room = 0\n",
    "for i in range(num):\n",
    "    a = a + (6 * i)\n",
    "    if a <num:\n",
    "        room += 1\n",
    "        print(i, a, room)\n",
    "    else:\n",
    "        break\n",
    "print(room+1)"
   ]
  },
  {
   "cell_type": "markdown",
   "metadata": {},
   "source": [
    "![2292_4](./images/2292_4.png)"
   ]
  },
  {
   "cell_type": "code",
   "execution_count": null,
   "metadata": {},
   "outputs": [],
   "source": []
  }
 ],
 "metadata": {
  "kernelspec": {
   "display_name": "Python 3",
   "language": "python",
   "name": "python3"
  },
  "language_info": {
   "codemirror_mode": {
    "name": "ipython",
    "version": 3
   },
   "file_extension": ".py",
   "mimetype": "text/x-python",
   "name": "python",
   "nbconvert_exporter": "python",
   "pygments_lexer": "ipython3",
   "version": "3.7.6"
  },
  "toc": {
   "base_numbering": 1,
   "nav_menu": {},
   "number_sections": false,
   "sideBar": true,
   "skip_h1_title": false,
   "title_cell": "Table of Contents",
   "title_sidebar": "Contents",
   "toc_cell": false,
   "toc_position": {
    "height": "calc(100% - 180px)",
    "left": "10px",
    "top": "150px",
    "width": "191.583px"
   },
   "toc_section_display": true,
   "toc_window_display": true
  },
  "varInspector": {
   "cols": {
    "lenName": 16,
    "lenType": 16,
    "lenVar": 40
   },
   "kernels_config": {
    "python": {
     "delete_cmd_postfix": "",
     "delete_cmd_prefix": "del ",
     "library": "var_list.py",
     "varRefreshCmd": "print(var_dic_list())"
    },
    "r": {
     "delete_cmd_postfix": ") ",
     "delete_cmd_prefix": "rm(",
     "library": "var_list.r",
     "varRefreshCmd": "cat(var_dic_list()) "
    }
   },
   "types_to_exclude": [
    "module",
    "function",
    "builtin_function_or_method",
    "instance",
    "_Feature"
   ],
   "window_display": false
  }
 },
 "nbformat": 4,
 "nbformat_minor": 2
}
