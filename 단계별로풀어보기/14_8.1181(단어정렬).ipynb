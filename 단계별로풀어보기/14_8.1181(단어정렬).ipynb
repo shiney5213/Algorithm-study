{
 "cells": [
  {
   "cell_type": "markdown",
   "metadata": {},
   "source": [
    "# 백준 1181번 문제\n",
    "- https://www.acmicpc.net/problem/1181\n",
    "\n",
    "##  1.문제\n",
    "- 알파벳 소문자로 이루어진 N개의 단어가 들어오면 아래와 같은 조건에 따라 정렬하는 프로그램을 작성하시오.\n",
    "\n",
    "\n",
    "\n",
    "> 입력\n",
    "- 첫째 줄에 단어의 개수 N이 주어진다. (1≤N≤20,000) 둘째 줄부터 N개의 줄에 걸쳐 알파벳 소문자로 이루어진 단어가 한 줄에 하나씩 주어진다. 주어지는 문자열의 길이는 50을 넘지 않는다.\n",
    "- 예\n",
    "- 13\n",
    "- but\n",
    "- i\n",
    "- wont\n",
    "- hesitate\n",
    "- no\n",
    "- more\n",
    "- no\n",
    "- more\n",
    "- it\n",
    "- cannot\n",
    "- wait\n",
    "- im\n",
    "- yours\n",
    "\n",
    "> 출력\n",
    "- 조건에 따라 정렬하여 단어들을 출력한다. 단, 같은 단어가 여러 번 입력된 경우에는 한 번씩만 출력한다.\n",
    "- 예\n",
    "- i\n",
    "- im\n",
    "- it\n",
    "- no\n",
    "- but\n",
    "- more\n",
    "- wait\n",
    "- wont\n",
    "- yours\n",
    "- cannot\n",
    "- hesitate\n"
   ]
  },
  {
   "cell_type": "markdown",
   "metadata": {
    "ExecuteTime": {
     "end_time": "2020-02-07T04:17:28.198938Z",
     "start_time": "2020-02-07T04:17:28.195946Z"
    }
   },
   "source": [
    "## 2.풀이\n"
   ]
  },
  {
   "cell_type": "code",
   "execution_count": 1,
   "metadata": {
    "ExecuteTime": {
     "end_time": "2020-06-07T09:25:54.017920Z",
     "start_time": "2020-06-07T09:25:52.267917Z"
    }
   },
   "outputs": [
    {
     "name": "stdout",
     "output_type": "stream",
     "text": [
      "13\n",
      "13\n"
     ]
    }
   ],
   "source": [
    "N = input()\n",
    "print(N)"
   ]
  },
  {
   "cell_type": "code",
   "execution_count": 3,
   "metadata": {
    "ExecuteTime": {
     "end_time": "2020-06-07T09:28:50.226914Z",
     "start_time": "2020-06-07T09:28:40.030913Z"
    }
   },
   "outputs": [
    {
     "name": "stdout",
     "output_type": "stream",
     "text": [
      "i\n",
      "but\n",
      "wont\n",
      "hesitate\n",
      "no\n",
      "more\n",
      "kno\n",
      "more\n",
      "it\n",
      "cannot\n",
      "wait\n",
      "im\n",
      "yours\n",
      "['i', 'but', 'wont', 'hesitate', 'no', 'more', 'kno', 'more', 'it', 'cannot', 'wait', 'im', 'yours']\n"
     ]
    }
   ],
   "source": [
    "num_list = [input() for i in range(int(N))]\n",
    "print(num_list)"
   ]
  },
  {
   "cell_type": "code",
   "execution_count": 4,
   "metadata": {},
   "outputs": [
    {
     "name": "stdout",
     "output_type": "stream",
     "text": [
      "('i', 'but', 'wont', 'hesitate', 'no', 'more', 'kno', 'more', 'it', 'cannot', 'wait', 'im', 'yours')\n"
     ]
    }
   ],
   "source": [
    "num_tuple = tuple(num_list)\n",
    "print(num_tuple)"
   ]
  },
  {
   "cell_type": "code",
   "execution_count": 6,
   "metadata": {},
   "outputs": [
    {
     "name": "stdout",
     "output_type": "stream",
     "text": [
      "{'i': 1, 'but': 3, 'wont': 4, 'hesitate': 8, 'no': 2, 'more': 4, 'kno': 3, 'it': 2, 'cannot': 6, 'wait': 4, 'im': 2, 'yours': 5}\n"
     ]
    }
   ],
   "source": [
    "num_dict = {}\n",
    "for i in num_tuple:\n",
    "    num_dict[i]=len(i)\n",
    "print(num_dict)    "
   ]
  },
  {
   "cell_type": "code",
   "execution_count": 10,
   "metadata": {},
   "outputs": [
    {
     "name": "stdout",
     "output_type": "stream",
     "text": [
      "[('i', 1), ('im', 2), ('it', 2), ('no', 2), ('but', 3), ('kno', 3), ('more', 4), ('wait', 4), ('wont', 4), ('yours', 5), ('cannot', 6), ('hesitate', 8)]\n"
     ]
    }
   ],
   "source": [
    "num_sort = sorted(num_dict.items(), key = lambda item:(item[1], item[0]))\n",
    "print(num_sort)"
   ]
  },
  {
   "cell_type": "code",
   "execution_count": 13,
   "metadata": {},
   "outputs": [
    {
     "name": "stdout",
     "output_type": "stream",
     "text": [
      "i\n",
      "im\n",
      "it\n",
      "no\n",
      "but\n",
      "kno\n",
      "more\n",
      "wait\n",
      "wont\n",
      "yours\n",
      "cannot\n",
      "hesitate\n"
     ]
    }
   ],
   "source": [
    "for (i, j) in num_sort:\n",
    "    print(i)"
   ]
  },
  {
   "cell_type": "markdown",
   "metadata": {},
   "source": [
    "#### 결과\n",
    "![1181_1](images/1181_1.png)"
   ]
  },
  {
   "cell_type": "code",
   "execution_count": null,
   "metadata": {},
   "outputs": [],
   "source": []
  }
 ],
 "metadata": {
  "kernelspec": {
   "display_name": "Python 3",
   "language": "python",
   "name": "python3"
  },
  "language_info": {
   "codemirror_mode": {
    "name": "ipython",
    "version": 3
   },
   "file_extension": ".py",
   "mimetype": "text/x-python",
   "name": "python",
   "nbconvert_exporter": "python",
   "pygments_lexer": "ipython3",
   "version": "3.6.10"
  },
  "toc": {
   "base_numbering": 1,
   "nav_menu": {},
   "number_sections": false,
   "sideBar": true,
   "skip_h1_title": false,
   "title_cell": "Table of Contents",
   "title_sidebar": "Contents",
   "toc_cell": false,
   "toc_position": {
    "height": "calc(100% - 180px)",
    "left": "10px",
    "top": "150px",
    "width": "191.583px"
   },
   "toc_section_display": true,
   "toc_window_display": false
  },
  "varInspector": {
   "cols": {
    "lenName": 16,
    "lenType": 16,
    "lenVar": 40
   },
   "kernels_config": {
    "python": {
     "delete_cmd_postfix": "",
     "delete_cmd_prefix": "del ",
     "library": "var_list.py",
     "varRefreshCmd": "print(var_dic_list())"
    },
    "r": {
     "delete_cmd_postfix": ") ",
     "delete_cmd_prefix": "rm(",
     "library": "var_list.r",
     "varRefreshCmd": "cat(var_dic_list()) "
    }
   },
   "types_to_exclude": [
    "module",
    "function",
    "builtin_function_or_method",
    "instance",
    "_Feature"
   ],
   "window_display": false
  }
 },
 "nbformat": 4,
 "nbformat_minor": 2
}
