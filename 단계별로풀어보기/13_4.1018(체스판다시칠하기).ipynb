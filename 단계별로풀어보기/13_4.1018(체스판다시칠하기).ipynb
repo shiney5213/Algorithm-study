{
 "cells": [
  {
   "cell_type": "markdown",
   "metadata": {},
   "source": [
    "# 백준 1018번 문제\n",
    "- https://www.acmicpc.net/problem/1018\n",
    "\n",
    "##  1.문제\n",
    "- 지민이는 자신의 저택에서 MN개의 단위 정사각형으로 나누어져 있는 M*N 크기의 보드를 찾았다. 어떤 정사각형은 검은색으로 칠해져 있고, 나머지는 흰색으로 칠해져 있다. 지민이는 이 보드를 잘라서 8*8 크기의 체스판으로 만들려고 한다.\n",
    "- 체스판은 검은색과 흰색이 번갈아서 칠해져 있어야 한다. 구체적으로, 각 칸이 검은색과 흰색 중 하나로 색칠되어 있고, 변을 공유하는 두 개의 사각형은 다른 색으로 칠해져 있어야 한다. 따라서 이 정의를 따르면 체스판을 색칠하는 경우는 두 가지뿐이다. 하나는 맨 왼쪽 위 칸이 흰색인 경우, 하나는 검은색인 경우이다.\n",
    "- 보드가 체스판처럼 칠해져 있다는 보장이 없어서, 지민이는 8*8 크기의 체스판으로 잘라낸 후에 몇 개의 정사각형을 다시 칠해야겠다고 생각했다. 당연히 8*8 크기는 아무데서나 골라도 된다. 지민이가 다시 칠해야 하는 정사각형의 최소 개수를 구하는 프로그램을 작성하시오.\n",
    "\n",
    "> 입력\n",
    "- 첫째 줄에 N과 M이 주어진다. N과 M은 8보다 크거나 같고, 50보다 작거나 같은 자연수이다. 둘째 줄부터 N개의 줄에는 보드의 각 행의 상태가 주어진다. B는 검은색이며, W는 흰색이다.\n",
    "- 예\n",
    "- 8 8\n",
    "- WBWBWBWB\n",
    "- BWBWBWBW\n",
    "- WBWBWBWB\n",
    "- BWBBBWBW\n",
    "- WBWBWBWB\n",
    "- BWBWBWBW\n",
    "- WBWBWBWB\n",
    "- BWBWBWBW\n",
    "\n",
    "> 출력\n",
    "- 첫째 줄에 지민이가 다시 칠해야 하는 정사각형 개수의 최솟값을 출력한다.\n",
    "- 예\n",
    "- 1\n"
   ]
  },
  {
   "cell_type": "markdown",
   "metadata": {
    "ExecuteTime": {
     "end_time": "2020-02-07T04:17:28.198938Z",
     "start_time": "2020-02-07T04:17:28.195946Z"
    }
   },
   "source": [
    "## 2.풀이\n",
    "- M: 세로줄, N: 가로줄\n",
    "- 경우의 수를 생각해보면\n",
    "- 첫 색이 W / B\n",
    "- M이 짝수/ 홀수\n",
    "- 참고: https://hwiyong.tistory.com/230"
   ]
  },
  {
   "cell_type": "code",
   "execution_count": 1,
   "metadata": {
    "ExecuteTime": {
     "end_time": "2020-05-24T13:07:07.023787Z",
     "start_time": "2020-05-24T13:07:05.096787Z"
    }
   },
   "outputs": [
    {
     "name": "stdout",
     "output_type": "stream",
     "text": [
      "8 8\n",
      "WBWBWBWB\n",
      "BWBWBWBW\n",
      "WBWBWBWB\n",
      "BWBBBWBW\n",
      "WBWBWBWB\n",
      "BWBWBWBW\n",
      "WBWBWBWB\n",
      "BWBWBWBW\n"
     ]
    }
   ],
   "source": [
    "N, M = map(int,input().split())\n",
    "map_list = [list(input()) for _ in range(N)]"
   ]
  },
  {
   "cell_type": "code",
   "execution_count": 6,
   "metadata": {},
   "outputs": [
    {
     "name": "stdout",
     "output_type": "stream",
     "text": [
      "1\n"
     ]
    }
   ],
   "source": [
    "min_num = None\n",
    "\n",
    "for i in range(N - 7):\n",
    "    for j in range(M - 7):\n",
    "        num1, num2 = 0, 0\n",
    "        # W\n",
    "        for k in range(i, i + 8):\n",
    "            for l in range(j, j + 8):\n",
    "                if((k + l - i - j) % 2 == 0):\n",
    "                    if(map_list[k][l] == 'B'):\n",
    "                        num1 += 1\n",
    "                else:\n",
    "                    if(map_list[k][l] == 'W'):\n",
    "                        num1 += 1\n",
    "                        \n",
    "        #B         \n",
    "        for k in range(i, i + 8):\n",
    "            for l in range(j, j + 8):\n",
    "                if((k + l - i - j) % 2 == 0):\n",
    "                    if(map_list[k][l] == 'W'):\n",
    "                        num2 += 1\n",
    "                else:\n",
    "                    if(map_list[k][l] == 'B'):\n",
    "                        num2 += 1\n",
    "                        \n",
    "        change_box = num1 if num1 < num2 else num2\n",
    "        if(min_num is None):\n",
    "            min_num = change_box\n",
    "        else:\n",
    "            min_num = change_box if min_num > change_box else min_num\n",
    "            \n",
    "print(min_num)"
   ]
  },
  {
   "cell_type": "markdown",
   "metadata": {},
   "source": [
    "#### 결과\n",
    "![1018_1](images/1018_1.png)"
   ]
  },
  {
   "cell_type": "code",
   "execution_count": null,
   "metadata": {},
   "outputs": [],
   "source": []
  }
 ],
 "metadata": {
  "kernelspec": {
   "display_name": "Python 3",
   "language": "python",
   "name": "python3"
  },
  "language_info": {
   "codemirror_mode": {
    "name": "ipython",
    "version": 3
   },
   "file_extension": ".py",
   "mimetype": "text/x-python",
   "name": "python",
   "nbconvert_exporter": "python",
   "pygments_lexer": "ipython3",
   "version": "3.6.10"
  },
  "toc": {
   "base_numbering": 1,
   "nav_menu": {},
   "number_sections": false,
   "sideBar": true,
   "skip_h1_title": false,
   "title_cell": "Table of Contents",
   "title_sidebar": "Contents",
   "toc_cell": false,
   "toc_position": {
    "height": "calc(100% - 180px)",
    "left": "10px",
    "top": "150px",
    "width": "191.583px"
   },
   "toc_section_display": true,
   "toc_window_display": false
  },
  "varInspector": {
   "cols": {
    "lenName": 16,
    "lenType": 16,
    "lenVar": 40
   },
   "kernels_config": {
    "python": {
     "delete_cmd_postfix": "",
     "delete_cmd_prefix": "del ",
     "library": "var_list.py",
     "varRefreshCmd": "print(var_dic_list())"
    },
    "r": {
     "delete_cmd_postfix": ") ",
     "delete_cmd_prefix": "rm(",
     "library": "var_list.r",
     "varRefreshCmd": "cat(var_dic_list()) "
    }
   },
   "types_to_exclude": [
    "module",
    "function",
    "builtin_function_or_method",
    "instance",
    "_Feature"
   ],
   "window_display": false
  }
 },
 "nbformat": 4,
 "nbformat_minor": 2
}
