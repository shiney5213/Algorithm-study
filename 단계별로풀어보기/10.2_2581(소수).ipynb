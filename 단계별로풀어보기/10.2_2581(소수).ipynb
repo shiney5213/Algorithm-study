{
 "cells": [
  {
   "cell_type": "markdown",
   "metadata": {},
   "source": [
    "# 백준 2581번 문제\n",
    "- https://www.acmicpc.net/problem/2581\n",
    "\n",
    "##  1.문제\n",
    "- 자연수 M과 N이 주어질 때 M이상 N이하의 자연수 중 소수인 것을 모두 골라 이들 소수의 합과 최솟값을 찾는 프로그램을 작성하시오.\n",
    "\n",
    "- 예를 들어 M=60, N=100인 경우 60이상 100이하의 자연수 중 소수는 61, 67, 71, 73, 79, 83, 89, 97 총 8개가 있으므로, 이들 소수의 합은 620이고, 최솟값은 61이 된다.\n",
    "\n",
    "\n",
    "> 입력\n",
    "- 입력의 첫째 줄에 M이, 둘째 줄에 N이 주어진다.\n",
    "- M과 N은 10,000이하의 자연수이며, M은 N보다 작거나 같다.\n",
    "- 예\n",
    "- 60\n",
    "- 100\n",
    "\n",
    ">출력\n",
    "- M이상 N이하의 자연수 중 소수인 것을 모두 찾아 첫째 줄에 그 합을, 둘째 줄에 그 중 최솟값을 출력한다. \n",
    "\n",
    "- 단, M이상 N이하의 자연수 중 소수가 없을 경우는 첫째 줄에 -1을 출력한다.\n",
    "- 예\n",
    "- 620\n",
    "- 61\n"
   ]
  },
  {
   "cell_type": "markdown",
   "metadata": {
    "ExecuteTime": {
     "end_time": "2020-02-07T04:17:28.198938Z",
     "start_time": "2020-02-07T04:17:28.195946Z"
    }
   },
   "source": [
    "## 2.풀이\n",
    "> 소수\n",
    "- 약수가 1과 자기 자신인 수 이므로..\n",
    "- 약수의 개수를 세어서 2개인 수의 개수를 출력하자"
   ]
  },
  {
   "cell_type": "code",
   "execution_count": 16,
   "metadata": {
    "ExecuteTime": {
     "end_time": "2020-04-20T23:51:30.451941Z",
     "start_time": "2020-04-20T23:51:29.362955Z"
    }
   },
   "outputs": [
    {
     "name": "stdout",
     "output_type": "stream",
     "text": [
      "60\n"
     ]
    }
   ],
   "source": [
    "min_num = int(input())"
   ]
  },
  {
   "cell_type": "code",
   "execution_count": 17,
   "metadata": {
    "ExecuteTime": {
     "end_time": "2020-04-20T23:51:32.556944Z",
     "start_time": "2020-04-20T23:51:31.553980Z"
    }
   },
   "outputs": [
    {
     "name": "stdout",
     "output_type": "stream",
     "text": [
      "100\n"
     ]
    }
   ],
   "source": [
    "max_num = int(input())"
   ]
  },
  {
   "cell_type": "code",
   "execution_count": 18,
   "metadata": {
    "ExecuteTime": {
     "end_time": "2020-04-20T23:51:33.102159Z",
     "start_time": "2020-04-20T23:51:33.091154Z"
    }
   },
   "outputs": [
    {
     "name": "stdout",
     "output_type": "stream",
     "text": [
      "620\n",
      "61\n"
     ]
    }
   ],
   "source": [
    "sosu = []\n",
    "for j in range(min_num, max_num+1):\n",
    "    yaksu_list = []\n",
    "    for i in range(1,max_num+1):\n",
    "        if j % i == 0:\n",
    "            yaksu_list.append(i)\n",
    "    if len(yaksu_list)==2:\n",
    "        sosu.append(j)\n",
    "\n",
    "if sosu:\n",
    "    print(sum(sosu))\n",
    "    print(sosu[0])\n",
    "else:\n",
    "    print('-1')"
   ]
  },
  {
   "cell_type": "markdown",
   "metadata": {},
   "source": [
    "#### 결과"
   ]
  },
  {
   "cell_type": "markdown",
   "metadata": {
    "ExecuteTime": {
     "end_time": "2020-04-06T07:32:57.500370Z",
     "start_time": "2020-04-06T07:32:57.387374Z"
    }
   },
   "source": [
    "![2581_1](./images/2581_1.png)"
   ]
  },
  {
   "cell_type": "markdown",
   "metadata": {
    "ExecuteTime": {
     "end_time": "2020-04-20T23:54:49.773698Z",
     "start_time": "2020-04-20T23:54:49.766701Z"
    }
   },
   "source": [
    "## 2. 풀이\n",
    "> 시간초과\n",
    "- 일단 i가 j + 1까지면 가면 되고\n",
    "- 메모리를 줄이기 위해 약수를 list로 만들지 말고 count만 세기"
   ]
  },
  {
   "cell_type": "code",
   "execution_count": 26,
   "metadata": {
    "ExecuteTime": {
     "end_time": "2020-04-21T00:25:10.639552Z",
     "start_time": "2020-04-21T00:25:08.084401Z"
    },
    "scrolled": true
   },
   "outputs": [
    {
     "name": "stdout",
     "output_type": "stream",
     "text": [
      "64\n",
      "65\n",
      "[]\n",
      "-1\n"
     ]
    }
   ],
   "source": [
    "min_num = int(input())\n",
    "max_num = int(input())\n",
    "sosu = []\n",
    "for j in range(min_num, max_num+1):\n",
    "    yaksu_cnt = 0\n",
    "    for i in range(1,j+1):\n",
    "        if j % i == 0:\n",
    "            yaksu_cnt +=1\n",
    "        if yaksu_cnt > 2:\n",
    "                break\n",
    "    if yaksu_cnt==2:\n",
    "        sosu.append(j)\n",
    "        \n",
    "# print(sosu)\n",
    "if sosu:\n",
    "    print(sum(sosu))\n",
    "    print(sosu[0])\n",
    "else:\n",
    "    print('-1')"
   ]
  },
  {
   "cell_type": "markdown",
   "metadata": {},
   "source": [
    "#### 결과"
   ]
  },
  {
   "cell_type": "markdown",
   "metadata": {
    "ExecuteTime": {
     "end_time": "2020-04-06T07:32:57.500370Z",
     "start_time": "2020-04-06T07:32:57.387374Z"
    }
   },
   "source": [
    "![2581_2](./images/2581_2.png)"
   ]
  },
  {
   "cell_type": "code",
   "execution_count": null,
   "metadata": {},
   "outputs": [],
   "source": []
  }
 ],
 "metadata": {
  "kernelspec": {
   "display_name": "Python 3",
   "language": "python",
   "name": "python3"
  },
  "language_info": {
   "codemirror_mode": {
    "name": "ipython",
    "version": 3
   },
   "file_extension": ".py",
   "mimetype": "text/x-python",
   "name": "python",
   "nbconvert_exporter": "python",
   "pygments_lexer": "ipython3",
   "version": "3.6.8"
  },
  "toc": {
   "base_numbering": 1,
   "nav_menu": {},
   "number_sections": false,
   "sideBar": true,
   "skip_h1_title": false,
   "title_cell": "Table of Contents",
   "title_sidebar": "Contents",
   "toc_cell": false,
   "toc_position": {
    "height": "calc(100% - 180px)",
    "left": "10px",
    "top": "150px",
    "width": "191.583px"
   },
   "toc_section_display": true,
   "toc_window_display": false
  },
  "varInspector": {
   "cols": {
    "lenName": 16,
    "lenType": 16,
    "lenVar": 40
   },
   "kernels_config": {
    "python": {
     "delete_cmd_postfix": "",
     "delete_cmd_prefix": "del ",
     "library": "var_list.py",
     "varRefreshCmd": "print(var_dic_list())"
    },
    "r": {
     "delete_cmd_postfix": ") ",
     "delete_cmd_prefix": "rm(",
     "library": "var_list.r",
     "varRefreshCmd": "cat(var_dic_list()) "
    }
   },
   "types_to_exclude": [
    "module",
    "function",
    "builtin_function_or_method",
    "instance",
    "_Feature"
   ],
   "window_display": false
  }
 },
 "nbformat": 4,
 "nbformat_minor": 2
}
