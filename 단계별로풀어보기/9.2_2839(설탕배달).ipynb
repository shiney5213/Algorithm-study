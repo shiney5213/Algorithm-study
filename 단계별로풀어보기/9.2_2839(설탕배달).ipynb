{
 "cells": [
  {
   "cell_type": "markdown",
   "metadata": {},
   "source": [
    "# 백준 2839번 문제\n",
    "- https://www.acmicpc.net/problem/2839\n",
    "\n",
    "##  문제\n",
    "- 상근이는 요즘 설탕공장에서 설탕을 배달하고 있다. 상근이는 지금 사탕가게에 설탕을 정확하게 N킬로그램을 배달해야 한다. 설탕공장에서 만드는 설탕은 봉지에 담겨져 있다. 봉지는 3킬로그램 봉지와 5킬로그램 봉지가 있다.\n",
    "\n",
    "- 상근이는 귀찮기 때문에, 최대한 적은 봉지를 들고 가려고 한다. 예를 들어, 18킬로그램 설탕을 배달해야 할 때, 3킬로그램 봉지 6개를 가져가도 되지만, 5킬로그램 3개와 3킬로그램 1개를 배달하면, 더 적은 개수의 봉지를 배달할 수 있다.\n",
    "\n",
    "- 상근이가 설탕을 정확하게 N킬로그램 배달해야 할 때, 봉지 몇 개를 가져가면 되는지 그 수를 구하는 프로그램을 작성하시오.\n",
    "\n",
    "> 입력\n",
    "- 첫째 줄에 N이 주어진다. (3 ≤ N ≤ 5000)\n",
    "- 예\n",
    "- 18\n",
    "\n",
    "\n",
    "> 출력\n",
    "- 상근이가 배달하는 봉지의 최소 개수를 출력한다. 만약, 정확하게 N킬로그램을 만들 수 없다면 -1을 출력한다.\n",
    "- 예\n",
    "- 4\n"
   ]
  },
  {
   "cell_type": "markdown",
   "metadata": {
    "ExecuteTime": {
     "end_time": "2020-02-07T04:17:28.198938Z",
     "start_time": "2020-02-07T04:17:28.195946Z"
    }
   },
   "source": [
    "## 1.풀이\n",
    "> 봉지수의 최소값을 구하는 것이므로 \n",
    "- 먼저 5로 나누어 몫을 구하고, - 나머지를 3으로 나누어 최소 봉지수를 구한다\n",
    "- 5로 나누었을 때 나머지가 생기지만, 3으로 나누어 떨어지는 경우가 있음.\n",
    "\n",
    "> 경우의 수를 나누어보면\n",
    "- 5로 나누어 떨어지는 경우\n",
    "- 3으로 나누어 떨어지는 경우\n",
    "- 5로 나누고 남은 값이 3으로 나누어 떨어지는 경우 -> 3의 배수인 경우보다 봉지수가 적음. \n",
    "- 5로 나누고 남은 값이 3으로 나누어 떨어지지 않는 경우 -> -1 출력\n"
   ]
  },
  {
   "cell_type": "code",
   "execution_count": 56,
   "metadata": {
    "ExecuteTime": {
     "end_time": "2020-04-02T03:00:19.763732Z",
     "start_time": "2020-04-02T03:00:18.384120Z"
    }
   },
   "outputs": [
    {
     "name": "stdout",
     "output_type": "stream",
     "text": [
      "9\n"
     ]
    }
   ],
   "source": [
    "sugar = int(input())"
   ]
  },
  {
   "cell_type": "markdown",
   "metadata": {},
   "source": [
    "- 5의 배수인지 몫을 늘려가면서 남은 값이 3의 배수인지도 확인해봐야겠음."
   ]
  },
  {
   "cell_type": "code",
   "execution_count": 46,
   "metadata": {
    "ExecuteTime": {
     "end_time": "2020-04-02T02:41:56.788841Z",
     "start_time": "2020-04-02T02:41:56.778843Z"
    }
   },
   "outputs": [
    {
     "name": "stdout",
     "output_type": "stream",
     "text": [
      "i 2\n",
      "sugar2 1 3\n",
      "sugar2 1 2\n",
      "sugar2 1 1\n",
      "i 1\n",
      "sugar2 6 3\n",
      "sugar2 6 2\n",
      "i+j 3\n",
      "-1\n"
     ]
    }
   ],
   "source": [
    "max5 = sugar // 5\n",
    "max3 = sugar // 3\n",
    "for i in range(max5, 0, -1):\n",
    "    print('i', i)\n",
    "    if sugar - (i* 5) == 0: \n",
    "        print('i', i)\n",
    "        break\n",
    "    else:\n",
    "        for j in range(max3, 0, -1):\n",
    "            sugar2 = sugar -(5*i)\n",
    "            print('sugar2',sugar2,j)\n",
    "            if sugar2 - (3*j) == 0:\n",
    "                print('i+j',i + j)\n",
    "                break\n",
    "            else:\n",
    "                continue   \n",
    "else:\n",
    "    print(-1)\n",
    "                \n",
    "               "
   ]
  },
  {
   "cell_type": "markdown",
   "metadata": {
    "ExecuteTime": {
     "end_time": "2020-04-02T03:01:28.498549Z",
     "start_time": "2020-04-02T03:01:28.491555Z"
    }
   },
   "source": [
    "- for문을 2개 사용하니...break문을 사용해서 빠져나와도 바깥 for문이 돌아가고 있음..ㅠ\n",
    "- 다른 방법으로 도전해보자"
   ]
  },
  {
   "cell_type": "code",
   "execution_count": 59,
   "metadata": {
    "ExecuteTime": {
     "end_time": "2020-04-02T03:01:32.762389Z",
     "start_time": "2020-04-02T03:01:32.746758Z"
    }
   },
   "outputs": [
    {
     "name": "stdout",
     "output_type": "stream",
     "text": [
      "3\n"
     ]
    }
   ],
   "source": [
    "max5 = sugar //5\n",
    "max3 = sugar//3\n",
    "\n",
    "result = 5000\n",
    "for i in range(max5, -1, -1):\n",
    "    for j in range(max3, -1, -1):\n",
    "        if sugar == (i*5) + (j*3) :\n",
    "            result = i + j\n",
    "            \n",
    "if result == 5000:\n",
    "    print(-1)\n",
    "else:\n",
    "    print(result)\n",
    "\n",
    "        "
   ]
  },
  {
   "cell_type": "markdown",
   "metadata": {},
   "source": [
    "#### 결과"
   ]
  },
  {
   "cell_type": "markdown",
   "metadata": {
    "ExecuteTime": {
     "end_time": "2020-02-10T01:09:09.720273Z",
     "start_time": "2020-02-10T01:09:09.703301Z"
    }
   },
   "source": [
    "![2839_1](images/2839_1.png)"
   ]
  },
  {
   "cell_type": "markdown",
   "metadata": {
    "ExecuteTime": {
     "end_time": "2020-04-01T02:12:38.086112Z",
     "start_time": "2020-04-01T02:12:38.079109Z"
    }
   },
   "source": [
    "## 2. 풀이\n",
    "> 틀렸습니다\n",
    "- 5로 먼저 나누고 난 후, 3으로 나누는 것을 고려해야 함.\n",
    "- 결과값을 모두 리스트에 저장한 후, 가장 적은 수를 출력해야겠음."
   ]
  },
  {
   "cell_type": "code",
   "execution_count": 60,
   "metadata": {
    "ExecuteTime": {
     "end_time": "2020-04-02T03:03:23.316969Z",
     "start_time": "2020-04-02T03:03:21.476682Z"
    }
   },
   "outputs": [
    {
     "name": "stdout",
     "output_type": "stream",
     "text": [
      "18\n"
     ]
    }
   ],
   "source": [
    "sugar = int(input())"
   ]
  },
  {
   "cell_type": "code",
   "execution_count": 64,
   "metadata": {
    "ExecuteTime": {
     "end_time": "2020-04-02T03:06:28.704001Z",
     "start_time": "2020-04-02T03:06:28.688996Z"
    }
   },
   "outputs": [
    {
     "name": "stdout",
     "output_type": "stream",
     "text": [
      "4\n"
     ]
    }
   ],
   "source": [
    "max5 = sugar //5\n",
    "max3 = sugar//3\n",
    "\n",
    "\n",
    "result = []\n",
    "for i in range(max5, -1, -1):\n",
    "    for j in range(max3, -1, -1):\n",
    "        if sugar == (i*5) + (j*3) :\n",
    "            result.append(i + j)\n",
    "            \n",
    "            \n",
    "if len(result) ==0:\n",
    "    print(-1)\n",
    "else:\n",
    "    print(min(result))"
   ]
  },
  {
   "cell_type": "markdown",
   "metadata": {},
   "source": [
    "#### 결과"
   ]
  },
  {
   "cell_type": "markdown",
   "metadata": {
    "ExecuteTime": {
     "end_time": "2020-04-02T03:08:35.244164Z",
     "start_time": "2020-04-02T03:08:35.173128Z"
    }
   },
   "source": [
    "![2839_2](images/2839_2.png)"
   ]
  },
  {
   "cell_type": "code",
   "execution_count": null,
   "metadata": {},
   "outputs": [],
   "source": []
  }
 ],
 "metadata": {
  "kernelspec": {
   "display_name": "Python 3",
   "language": "python",
   "name": "python3"
  },
  "language_info": {
   "codemirror_mode": {
    "name": "ipython",
    "version": 3
   },
   "file_extension": ".py",
   "mimetype": "text/x-python",
   "name": "python",
   "nbconvert_exporter": "python",
   "pygments_lexer": "ipython3",
   "version": "3.7.6"
  },
  "toc": {
   "base_numbering": 1,
   "nav_menu": {},
   "number_sections": false,
   "sideBar": true,
   "skip_h1_title": false,
   "title_cell": "Table of Contents",
   "title_sidebar": "Contents",
   "toc_cell": false,
   "toc_position": {
    "height": "calc(100% - 180px)",
    "left": "10px",
    "top": "150px",
    "width": "191.594px"
   },
   "toc_section_display": true,
   "toc_window_display": false
  },
  "varInspector": {
   "cols": {
    "lenName": 16,
    "lenType": 16,
    "lenVar": 40
   },
   "kernels_config": {
    "python": {
     "delete_cmd_postfix": "",
     "delete_cmd_prefix": "del ",
     "library": "var_list.py",
     "varRefreshCmd": "print(var_dic_list())"
    },
    "r": {
     "delete_cmd_postfix": ") ",
     "delete_cmd_prefix": "rm(",
     "library": "var_list.r",
     "varRefreshCmd": "cat(var_dic_list()) "
    }
   },
   "types_to_exclude": [
    "module",
    "function",
    "builtin_function_or_method",
    "instance",
    "_Feature"
   ],
   "window_display": false
  }
 },
 "nbformat": 4,
 "nbformat_minor": 2
}
