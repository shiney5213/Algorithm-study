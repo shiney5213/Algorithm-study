{
 "cells": [
  {
   "cell_type": "markdown",
   "metadata": {},
   "source": [
    "# 백준 1316번 문제\n",
    "- https://www.acmicpc.net/problem/1316\n",
    "\n",
    "##  문제\n",
    "- 그룹 단어란 단어에 존재하는 모든 문자에 대해서, 각 문자가 연속해서 나타나는 경우만을 말한다. 예를 들면, ccazzzzbb는 c, a, z, b가 모두 연속해서 나타나고, kin도 k, i, n이 연속해서 나타나기 때문에 그룹 단어이지만, aabbbccb는 b가 떨어져서 나타나기 때문에 그룹 단어가 아니다.\n",
    "\n",
    "- 단어 N개를 입력으로 받아 그룹 단어의 개수를 출력하는 프로그램을 작성하시오.\n",
    "\n",
    "> 입력\n",
    "- 첫째 줄에 단어의 개수 N이 들어온다. N은 100보다 작거나 같은 자연수이다. 둘째 줄부터 N개의 줄에 단어가 들어온다. 단어는 알파벳 소문자로만 되어있고 중복되지 않으며, 길이는 최대 100이다.\n",
    "- 예\n",
    "- 3\n",
    "- happy\n",
    "- new\n",
    "- year\n",
    "\n",
    "\n",
    "> 출력\n",
    "- 첫째 줄에 그룹 단어의 개수를 출력한다.\n",
    "- 예\n",
    "- 3"
   ]
  },
  {
   "cell_type": "markdown",
   "metadata": {
    "ExecuteTime": {
     "end_time": "2020-02-07T04:17:28.198938Z",
     "start_time": "2020-02-07T04:17:28.195946Z"
    }
   },
   "source": [
    "## 1.풀이\n",
    "- 각 알파벳이 떨어져서 중복해서 나오면 그룹단어가 아님\n",
    "- 입력받은 문자를 set로 처리한 후, for문을 돌면서 나타는 원소들을 삭제,\n",
    "- 떨어져서 다시 나타난 문자를 제거하려고 하면 errer 발생. 이 단어들은 그룹단어가 아닌 것으로 처리"
   ]
  },
  {
   "cell_type": "code",
   "execution_count": 8,
   "metadata": {
    "ExecuteTime": {
     "end_time": "2020-03-31T02:41:57.443070Z",
     "start_time": "2020-03-31T02:41:57.439069Z"
    }
   },
   "outputs": [],
   "source": [
    "from collections import Counter"
   ]
  },
  {
   "cell_type": "code",
   "execution_count": 16,
   "metadata": {
    "ExecuteTime": {
     "end_time": "2020-03-31T02:45:09.105230Z",
     "start_time": "2020-03-31T02:45:07.415382Z"
    },
    "scrolled": true
   },
   "outputs": [
    {
     "name": "stdout",
     "output_type": "stream",
     "text": [
      "4\n"
     ]
    }
   ],
   "source": [
    "N = int(input())"
   ]
  },
  {
   "cell_type": "code",
   "execution_count": 17,
   "metadata": {
    "ExecuteTime": {
     "end_time": "2020-03-31T02:45:21.954198Z",
     "start_time": "2020-03-31T02:45:10.200187Z"
    }
   },
   "outputs": [
    {
     "name": "stdout",
     "output_type": "stream",
     "text": [
      "0 4\n",
      "aba\n",
      "a {'b', 'a'}\n",
      "b {'b'}\n",
      "a set()\n",
      "err 'a'\n",
      "1 3\n",
      "abab\n",
      "a {'b', 'a'}\n",
      "b {'b'}\n",
      "a set()\n",
      "err 'a'\n",
      "2 2\n",
      "abcanc\n",
      "a {'b', 'a', 'c', 'n'}\n",
      "b {'b', 'c', 'n'}\n",
      "c {'c', 'n'}\n",
      "a {'n'}\n",
      "err 'a'\n",
      "3 1\n",
      "a\n",
      "a {'a'}\n",
      "N 1\n"
     ]
    }
   ],
   "source": [
    "for j in range(N):\n",
    "    print(j, N)\n",
    "    s = input()\n",
    "    s_set = set(s)\n",
    "\n",
    "    for i in range(len(s)):\n",
    "        print(s[i], s_set)\n",
    "        if i == 0:\n",
    "            s_set.remove(s[i])\n",
    "        else: \n",
    "            if s[i] == s[i-1]:\n",
    "                pass\n",
    "            else:\n",
    "                try:\n",
    "                    s_set.remove(s[i])\n",
    "                except Exception as err:\n",
    "                    N = N- 1\n",
    "                    print('err',err)\n",
    "                    \n",
    "print('N',N)"
   ]
  },
  {
   "cell_type": "markdown",
   "metadata": {},
   "source": [
    "#### 결과"
   ]
  },
  {
   "cell_type": "markdown",
   "metadata": {
    "ExecuteTime": {
     "end_time": "2020-02-10T01:09:09.720273Z",
     "start_time": "2020-02-10T01:09:09.703301Z"
    }
   },
   "source": [
    "![1316_1](images/1316_1.png)"
   ]
  },
  {
   "cell_type": "markdown",
   "metadata": {},
   "source": [
    "## 2. 풀이\n",
    "- err를 일으키는 여러개의 문자가 있는 경우, break문으로 빠져나와야 함."
   ]
  },
  {
   "cell_type": "code",
   "execution_count": null,
   "metadata": {},
   "outputs": [],
   "source": [
    "for j in range(N):\n",
    "#### 결과\n",
    "\n",
    "![1316_1](images/1316_1.png)    s = input()\n",
    "    s_set = set(s)\n",
    "\n",
    "    for i in range(len(s)):\n",
    "        if i == 0:\n",
    "            s_set.remove(s[i])\n",
    "        else: \n",
    "            if s[i] == s[i-1]:\n",
    "                pass\n",
    "            else:\n",
    "                try:\n",
    "                    s_set.remove(s[i])\n",
    "                except Exception as err:\n",
    "                    N = N- 1\n",
    "                    \n",
    "print(N)"
   ]
  },
  {
   "cell_type": "markdown",
   "metadata": {},
   "source": [
    "#### 결과"
   ]
  },
  {
   "cell_type": "markdown",
   "metadata": {
    "ExecuteTime": {
     "end_time": "2020-02-10T01:09:09.720273Z",
     "start_time": "2020-02-10T01:09:09.703301Z"
    }
   },
   "source": [
    "![1316_2](images/1316_2.png)"
   ]
  },
  {
   "cell_type": "code",
   "execution_count": null,
   "metadata": {},
   "outputs": [],
   "source": []
  }
 ],
 "metadata": {
  "kernelspec": {
   "display_name": "Python 3",
   "language": "python",
   "name": "python3"
  },
  "language_info": {
   "codemirror_mode": {
    "name": "ipython",
    "version": 3
   },
   "file_extension": ".py",
   "mimetype": "text/x-python",
   "name": "python",
   "nbconvert_exporter": "python",
   "pygments_lexer": "ipython3",
   "version": "3.7.6"
  },
  "toc": {
   "base_numbering": 1,
   "nav_menu": {},
   "number_sections": false,
   "sideBar": true,
   "skip_h1_title": false,
   "title_cell": "Table of Contents",
   "title_sidebar": "Contents",
   "toc_cell": false,
   "toc_position": {
    "height": "calc(100% - 180px)",
    "left": "10px",
    "top": "150px",
    "width": "191.594px"
   },
   "toc_section_display": true,
   "toc_window_display": true
  },
  "varInspector": {
   "cols": {
    "lenName": 16,
    "lenType": 16,
    "lenVar": 40
   },
   "kernels_config": {
    "python": {
     "delete_cmd_postfix": "",
     "delete_cmd_prefix": "del ",
     "library": "var_list.py",
     "varRefreshCmd": "print(var_dic_list())"
    },
    "r": {
     "delete_cmd_postfix": ") ",
     "delete_cmd_prefix": "rm(",
     "library": "var_list.r",
     "varRefreshCmd": "cat(var_dic_list()) "
    }
   },
   "types_to_exclude": [
    "module",
    "function",
    "builtin_function_or_method",
    "instance",
    "_Feature"
   ],
   "window_display": false
  }
 },
 "nbformat": 4,
 "nbformat_minor": 2
}
