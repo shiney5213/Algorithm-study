{
 "cells": [
  {
   "cell_type": "markdown",
   "metadata": {},
   "source": [
    "# 백준 1929번 문제\n",
    "- https://www.acmicpc.net/problem/1929\n",
    "\n",
    "##  1.문제\n",
    "- M이상 N이하의 소수를 모두 출력하는 프로그램을 작성하시오.\n",
    "\n",
    "> 입력\n",
    "- 첫째 줄에 자연수 M과 N이 빈 칸을 사이에 두고 주어진다. (1 ≤ M ≤ N ≤ 1,000,000) M이상 N이하의 소수가 하나 이상 있는 입력만 주어진다.\n",
    "- 예\n",
    "- 3 16\n",
    "\n",
    ">출력\n",
    "- 한 줄에 하나씩, 증가하는 순서대로 소수를 출력한다.\n",
    "\n",
    "\n",
    "\n",
    "- 단, M이상 N이하의 자연수 중 소수가 없을 경우는 첫째 줄에 -1을 출력한다.\n",
    "- 예\n",
    "- 3\n",
    "- 5\n",
    "- 7\n",
    "- 11\n",
    "- 13"
   ]
  },
  {
   "cell_type": "markdown",
   "metadata": {
    "ExecuteTime": {
     "end_time": "2020-02-07T04:17:28.198938Z",
     "start_time": "2020-02-07T04:17:28.195946Z"
    }
   },
   "source": [
    "## 2.풀이\n",
    "> 소수\n",
    "- 약수가 1과 자기 자신인 수 이므로..\n",
    "- 약수의 개수를 세어서 2개인 수의 개수를 출력하자"
   ]
  },
  {
   "cell_type": "code",
   "execution_count": 1,
   "metadata": {
    "ExecuteTime": {
     "end_time": "2020-04-20T23:51:30.451941Z",
     "start_time": "2020-04-20T23:51:29.362955Z"
    }
   },
   "outputs": [
    {
     "name": "stdout",
     "output_type": "stream",
     "text": [
      "3 16\n"
     ]
    }
   ],
   "source": [
    "min_num, max_num = map(int, input().split())"
   ]
  },
  {
   "cell_type": "code",
   "execution_count": 2,
   "metadata": {
    "ExecuteTime": {
     "end_time": "2020-04-20T23:51:32.556944Z",
     "start_time": "2020-04-20T23:51:31.553980Z"
    }
   },
   "outputs": [
    {
     "data": {
      "text/plain": [
       "(3, 16)"
      ]
     },
     "execution_count": 2,
     "metadata": {},
     "output_type": "execute_result"
    }
   ],
   "source": [
    "min_num, max_num "
   ]
  },
  {
   "cell_type": "code",
   "execution_count": 10,
   "metadata": {
    "ExecuteTime": {
     "end_time": "2020-04-20T23:51:33.102159Z",
     "start_time": "2020-04-20T23:51:33.091154Z"
    }
   },
   "outputs": [
    {
     "name": "stdout",
     "output_type": "stream",
     "text": [
      "3\n",
      "5\n",
      "7\n",
      "11\n",
      "13\n"
     ]
    }
   ],
   "source": [
    "for j in range(min_num, max_num+1):\n",
    "    yaksu_list = []\n",
    "    for i in range(1,j+1):\n",
    "        if j % i == 0:\n",
    "            yaksu_list.append(i)\n",
    "    if len(yaksu_list)==2:\n",
    "        print(j)\n"
   ]
  },
  {
   "cell_type": "markdown",
   "metadata": {},
   "source": [
    "#### 결과"
   ]
  },
  {
   "cell_type": "markdown",
   "metadata": {
    "ExecuteTime": {
     "end_time": "2020-04-06T07:32:57.500370Z",
     "start_time": "2020-04-06T07:32:57.387374Z"
    }
   },
   "source": [
    "![1929_1](./images/1929_1.png)"
   ]
  },
  {
   "cell_type": "markdown",
   "metadata": {
    "ExecuteTime": {
     "end_time": "2020-04-20T23:54:49.773698Z",
     "start_time": "2020-04-20T23:54:49.766701Z"
    }
   },
   "source": [
    "## 2. 풀이\n",
    "> 시간초과\n",
    "- 약수의 개수가 2개를 넘어가면 break문으로 빠져나오자"
   ]
  },
  {
   "cell_type": "code",
   "execution_count": 12,
   "metadata": {
    "ExecuteTime": {
     "end_time": "2020-04-21T00:25:10.639552Z",
     "start_time": "2020-04-21T00:25:08.084401Z"
    },
    "scrolled": true
   },
   "outputs": [
    {
     "name": "stdout",
     "output_type": "stream",
     "text": [
      "3 16\n",
      "i, j 1 3\n",
      "i, j 2 3\n",
      "i, j 3 3\n",
      "3\n",
      "i, j 1 4\n",
      "i, j 2 4\n",
      "i, j 3 4\n",
      "i, j 4 4\n",
      "i, j 1 5\n",
      "i, j 2 5\n",
      "i, j 3 5\n",
      "i, j 4 5\n",
      "i, j 5 5\n",
      "5\n",
      "i, j 1 6\n",
      "i, j 2 6\n",
      "i, j 3 6\n",
      "i, j 1 7\n",
      "i, j 2 7\n",
      "i, j 3 7\n",
      "i, j 4 7\n",
      "i, j 5 7\n",
      "i, j 6 7\n",
      "i, j 7 7\n",
      "7\n",
      "i, j 1 8\n",
      "i, j 2 8\n",
      "i, j 3 8\n",
      "i, j 4 8\n",
      "i, j 1 9\n",
      "i, j 2 9\n",
      "i, j 3 9\n",
      "i, j 4 9\n",
      "i, j 5 9\n",
      "i, j 6 9\n",
      "i, j 7 9\n",
      "i, j 8 9\n",
      "i, j 9 9\n",
      "i, j 1 10\n",
      "i, j 2 10\n",
      "i, j 3 10\n",
      "i, j 4 10\n",
      "i, j 5 10\n",
      "i, j 1 11\n",
      "i, j 2 11\n",
      "i, j 3 11\n",
      "i, j 4 11\n",
      "i, j 5 11\n",
      "i, j 6 11\n",
      "i, j 7 11\n",
      "i, j 8 11\n",
      "i, j 9 11\n",
      "i, j 10 11\n",
      "i, j 11 11\n",
      "11\n",
      "i, j 1 12\n",
      "i, j 2 12\n",
      "i, j 3 12\n",
      "i, j 1 13\n",
      "i, j 2 13\n",
      "i, j 3 13\n",
      "i, j 4 13\n",
      "i, j 5 13\n",
      "i, j 6 13\n",
      "i, j 7 13\n",
      "i, j 8 13\n",
      "i, j 9 13\n",
      "i, j 10 13\n",
      "i, j 11 13\n",
      "i, j 12 13\n",
      "i, j 13 13\n",
      "13\n",
      "i, j 1 14\n",
      "i, j 2 14\n",
      "i, j 3 14\n",
      "i, j 4 14\n",
      "i, j 5 14\n",
      "i, j 6 14\n",
      "i, j 7 14\n",
      "i, j 1 15\n",
      "i, j 2 15\n",
      "i, j 3 15\n",
      "i, j 4 15\n",
      "i, j 5 15\n",
      "i, j 1 16\n",
      "i, j 2 16\n",
      "i, j 3 16\n",
      "i, j 4 16\n"
     ]
    }
   ],
   "source": [
    "min_num, max_num = map(int, input().split())\n",
    "for j in range(min_num, max_num+1):\n",
    "    yaksu_list = []\n",
    "    \n",
    "    for i in range(1,j+1):\n",
    "        print('i, j',i, j)\n",
    "        if j % i == 0:\n",
    "            yaksu_list.append(i)\n",
    "        if len(yaksu_list)>2:\n",
    "            break\n",
    "    if len(yaksu_list)==2:\n",
    "        print(j)"
   ]
  },
  {
   "cell_type": "markdown",
   "metadata": {},
   "source": [
    "#### 결과"
   ]
  },
  {
   "cell_type": "markdown",
   "metadata": {
    "ExecuteTime": {
     "end_time": "2020-04-06T07:32:57.500370Z",
     "start_time": "2020-04-06T07:32:57.387374Z"
    }
   },
   "source": [
    "![1929_2](./images/1929_2.png)"
   ]
  },
  {
   "cell_type": "markdown",
   "metadata": {},
   "source": [
    "## 3.풀이 \n",
    "> 소수의 특징을 이용하자\n",
    "- 참고: https://www.google.com/search?q=%EC%86%8C%EC%88%98%EC%9D%98+%ED%8A%B9%EC%A7%95&rlz=1C1CAFC_enKR899KR899&oq=%EC%86%8C%EC%88%98%EC%9D%98+%ED%8A%B9%EC%A7%95&aqs=chrome..69i57.2868j0j7&sourceid=chrome&ie=UTF-8\n",
    "- 모든 짝수는 소수가 아니지만, 2는 소수임 -> 역은 소수임\n",
    "- 2,3,을 제외한 모든 소수는 자연수 n에 대하여 6n -1 혹은 6n + 1꼴 -> 역은 성립하지 않음."
   ]
  },
  {
   "cell_type": "code",
   "execution_count": 1,
   "metadata": {},
   "outputs": [
    {
     "name": "stdout",
     "output_type": "stream",
     "text": [
      "3 16\n"
     ]
    }
   ],
   "source": [
    "min_num, max_num = map(int, input().split())"
   ]
  },
  {
   "cell_type": "code",
   "execution_count": 14,
   "metadata": {},
   "outputs": [
    {
     "name": "stdout",
     "output_type": "stream",
     "text": [
      "3\n",
      "5\n",
      "7\n",
      "11\n",
      "13\n"
     ]
    }
   ],
   "source": [
    "sosu =[]\n",
    "for j in range(min_num, max_num+1):\n",
    "    yaksu = []\n",
    "    for i in range(2,j+1):\n",
    "        if j == 2 or j == 3:\n",
    "            print(j)\n",
    "            break\n",
    "        if j % 2 == 0 :\n",
    "            break\n",
    "        if j % i == 0:\n",
    "            yaksu.append(i)\n",
    "        if len(yaksu)>2:\n",
    "            break\n",
    "    if len(yaksu)==1:\n",
    "        print(j)"
   ]
  },
  {
   "cell_type": "markdown",
   "metadata": {},
   "source": [
    "#### 결과"
   ]
  },
  {
   "cell_type": "markdown",
   "metadata": {},
   "source": [
    "![1929_3](./images/1929_3.png)"
   ]
  },
  {
   "cell_type": "markdown",
   "metadata": {},
   "source": [
    "## 4. 풀이\n",
    "> 다른 사이트 참고\n",
    "- https://hongku.tistory.com/274\n",
    "- 시간을 아끼기 위해 입력한 수의 제곱근까지만 계산하기!"
   ]
  },
  {
   "cell_type": "code",
   "execution_count": 20,
   "metadata": {},
   "outputs": [
    {
     "name": "stdout",
     "output_type": "stream",
     "text": [
      "3.1622776601683795\n"
     ]
    }
   ],
   "source": [
    "# 제곱근 구하기\n",
    "num= 10\n",
    "print(num**(1/2))"
   ]
  },
  {
   "cell_type": "code",
   "execution_count": 21,
   "metadata": {},
   "outputs": [
    {
     "name": "stdout",
     "output_type": "stream",
     "text": [
      "3 16\n"
     ]
    }
   ],
   "source": [
    "min_num, max_num = map(int, input().split())\n"
   ]
  },
  {
   "cell_type": "code",
   "execution_count": 41,
   "metadata": {},
   "outputs": [
    {
     "name": "stdout",
     "output_type": "stream",
     "text": [
      "3\n",
      "5\n",
      "7\n",
      "11\n",
      "13\n"
     ]
    }
   ],
   "source": [
    "sosu =[]\n",
    "for j in range(min_num, max_num+1):\n",
    "    yaksu = []\n",
    "    j2 = int(j ** (1/2))\n",
    "    for i in range(1,j2+1):\n",
    "        if j == 2 or j == 3:\n",
    "            print(j)\n",
    "            break\n",
    "        if j % 2 == 0 :\n",
    "            break\n",
    "        if j % i == 0:\n",
    "            yaksu.append(i)\n",
    "        if len(yaksu) > 2:\n",
    "            break\n",
    "    if len(yaksu)==1:\n",
    "        print(j)"
   ]
  },
  {
   "cell_type": "markdown",
   "metadata": {},
   "source": [
    "#### 결과"
   ]
  },
  {
   "cell_type": "markdown",
   "metadata": {},
   "source": [
    "![1929_4](./images/1929_4.png)"
   ]
  },
  {
   "cell_type": "markdown",
   "metadata": {},
   "source": [
    "왜 안되는 걸까........ㅜㅠ"
   ]
  },
  {
   "cell_type": "code",
   "execution_count": null,
   "metadata": {},
   "outputs": [],
   "source": []
  }
 ],
 "metadata": {
  "kernelspec": {
   "display_name": "Python 3",
   "language": "python",
   "name": "python3"
  },
  "language_info": {
   "codemirror_mode": {
    "name": "ipython",
    "version": 3
   },
   "file_extension": ".py",
   "mimetype": "text/x-python",
   "name": "python",
   "nbconvert_exporter": "python",
   "pygments_lexer": "ipython3",
   "version": "3.6.10"
  },
  "toc": {
   "base_numbering": 1,
   "nav_menu": {},
   "number_sections": false,
   "sideBar": true,
   "skip_h1_title": false,
   "title_cell": "Table of Contents",
   "title_sidebar": "Contents",
   "toc_cell": false,
   "toc_position": {
    "height": "calc(100% - 180px)",
    "left": "10px",
    "top": "150px",
    "width": "191.583px"
   },
   "toc_section_display": true,
   "toc_window_display": false
  },
  "varInspector": {
   "cols": {
    "lenName": 16,
    "lenType": 16,
    "lenVar": 40
   },
   "kernels_config": {
    "python": {
     "delete_cmd_postfix": "",
     "delete_cmd_prefix": "del ",
     "library": "var_list.py",
     "varRefreshCmd": "print(var_dic_list())"
    },
    "r": {
     "delete_cmd_postfix": ") ",
     "delete_cmd_prefix": "rm(",
     "library": "var_list.r",
     "varRefreshCmd": "cat(var_dic_list()) "
    }
   },
   "types_to_exclude": [
    "module",
    "function",
    "builtin_function_or_method",
    "instance",
    "_Feature"
   ],
   "window_display": false
  }
 },
 "nbformat": 4,
 "nbformat_minor": 2
}
