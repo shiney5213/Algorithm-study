{
 "cells": [
  {
   "cell_type": "markdown",
   "metadata": {},
   "source": [
    "# 백준 2231번 문제\n",
    "- https://www.acmicpc.net/problem/2231\n",
    "\n",
    "##  1.문제\n",
    "- 어떤 자연수 N이 있을 때, 그 자연수 N의 분해합은 N과 N을 이루는 각 자리수의 합을 의미한다. 어떤 자연수 M의 분해합이 N인 경우, M을 N의 생성자라 한다. 예를 들어, 245의 분해합은 256(=245+2+4+5)이 된다. 따라서 245는 256의 생성자가 된다. 물론, 어떤 자연수의 경우에는 생성자가 없을 수도 있다. 반대로, 생성자가 여러 개인 자연수도 있을 수 있다.\n",
    "- 자연수 N이 주어졌을 때, N의 가장 작은 생성자를 구해내는 프로그램을 작성하시오.\n",
    "\n",
    "> 입력\n",
    "- 첫째 줄에 자연수 N(1 ≤ N ≤ 1,000,000)이 주어진다.\n",
    "- 예\n",
    "- 216\n",
    "\n",
    "> 출력\n",
    "- 첫째 줄에 답을 출력한다. 생성자가 없는 경우에는 0을 출력한다.\n",
    "- 예\n",
    "- 198\n",
    "\n"
   ]
  },
  {
   "cell_type": "markdown",
   "metadata": {
    "ExecuteTime": {
     "end_time": "2020-02-07T04:17:28.198938Z",
     "start_time": "2020-02-07T04:17:28.195946Z"
    }
   },
   "source": [
    "## 2.풀이\n",
    "- 분해합=N + N을 이루는 각 자리수의 합\n",
    "- 자연수 M(245), 분해합 N(256)\n",
    "- 분해합이 주어졌을 때 가장 작은 생성자 M을 출력하기\n",
    "\n",
    "> 풀이\n",
    "- N이 몇 자리수인지에 따라 돌아가는 for문의개수가 달라질듯..."
   ]
  },
  {
   "cell_type": "code",
   "execution_count": 39,
   "metadata": {},
   "outputs": [
    {
     "name": "stdout",
     "output_type": "stream",
     "text": [
      "216\n"
     ]
    }
   ],
   "source": [
    "N= input()"
   ]
  },
  {
   "cell_type": "code",
   "execution_count": 47,
   "metadata": {},
   "outputs": [
    {
     "name": "stdout",
     "output_type": "stream",
     "text": [
      "198\n"
     ]
    }
   ],
   "source": [
    "M = []\n",
    "for i in range(1,10):\n",
    "    for j in range(1, 10):\n",
    "        for s in range(1, 10):\n",
    "            il = i* (10 ** 0)\n",
    "            sib = j * (10 **1)\n",
    "            bac = s * (10 ** 2)\n",
    "            m = il + sib + bac\n",
    "#             print(m)\n",
    "            if  int(N) == i + j + s + m:\n",
    "                M.append( m)\n",
    "print(min(M))"
   ]
  },
  {
   "cell_type": "markdown",
   "metadata": {},
   "source": [
    "#### 일반화시켜보자...N의 자리수를 이용! ............하려고 했지만 실패해서 다른 분 코드 참조...\n",
    "- https://claude-u.tistory.com/116\n",
    "- 단순하지만........이렇게 풀었어야 했나보다ㅠ"
   ]
  },
  {
   "cell_type": "code",
   "execution_count": 77,
   "metadata": {},
   "outputs": [
    {
     "name": "stdout",
     "output_type": "stream",
     "text": [
      "216\n"
     ]
    }
   ],
   "source": [
    "N = int(input())"
   ]
  },
  {
   "cell_type": "code",
   "execution_count": 82,
   "metadata": {},
   "outputs": [
    {
     "name": "stdout",
     "output_type": "stream",
     "text": [
      "198\n"
     ]
    }
   ],
   "source": [
    "M = []\n",
    "m = 0\n",
    "\n",
    "for i in range(1, N+1):\n",
    "    div_i = list(map(int, str(i)))\n",
    "    m = i + sum(div_i)\n",
    "    if m == N:\n",
    "        M.append(i)\n",
    "        \n",
    "if len(M)>1:\n",
    "    print(min(M))\n",
    "else:\n",
    "    print(0)\n",
    "    "
   ]
  },
  {
   "cell_type": "markdown",
   "metadata": {},
   "source": [
    "#### 결과\n",
    "![2231_1](images/2231_1.png)"
   ]
  },
  {
   "cell_type": "markdown",
   "metadata": {},
   "source": [
    "## 2. 풀이\n",
    "> 틀렸습니다.\n",
    "- 다른 분 걸 참고했는데도 틀리다니..ㅜㅠ"
   ]
  },
  {
   "cell_type": "code",
   "execution_count": null,
   "metadata": {},
   "outputs": [],
   "source": []
  }
 ],
 "metadata": {
  "kernelspec": {
   "display_name": "Python 3",
   "language": "python",
   "name": "python3"
  },
  "language_info": {
   "codemirror_mode": {
    "name": "ipython",
    "version": 3
   },
   "file_extension": ".py",
   "mimetype": "text/x-python",
   "name": "python",
   "nbconvert_exporter": "python",
   "pygments_lexer": "ipython3",
   "version": "3.6.10"
  },
  "toc": {
   "base_numbering": 1,
   "nav_menu": {},
   "number_sections": false,
   "sideBar": true,
   "skip_h1_title": false,
   "title_cell": "Table of Contents",
   "title_sidebar": "Contents",
   "toc_cell": false,
   "toc_position": {
    "height": "calc(100% - 180px)",
    "left": "10px",
    "top": "150px",
    "width": "191.583px"
   },
   "toc_section_display": true,
   "toc_window_display": false
  },
  "varInspector": {
   "cols": {
    "lenName": 16,
    "lenType": 16,
    "lenVar": 40
   },
   "kernels_config": {
    "python": {
     "delete_cmd_postfix": "",
     "delete_cmd_prefix": "del ",
     "library": "var_list.py",
     "varRefreshCmd": "print(var_dic_list())"
    },
    "r": {
     "delete_cmd_postfix": ") ",
     "delete_cmd_prefix": "rm(",
     "library": "var_list.r",
     "varRefreshCmd": "cat(var_dic_list()) "
    }
   },
   "types_to_exclude": [
    "module",
    "function",
    "builtin_function_or_method",
    "instance",
    "_Feature"
   ],
   "window_display": false
  }
 },
 "nbformat": 4,
 "nbformat_minor": 2
}
