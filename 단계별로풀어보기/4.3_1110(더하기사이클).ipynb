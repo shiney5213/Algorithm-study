{
 "cells": [
  {
   "cell_type": "markdown",
   "metadata": {},
   "source": [
    "# 백준 1110번 문제\n",
    "- https://www.acmicpc.net/problem/1110\n",
    "\n",
    "##  문제\n",
    "- 0보다 크거나 같고, 99보다 작거나 같은 정수가 주어질 때 다음과 같은 연산을 할 수 있다. \n",
    "- 먼저 주어진 수가 10보다 작다면 앞에 0을 붙여 두 자리 수로 만들고, 각 자리의 숫자를 더한다. \n",
    "- 그 다음, 주어진 수의 가장 오른쪽 자리 수와 앞에서 구한 합의 가장 오른쪽 자리 수를 이어 붙이면 새로운 수를 만들 수 있다. 다음 예를 보자.\n",
    "- 26부터 시작한다. 2+6 = 8이다. 새로운 수는 68이다. 6+8 = 14이다. 새로운 수는 84이다. 8+4 = 12이다. 새로운 수는 42이다. 4+2 = 6이다. 새로운 수는 26이다.\n",
    "- 위의 예는 4번만에 원래 수로 돌아올 수 있다. 따라서 26의 사이클의 길이는 4이다.\n",
    "- N이 주어졌을 때, N의 사이클의 길이를 구하는 프로그램을 작성하시오\n",
    "\n",
    "\n",
    "> 입력\n",
    "- 첫째 줄에 N이 주어진다. N은 0보다 크거나 같고, 99보다 작거나 같은 정수이다.\n",
    "\n",
    "\n",
    "\n",
    ">> 예:\n",
    "    - 26\n",
    "    - 55\n",
    "    - 1\n",
    "    - 9 8\n",
    "    - 5 2\n",
    "\n",
    "> 출력\n",
    "- 첫째 줄에 N의 사이클 길이를 출력한다.\n",
    "\n",
    "\n",
    ">> 예\n",
    "    - 4\n",
    "    - 3\n",
    "    - 60"
   ]
  },
  {
   "cell_type": "markdown",
   "metadata": {
    "ExecuteTime": {
     "end_time": "2020-02-07T04:17:28.198938Z",
     "start_time": "2020-02-07T04:17:28.195946Z"
    }
   },
   "source": [
    "## 1.풀이\n",
    "- while문을 사용해서 입력받은 N과 같은 수가 나오면 빠져나오자"
   ]
  },
  {
   "cell_type": "code",
   "execution_count": 93,
   "metadata": {
    "ExecuteTime": {
     "end_time": "2020-03-10T01:09:48.889112Z",
     "start_time": "2020-03-10T01:09:47.088114Z"
    }
   },
   "outputs": [
    {
     "name": "stdout",
     "output_type": "stream",
     "text": [
      "1\n"
     ]
    }
   ],
   "source": [
    "num = input()"
   ]
  },
  {
   "cell_type": "code",
   "execution_count": 94,
   "metadata": {
    "ExecuteTime": {
     "end_time": "2020-03-10T01:09:49.931111Z",
     "start_time": "2020-03-10T01:09:49.923111Z"
    }
   },
   "outputs": [
    {
     "name": "stdout",
     "output_type": "stream",
     "text": [
      "01\n"
     ]
    }
   ],
   "source": [
    "cnt = 1\n",
    "list_num = [int(i) for i in num]\n",
    "if len(list_num)==1:\n",
    "    next_num = '0'+ num\n",
    "else:\n",
    "    next_num=list_num\n",
    "\n",
    "print(next_num)    "
   ]
  },
  {
   "cell_type": "code",
   "execution_count": 95,
   "metadata": {
    "ExecuteTime": {
     "end_time": "2020-03-10T01:09:52.563115Z",
     "start_time": "2020-03-10T01:09:52.556115Z"
    },
    "scrolled": true
   },
   "outputs": [],
   "source": [
    "cnt = 1\n",
    "while(1):\n",
    "    sum_num = sum([int(i) for i in next_num])\n",
    "\n",
    "    list_num = [int(i) for i in str(sum_num)]\n",
    "\n",
    "    next_num= [ str(next_num[-1]), str(list_num[-1])]\n",
    "\n",
    "\n",
    "    new_num = ''.join(next_num)\n",
    "    if int(new_num)==int(num):\n",
    "        break\n",
    "    cnt += 1\n"
   ]
  },
  {
   "cell_type": "code",
   "execution_count": 96,
   "metadata": {
    "ExecuteTime": {
     "end_time": "2020-03-10T01:09:54.699115Z",
     "start_time": "2020-03-10T01:09:54.693112Z"
    }
   },
   "outputs": [
    {
     "name": "stdout",
     "output_type": "stream",
     "text": [
      "60\n"
     ]
    }
   ],
   "source": [
    "print(cnt)"
   ]
  },
  {
   "cell_type": "markdown",
   "metadata": {
    "ExecuteTime": {
     "end_time": "2020-02-10T02:35:18.218974Z",
     "start_time": "2020-02-10T02:35:18.216027Z"
    }
   },
   "source": [
    "### 결과"
   ]
  },
  {
   "cell_type": "markdown",
   "metadata": {
    "ExecuteTime": {
     "end_time": "2020-02-10T01:09:09.720273Z",
     "start_time": "2020-02-10T01:09:09.703301Z"
    }
   },
   "source": [
    "![1110_1](images/1110_1.png)"
   ]
  },
  {
   "cell_type": "markdown",
   "metadata": {},
   "source": [
    "- 지금까지 푼 문제 중 제일 알고리즘 같은 문제..\n",
    "- 시간이 오래 걸렸지만, 혼자 풀다니 뿌듯하다"
   ]
  },
  {
   "cell_type": "markdown",
   "metadata": {},
   "source": [
    "## 2.풀이\n",
    "\n",
    "> 자리수를 이용해서 풀어볼까?\n",
    "- 위의 풀이는 리스트를 이용해서 숫자를 결합하고, 분리하니 너무 복잡하다\n",
    "- 10의 자리수:10으로 나눈 몫\n",
    "- 1의 자리수: 10으로 나눈 나머지"
   ]
  },
  {
   "cell_type": "code",
   "execution_count": 170,
   "metadata": {
    "ExecuteTime": {
     "end_time": "2020-03-10T01:35:08.683149Z",
     "start_time": "2020-03-10T01:35:07.513118Z"
    }
   },
   "outputs": [
    {
     "name": "stdout",
     "output_type": "stream",
     "text": [
      "1\n"
     ]
    }
   ],
   "source": [
    "num = int(input())"
   ]
  },
  {
   "cell_type": "code",
   "execution_count": 171,
   "metadata": {
    "ExecuteTime": {
     "end_time": "2020-03-10T01:35:10.328116Z",
     "start_time": "2020-03-10T01:35:10.324114Z"
    }
   },
   "outputs": [],
   "source": [
    "cnt = 0\n",
    "temp = 0\n",
    "new_num = 0\n",
    "check = num"
   ]
  },
  {
   "cell_type": "code",
   "execution_count": 172,
   "metadata": {
    "ExecuteTime": {
     "end_time": "2020-03-10T01:35:12.444115Z",
     "start_time": "2020-03-10T01:35:12.440120Z"
    }
   },
   "outputs": [],
   "source": [
    "while(1):\n",
    "    cnt += 1\n",
    "\n",
    "    temp = num//10 + num%10\n",
    "    num = (num%10)*10 + temp%10\n",
    "    if num == check:\n",
    "        break\n"
   ]
  },
  {
   "cell_type": "code",
   "execution_count": 173,
   "metadata": {
    "ExecuteTime": {
     "end_time": "2020-03-10T01:35:13.682111Z",
     "start_time": "2020-03-10T01:35:13.676113Z"
    }
   },
   "outputs": [
    {
     "name": "stdout",
     "output_type": "stream",
     "text": [
      "60\n"
     ]
    }
   ],
   "source": [
    "print(cnt)"
   ]
  },
  {
   "cell_type": "markdown",
   "metadata": {
    "ExecuteTime": {
     "end_time": "2020-02-10T02:35:18.218974Z",
     "start_time": "2020-02-10T02:35:18.216027Z"
    }
   },
   "source": [
    "### 결과"
   ]
  },
  {
   "cell_type": "markdown",
   "metadata": {
    "ExecuteTime": {
     "end_time": "2020-02-10T01:09:09.720273Z",
     "start_time": "2020-02-10T01:09:09.703301Z"
    }
   },
   "source": [
    "![1110_2](images/1110_2.png)"
   ]
  },
  {
   "cell_type": "markdown",
   "metadata": {},
   "source": [
    "- 시간도 덜 걸리고, 코드도 짧다\n",
    "- 처음에 어떻게 접근하는지가 중요하다..."
   ]
  },
  {
   "cell_type": "code",
   "execution_count": null,
   "metadata": {},
   "outputs": [],
   "source": []
  }
 ],
 "metadata": {
  "kernelspec": {
   "display_name": "Python 3",
   "language": "python",
   "name": "python3"
  },
  "language_info": {
   "codemirror_mode": {
    "name": "ipython",
    "version": 3
   },
   "file_extension": ".py",
   "mimetype": "text/x-python",
   "name": "python",
   "nbconvert_exporter": "python",
   "pygments_lexer": "ipython3",
   "version": "3.7.4"
  },
  "toc": {
   "base_numbering": 1,
   "nav_menu": {},
   "number_sections": false,
   "sideBar": true,
   "skip_h1_title": false,
   "title_cell": "Table of Contents",
   "title_sidebar": "Contents",
   "toc_cell": false,
   "toc_position": {
    "height": "calc(100% - 180px)",
    "left": "10px",
    "top": "150px",
    "width": "191.594px"
   },
   "toc_section_display": true,
   "toc_window_display": false
  },
  "varInspector": {
   "cols": {
    "lenName": 16,
    "lenType": 16,
    "lenVar": 40
   },
   "kernels_config": {
    "python": {
     "delete_cmd_postfix": "",
     "delete_cmd_prefix": "del ",
     "library": "var_list.py",
     "varRefreshCmd": "print(var_dic_list())"
    },
    "r": {
     "delete_cmd_postfix": ") ",
     "delete_cmd_prefix": "rm(",
     "library": "var_list.r",
     "varRefreshCmd": "cat(var_dic_list()) "
    }
   },
   "types_to_exclude": [
    "module",
    "function",
    "builtin_function_or_method",
    "instance",
    "_Feature"
   ],
   "window_display": false
  }
 },
 "nbformat": 4,
 "nbformat_minor": 2
}
