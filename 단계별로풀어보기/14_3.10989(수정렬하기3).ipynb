{
 "cells": [
  {
   "cell_type": "markdown",
   "metadata": {},
   "source": [
    "# 백준 10989번 문제\n",
    "- https://www.acmicpc.net/problem/10989\n",
    "\n",
    "##  1.문제\n",
    "- N개의 수가 주어졌을 때, 이를 오름차순으로 정렬하는 프로그램을 작성하시오.\n",
    "\n",
    "\n",
    "> 입력\n",
    "- 첫째 줄에 수의 개수 N(1 ≤ N ≤ 10,000,000)이 주어진다. 둘째 줄부터 N개의 줄에는 숫자가 주어진다. 이 수는 10,000보다 작거나 같은 자연수이다.\n",
    "- 예\n",
    "- 10\n",
    "- 5\n",
    "- 2\n",
    "- 3\n",
    "- 1\n",
    "- 4\n",
    "- 2\n",
    "- 3\n",
    "- 5\n",
    "- 1\n",
    "- 7\n",
    "\n",
    "> 출력\n",
    "- 첫째 줄부터 N개의 줄에 오름차순으로 정렬한 결과를 한 줄에 하나씩 출력한다.\n",
    "- 예\n",
    "- 1\n",
    "- 1\n",
    "- 2\n",
    "- 2\n",
    "- 3\n",
    "- 3\n",
    "- 4\n",
    "- 5\n",
    "- 5\n",
    "- 7\n"
   ]
  },
  {
   "cell_type": "markdown",
   "metadata": {
    "ExecuteTime": {
     "end_time": "2020-02-07T04:17:28.198938Z",
     "start_time": "2020-02-07T04:17:28.195946Z"
    }
   },
   "source": [
    "## 2.풀이\n",
    "> 카운팅정렬 사용\n",
    "- 시간 복잡도: O(n)\n",
    "- 수가 몇개씩 들어가있는지 세어본 후, 누적합 구하기\n",
    "- 배열의 뒤에서부터 보면서 누적합에 따라 새로운 배열의 위치에 넣기\n",
    "- 참고: https://bowbowbow.tistory.com/8"
   ]
  },
  {
   "cell_type": "code",
   "execution_count": 37,
   "metadata": {
    "ExecuteTime": {
     "end_time": "2020-05-26T00:37:15.696669Z",
     "start_time": "2020-05-26T00:37:14.775668Z"
    }
   },
   "outputs": [
    {
     "name": "stdout",
     "output_type": "stream",
     "text": [
      "5\n",
      "1\n",
      "6\n",
      "4\n",
      "8\n",
      "2\n",
      "[1, 6, 4, 8, 2]\n"
     ]
    }
   ],
   "source": [
    "N = int(input())\n",
    "num_list = [int(input()) for i in range(N)]\n",
    "print(num_list)"
   ]
  },
  {
   "cell_type": "code",
   "execution_count": 38,
   "metadata": {
    "ExecuteTime": {
     "end_time": "2020-05-26T00:54:39.092952Z",
     "start_time": "2020-05-26T00:54:39.079949Z"
    }
   },
   "outputs": [
    {
     "name": "stdout",
     "output_type": "stream",
     "text": [
      "{1: 1, 6: 1, 4: 1, 8: 1, 2: 1}\n"
     ]
    }
   ],
   "source": [
    "#count 배열\n",
    "count_dict = {}\n",
    "for i in num_list:\n",
    "    count_dict[i]=count_dict.get(i, 0)\n",
    "    count_dict[i]+=1\n",
    "print(count_dict)"
   ]
  },
  {
   "cell_type": "code",
   "execution_count": 40,
   "metadata": {
    "ExecuteTime": {
     "end_time": "2020-05-26T00:54:39.092952Z",
     "start_time": "2020-05-26T00:54:39.079949Z"
    }
   },
   "outputs": [
    {
     "name": "stdout",
     "output_type": "stream",
     "text": [
      "[(1, 1), (2, 1), (4, 1), (6, 1), (8, 1)]\n"
     ]
    }
   ],
   "source": [
    "sort_count = sorted(count_dict.items())\n",
    "print(sort_count)"
   ]
  },
  {
   "cell_type": "code",
   "execution_count": 41,
   "metadata": {
    "ExecuteTime": {
     "end_time": "2020-05-26T00:54:39.092952Z",
     "start_time": "2020-05-26T00:54:39.079949Z"
    }
   },
   "outputs": [
    {
     "name": "stdout",
     "output_type": "stream",
     "text": [
      "[(1, 1), (2, 2), (4, 3), (6, 4), (8, 5)]\n"
     ]
    }
   ],
   "source": [
    "# 키 중심으로 정렬\n",
    "sum_count = []\n",
    "sum_num = 0\n",
    "for (i, j) in sort_count:\n",
    "    sum_num += j\n",
    "    sum_count.append((i, sum_num))\n",
    "print(sum_count)"
   ]
  },
  {
   "cell_type": "code",
   "execution_count": 42,
   "metadata": {},
   "outputs": [
    {
     "name": "stdout",
     "output_type": "stream",
     "text": [
      "[0, 0, 0, 0, 0]\n"
     ]
    }
   ],
   "source": [
    "new_list = [0]*N\n",
    "print(new_list)\n"
   ]
  },
  {
   "cell_type": "code",
   "execution_count": 43,
   "metadata": {},
   "outputs": [
    {
     "name": "stdout",
     "output_type": "stream",
     "text": [
      "2\n",
      "8\n",
      "4\n",
      "6\n",
      "1\n",
      "[1, 2, 4, 6, 8]\n"
     ]
    }
   ],
   "source": [
    "for i in num_list[::-1]:\n",
    "    print(i)\n",
    "    for j, (s, t) in enumerate(sum_count):\n",
    "        if s == i:\n",
    "            new_list[j]= i\n",
    "            t =-1\n",
    "#     new_list[sum_count[num_list[i]]]= num_list[i]\n",
    "#     sum_count[num_list[i]]=-1\n",
    "print(new_list)"
   ]
  },
  {
   "cell_type": "markdown",
   "metadata": {
    "ExecuteTime": {
     "end_time": "2020-05-26T00:55:42.247952Z",
     "start_time": "2020-05-26T00:55:42.146951Z"
    }
   },
   "source": [
    "#### 결과\n",
    "![10989_1](images/10989_1.png)"
   ]
  },
  {
   "cell_type": "code",
   "execution_count": null,
   "metadata": {},
   "outputs": [],
   "source": []
  }
 ],
 "metadata": {
  "kernelspec": {
   "display_name": "Python 3",
   "language": "python",
   "name": "python3"
  },
  "language_info": {
   "codemirror_mode": {
    "name": "ipython",
    "version": 3
   },
   "file_extension": ".py",
   "mimetype": "text/x-python",
   "name": "python",
   "nbconvert_exporter": "python",
   "pygments_lexer": "ipython3",
   "version": "3.6.10"
  },
  "toc": {
   "base_numbering": 1,
   "nav_menu": {},
   "number_sections": false,
   "sideBar": true,
   "skip_h1_title": false,
   "title_cell": "Table of Contents",
   "title_sidebar": "Contents",
   "toc_cell": false,
   "toc_position": {
    "height": "calc(100% - 180px)",
    "left": "10px",
    "top": "150px",
    "width": "191.583px"
   },
   "toc_section_display": true,
   "toc_window_display": false
  },
  "varInspector": {
   "cols": {
    "lenName": 16,
    "lenType": 16,
    "lenVar": 40
   },
   "kernels_config": {
    "python": {
     "delete_cmd_postfix": "",
     "delete_cmd_prefix": "del ",
     "library": "var_list.py",
     "varRefreshCmd": "print(var_dic_list())"
    },
    "r": {
     "delete_cmd_postfix": ") ",
     "delete_cmd_prefix": "rm(",
     "library": "var_list.r",
     "varRefreshCmd": "cat(var_dic_list()) "
    }
   },
   "types_to_exclude": [
    "module",
    "function",
    "builtin_function_or_method",
    "instance",
    "_Feature"
   ],
   "window_display": false
  }
 },
 "nbformat": 4,
 "nbformat_minor": 2
}
