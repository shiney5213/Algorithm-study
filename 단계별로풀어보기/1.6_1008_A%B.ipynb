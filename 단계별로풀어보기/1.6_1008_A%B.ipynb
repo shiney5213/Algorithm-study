{
 "cells": [
  {
   "cell_type": "markdown",
   "metadata": {},
   "source": [
    "# 백준 1008번 문제\n",
    "\n",
    "#  1.문제\n",
    "- 두 정수 A와 B를 입력받은 다음, A/B를 출력하는 프로그램을 작성하시오.\n",
    "\n",
    "> 입력\n",
    "- 첫째 줄에 A와 B가 주어진다. (0 < A, B < 10)\n",
    "- 예: 1 3\n",
    "\n",
    ">출력\n",
    "- 첫째 줄에 A/B를 출력한다. 실제 정답과 출력값의 절대오차 또는 상대오차가 10-9 이하이면 정답이다.\n",
    "-  예: 0.33333333333333333333333333333333"
   ]
  },
  {
   "cell_type": "markdown",
   "metadata": {
    "ExecuteTime": {
     "end_time": "2020-02-07T04:17:28.198938Z",
     "start_time": "2020-02-07T04:17:28.195946Z"
    }
   },
   "source": [
    "# 2.어떻게 해결해야 할까?"
   ]
  },
  {
   "cell_type": "code",
   "execution_count": 40,
   "metadata": {
    "ExecuteTime": {
     "end_time": "2020-02-07T04:58:21.781872Z",
     "start_time": "2020-02-07T04:58:21.777821Z"
    },
    "scrolled": false
   },
   "outputs": [
    {
     "data": {
      "text/plain": [
       "32"
      ]
     },
     "execution_count": 40,
     "metadata": {},
     "output_type": "execute_result"
    }
   ],
   "source": [
    "len('33333333333333333333333333333333')"
   ]
  },
  {
   "cell_type": "markdown",
   "metadata": {
    "ExecuteTime": {
     "end_time": "2020-02-07T04:20:39.660647Z",
     "start_time": "2020-02-07T04:20:39.655699Z"
    }
   },
   "source": [
    "> 출력의 소수점 자리수가 32자리를 출력해야 함\n",
    "- %0.34f로 출력하거나 round함수 사용\n",
    "\n",
    "> 분모가 0일 때는 \n",
    "- try, except 구문 활용-> 여기서는 고려하지 않음."
   ]
  },
  {
   "cell_type": "markdown",
   "metadata": {},
   "source": [
    "## 2.1. 입력"
   ]
  },
  {
   "cell_type": "code",
   "execution_count": 33,
   "metadata": {
    "ExecuteTime": {
     "end_time": "2020-02-07T04:40:56.747529Z",
     "start_time": "2020-02-07T04:40:52.841871Z"
    }
   },
   "outputs": [
    {
     "name": "stdout",
     "output_type": "stream",
     "text": [
      "1 3\n"
     ]
    }
   ],
   "source": [
    "a, b = input().split()"
   ]
  },
  {
   "cell_type": "markdown",
   "metadata": {},
   "source": [
    "## 2.2. 출력"
   ]
  },
  {
   "cell_type": "code",
   "execution_count": 34,
   "metadata": {
    "ExecuteTime": {
     "end_time": "2020-02-07T04:41:09.853927Z",
     "start_time": "2020-02-07T04:41:09.850934Z"
    }
   },
   "outputs": [
    {
     "name": "stdout",
     "output_type": "stream",
     "text": [
      "0.3333333333333333\n"
     ]
    }
   ],
   "source": [
    "print(int(A)/int(B))"
   ]
  },
  {
   "cell_type": "markdown",
   "metadata": {},
   "source": [
    "### 해결1: float형으로 해보자!"
   ]
  },
  {
   "cell_type": "code",
   "execution_count": 35,
   "metadata": {
    "ExecuteTime": {
     "end_time": "2020-02-07T04:41:44.117563Z",
     "start_time": "2020-02-07T04:41:44.113572Z"
    }
   },
   "outputs": [
    {
     "name": "stdout",
     "output_type": "stream",
     "text": [
      "0.3333333333333333\n"
     ]
    }
   ],
   "source": [
    "print(float(A)/float(B))"
   ]
  },
  {
   "cell_type": "markdown",
   "metadata": {
    "ExecuteTime": {
     "end_time": "2020-02-07T04:42:22.967509Z",
     "start_time": "2020-02-07T04:42:22.962524Z"
    }
   },
   "source": [
    "- int, float 형 모두 자동으로 float형으로 출력. "
   ]
  },
  {
   "cell_type": "markdown",
   "metadata": {
    "ExecuteTime": {
     "end_time": "2020-02-07T02:38:27.637581Z",
     "start_time": "2020-02-07T02:38:27.633592Z"
    }
   },
   "source": [
    "### 해결2 : 출력되는 소수점을 조절해보자"
   ]
  },
  {
   "cell_type": "code",
   "execution_count": 37,
   "metadata": {
    "ExecuteTime": {
     "end_time": "2020-02-07T04:43:13.205795Z",
     "start_time": "2020-02-07T04:43:13.202777Z"
    }
   },
   "outputs": [
    {
     "name": "stdout",
     "output_type": "stream",
     "text": [
      "0.33333333333333331482961625624739\n"
     ]
    }
   ],
   "source": [
    "print('%0.32f'%(float(A)/float(B)))"
   ]
  },
  {
   "cell_type": "markdown",
   "metadata": {},
   "source": [
    "### 해결3. round()로 해결해보자"
   ]
  },
  {
   "cell_type": "code",
   "execution_count": 41,
   "metadata": {
    "ExecuteTime": {
     "end_time": "2020-02-07T04:58:41.101055Z",
     "start_time": "2020-02-07T04:58:41.097065Z"
    }
   },
   "outputs": [
    {
     "name": "stdout",
     "output_type": "stream",
     "text": [
      "0.3333333333333333\n"
     ]
    }
   ],
   "source": [
    "print(round(float(A)/float(B), 32))"
   ]
  },
  {
   "cell_type": "markdown",
   "metadata": {},
   "source": [
    "### 해결 4 : 부동소수점 해결->decimal.Decimal()이용\n",
    "- 파이썬에서 가장 빠르고 정확한 부동 소수 산술 지원."
   ]
  },
  {
   "cell_type": "code",
   "execution_count": 65,
   "metadata": {
    "ExecuteTime": {
     "end_time": "2020-02-07T05:09:53.214780Z",
     "start_time": "2020-02-07T05:09:53.209794Z"
    }
   },
   "outputs": [
    {
     "data": {
      "text/plain": [
       "Decimal('0.3333333333333333333333333333')"
      ]
     },
     "execution_count": 65,
     "metadata": {},
     "output_type": "execute_result"
    }
   ],
   "source": [
    "import decimal\n",
    "\n",
    "res = decimal.Decimal(decimal.Decimal(A)/decimal.Decimal(B))\n",
    "res"
   ]
  },
  {
   "cell_type": "code",
   "execution_count": 66,
   "metadata": {
    "ExecuteTime": {
     "end_time": "2020-02-07T05:09:54.108979Z",
     "start_time": "2020-02-07T05:09:54.104954Z"
    }
   },
   "outputs": [
    {
     "data": {
      "text/plain": [
       "'0.3333333333333333333333333333'"
      ]
     },
     "execution_count": 66,
     "metadata": {},
     "output_type": "execute_result"
    }
   ],
   "source": [
    "res = res.to_eng_string()\n",
    "res"
   ]
  },
  {
   "cell_type": "markdown",
   "metadata": {},
   "source": [
    "- res는 문자열형이라 파이썬 자료형으로 변환해야 하는데...\n",
    "- 이를 변환해서 표현할 자료형을 찾지 못함"
   ]
  },
  {
   "cell_type": "markdown",
   "metadata": {},
   "source": [
    "### 해결 5 : numpy 로 해결\n",
    "- 파이썬에는 실수형 자료형이 float만 있으므로 \n",
    "- 다양한 실수형 type를 지원하는 numpy로 해결"
   ]
  },
  {
   "cell_type": "code",
   "execution_count": 71,
   "metadata": {
    "ExecuteTime": {
     "end_time": "2020-02-07T06:19:09.468956Z",
     "start_time": "2020-02-07T06:19:09.462845Z"
    }
   },
   "outputs": [
    {
     "data": {
      "text/plain": [
       "(array(1., dtype=float32), array(3., dtype=float32))"
      ]
     },
     "execution_count": 71,
     "metadata": {},
     "output_type": "execute_result"
    }
   ],
   "source": [
    "import numpy as np\n",
    "A = float(A)\n",
    "B = float(B)\n",
    "\n",
    "a = np.array(A, dtype = np.float32)\n",
    "b = np.array(B, dtype = np.float32)\n",
    "\n"
   ]
  },
  {
   "cell_type": "code",
   "execution_count": 72,
   "metadata": {
    "ExecuteTime": {
     "end_time": "2020-02-07T06:20:23.603666Z",
     "start_time": "2020-02-07T06:20:23.598582Z"
    }
   },
   "outputs": [
    {
     "data": {
      "text/plain": [
       "0.33333334"
      ]
     },
     "execution_count": 72,
     "metadata": {},
     "output_type": "execute_result"
    }
   ],
   "source": [
    "round(np.divide(a, b, dtype = np.float32), 32)"
   ]
  },
  {
   "cell_type": "markdown",
   "metadata": {},
   "source": [
    "# 3. 다른 블로그 도움"
   ]
  },
  {
   "cell_type": "markdown",
   "metadata": {
    "ExecuteTime": {
     "end_time": "2020-02-07T06:22:36.202363Z",
     "start_time": "2020-02-07T06:22:36.197376Z"
    }
   },
   "source": [
    "> 참고\n",
    "- 맛동산님 블로그 https://tastydarr.tistory.com/entry/%ED%8C%8C%EC%9D%B4%EC%8D%AC%EB%B0%B1%EC%A4%80-%EC%95%8C%EA%B3%A0%EB%A6%AC%EC%A6%98-1008%EB%B2%88-AB"
   ]
  },
  {
   "cell_type": "markdown",
   "metadata": {},
   "source": [
    "### 놓친 부분\n",
    "> <font color='red'> 실제 정답과 출력값의 절대오차 또는 상대오차가 10-9 이하이면 정답이다.</font>\n",
    "- 출력에 있는 자리수에만 신경쓰다보니...문제의 요구사항을 놓침\n",
    "- 소수점 아래 9자리까지만 출력하면 됨"
   ]
  },
  {
   "cell_type": "markdown",
   "metadata": {
    "ExecuteTime": {
     "end_time": "2020-02-07T06:37:19.758824Z",
     "start_time": "2020-02-07T06:37:19.754880Z"
    }
   },
   "source": [
    "### 해결"
   ]
  },
  {
   "cell_type": "code",
   "execution_count": 75,
   "metadata": {
    "ExecuteTime": {
     "end_time": "2020-02-07T06:37:53.018357Z",
     "start_time": "2020-02-07T06:37:53.014368Z"
    }
   },
   "outputs": [
    {
     "name": "stdout",
     "output_type": "stream",
     "text": [
      "0.333333333\n"
     ]
    }
   ],
   "source": [
    "print(round(float(A)/ float(B), 9))"
   ]
  },
  {
   "cell_type": "markdown",
   "metadata": {},
   "source": [
    "# 4. 최종 답안"
   ]
  },
  {
   "cell_type": "code",
   "execution_count": 76,
   "metadata": {
    "ExecuteTime": {
     "end_time": "2020-02-07T06:38:45.407780Z",
     "start_time": "2020-02-07T06:38:42.301404Z"
    }
   },
   "outputs": [
    {
     "name": "stdout",
     "output_type": "stream",
     "text": [
      "1 3\n",
      "0.333333333\n"
     ]
    }
   ],
   "source": [
    "A, B = input().split()\n",
    "\n",
    "print(round(float(A)/ float(B), 9))"
   ]
  },
  {
   "cell_type": "markdown",
   "metadata": {},
   "source": [
    "![1008](./images/1008.png)"
   ]
  },
  {
   "cell_type": "code",
   "execution_count": null,
   "metadata": {},
   "outputs": [],
   "source": []
  }
 ],
 "metadata": {
  "kernelspec": {
   "display_name": "Python 3",
   "language": "python",
   "name": "python3"
  },
  "language_info": {
   "codemirror_mode": {
    "name": "ipython",
    "version": 3
   },
   "file_extension": ".py",
   "mimetype": "text/x-python",
   "name": "python",
   "nbconvert_exporter": "python",
   "pygments_lexer": "ipython3",
   "version": "3.7.6"
  },
  "toc": {
   "base_numbering": 1,
   "nav_menu": {},
   "number_sections": false,
   "sideBar": true,
   "skip_h1_title": false,
   "title_cell": "Table of Contents",
   "title_sidebar": "Contents",
   "toc_cell": false,
   "toc_position": {
    "height": "calc(100% - 180px)",
    "left": "10px",
    "top": "150px",
    "width": "191.594px"
   },
   "toc_section_display": true,
   "toc_window_display": true
  },
  "varInspector": {
   "cols": {
    "lenName": 16,
    "lenType": 16,
    "lenVar": 40
   },
   "kernels_config": {
    "python": {
     "delete_cmd_postfix": "",
     "delete_cmd_prefix": "del ",
     "library": "var_list.py",
     "varRefreshCmd": "print(var_dic_list())"
    },
    "r": {
     "delete_cmd_postfix": ") ",
     "delete_cmd_prefix": "rm(",
     "library": "var_list.r",
     "varRefreshCmd": "cat(var_dic_list()) "
    }
   },
   "types_to_exclude": [
    "module",
    "function",
    "builtin_function_or_method",
    "instance",
    "_Feature"
   ],
   "window_display": false
  }
 },
 "nbformat": 4,
 "nbformat_minor": 2
}
