{
 "cells": [
  {
   "cell_type": "markdown",
   "metadata": {},
   "source": [
    "# 백준 5622번 문제\n",
    "- https://www.acmicpc.net/problem/5622\n",
    "\n",
    "##  문제\n",
    "- 상근이의 할머니는 아래 그림과 같이 오래된 다이얼 전화기를 사용한다.\n",
    "- 전화를 걸고 싶은 번호가 있다면, 숫자를 하나를 누른 다음에 금속 핀이 있는 곳 까지 시계방향으로 돌려야 한다. 숫자를 하나 누르면 다이얼이 처음 위치로 돌아가고, 다음 숫자를 누르려면 다이얼을 처음 위치에서 다시 돌려야 한다.\n",
    "\n",
    "- 숫자 1을 걸려면 총 2초가 필요하다. 1보다 큰 수를 거는데 걸리는 시간은 이보다 더 걸리며, 한 칸 옆에 있는 숫자를 걸기 위해선 1초씩 더 걸린다.\n",
    "\n",
    "- 상근이의 할머니는 전화 번호를 각 숫자에 해당하는 문자로 외운다. 즉, 어떤 단어를 걸 때, 각 알파벳에 해당하는 숫자를 걸면 된다. 예를 들어, UNUCIC는 868242와 같다.\n",
    "\n",
    "- 할머니가 외운 단어가 주어졌을 때, 이 전화를 걸기 위해서 필요한 시간을 구하는 프로그램을 작성하시오.\n",
    "\n",
    "> 입력\n",
    "- 첫째 줄에 알파벳 대문자로 이루어진 단어가 주어진다. 단어는 2글자~15글자로 이루어져 있다.\n",
    "- 예\n",
    "- UNUCIC\n",
    "\n",
    "\n",
    "> 출력\n",
    "- 첫째 줄에 다이얼을 걸기 위해서 필요한 시간을 출력한다.\n",
    "- 예\n",
    "- 36\n"
   ]
  },
  {
   "cell_type": "markdown",
   "metadata": {
    "ExecuteTime": {
     "end_time": "2020-02-07T04:17:28.198938Z",
     "start_time": "2020-02-07T04:17:28.195946Z"
    }
   },
   "source": [
    "## 1.풀이\n",
    "- 입력받은 문자를 먼저 숫자로 바꾸기\n",
    "- 숫자별로 걸리는 시간을 계산하여 합치기"
   ]
  },
  {
   "cell_type": "code",
   "execution_count": 1,
   "metadata": {
    "ExecuteTime": {
     "end_time": "2020-03-28T00:52:55.207733Z",
     "start_time": "2020-03-28T00:52:43.417735Z"
    }
   },
   "outputs": [
    {
     "name": "stdout",
     "output_type": "stream",
     "text": [
      "UNUCIC\n"
     ]
    }
   ],
   "source": [
    "s = input()"
   ]
  },
  {
   "cell_type": "code",
   "execution_count": 12,
   "metadata": {
    "ExecuteTime": {
     "end_time": "2020-03-28T01:09:43.819492Z",
     "start_time": "2020-03-28T01:09:43.811492Z"
    }
   },
   "outputs": [],
   "source": [
    "s_dict = {'2': ['A','B','C'],\n",
    "         '3': ['D','E','F'],\n",
    "         '4': ['G','H','I'],\n",
    "         '5': ['J','K','L'],\n",
    "         '6': ['N','M','O'],\n",
    "         '7': ['P','Q','R','S'],\n",
    "         '8': ['T','U','V'],\n",
    "         '9': ['W','X','Y','Z']}"
   ]
  },
  {
   "cell_type": "code",
   "execution_count": 22,
   "metadata": {
    "ExecuteTime": {
     "end_time": "2020-03-28T01:16:04.603496Z",
     "start_time": "2020-03-28T01:16:04.596496Z"
    }
   },
   "outputs": [],
   "source": [
    "num_list = []\n",
    "for i in s:\n",
    "    [num_list.append(key) for key, value in s_dict.items() if i in value]\n"
   ]
  },
  {
   "cell_type": "code",
   "execution_count": 25,
   "metadata": {
    "ExecuteTime": {
     "end_time": "2020-03-28T01:16:20.059181Z",
     "start_time": "2020-03-28T01:16:20.051176Z"
    }
   },
   "outputs": [
    {
     "data": {
      "text/plain": [
       "'868242'"
      ]
     },
     "execution_count": 25,
     "metadata": {},
     "output_type": "execute_result"
    }
   ],
   "source": [
    "num = ''.join(num_list)\n",
    "num"
   ]
  },
  {
   "cell_type": "code",
   "execution_count": 26,
   "metadata": {
    "ExecuteTime": {
     "end_time": "2020-03-28T01:17:56.874218Z",
     "start_time": "2020-03-28T01:17:56.869213Z"
    }
   },
   "outputs": [],
   "source": [
    "sum_time = 0\n",
    "for i in num:\n",
    "    sum_time = sum_time + int(i)+1\n",
    "    "
   ]
  },
  {
   "cell_type": "code",
   "execution_count": 27,
   "metadata": {
    "ExecuteTime": {
     "end_time": "2020-03-28T01:18:00.919769Z",
     "start_time": "2020-03-28T01:18:00.913770Z"
    }
   },
   "outputs": [
    {
     "data": {
      "text/plain": [
       "36"
      ]
     },
     "execution_count": 27,
     "metadata": {},
     "output_type": "execute_result"
    }
   ],
   "source": [
    "sum_time"
   ]
  },
  {
   "cell_type": "markdown",
   "metadata": {},
   "source": [
    "#### 결과"
   ]
  },
  {
   "cell_type": "markdown",
   "metadata": {
    "ExecuteTime": {
     "end_time": "2020-02-10T01:09:09.720273Z",
     "start_time": "2020-02-10T01:09:09.703301Z"
    }
   },
   "source": [
    "![5622_1](images/5622_1.png)"
   ]
  },
  {
   "cell_type": "code",
   "execution_count": null,
   "metadata": {},
   "outputs": [],
   "source": []
  }
 ],
 "metadata": {
  "kernelspec": {
   "display_name": "Python 3",
   "language": "python",
   "name": "python3"
  },
  "language_info": {
   "codemirror_mode": {
    "name": "ipython",
    "version": 3
   },
   "file_extension": ".py",
   "mimetype": "text/x-python",
   "name": "python",
   "nbconvert_exporter": "python",
   "pygments_lexer": "ipython3",
   "version": "3.7.6"
  },
  "toc": {
   "base_numbering": 1,
   "nav_menu": {},
   "number_sections": false,
   "sideBar": true,
   "skip_h1_title": false,
   "title_cell": "Table of Contents",
   "title_sidebar": "Contents",
   "toc_cell": false,
   "toc_position": {
    "height": "calc(100% - 180px)",
    "left": "10px",
    "top": "150px",
    "width": "191.594px"
   },
   "toc_section_display": true,
   "toc_window_display": false
  },
  "varInspector": {
   "cols": {
    "lenName": 16,
    "lenType": 16,
    "lenVar": 40
   },
   "kernels_config": {
    "python": {
     "delete_cmd_postfix": "",
     "delete_cmd_prefix": "del ",
     "library": "var_list.py",
     "varRefreshCmd": "print(var_dic_list())"
    },
    "r": {
     "delete_cmd_postfix": ") ",
     "delete_cmd_prefix": "rm(",
     "library": "var_list.r",
     "varRefreshCmd": "cat(var_dic_list()) "
    }
   },
   "types_to_exclude": [
    "module",
    "function",
    "builtin_function_or_method",
    "instance",
    "_Feature"
   ],
   "window_display": false
  }
 },
 "nbformat": 4,
 "nbformat_minor": 2
}
