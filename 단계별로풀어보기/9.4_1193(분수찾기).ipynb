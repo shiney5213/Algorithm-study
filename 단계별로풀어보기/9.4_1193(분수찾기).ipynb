{
 "cells": [
  {
   "cell_type": "markdown",
   "metadata": {},
   "source": [
    "# 백준 1193번 문제\n",
    "- https://www.acmicpc.net/problem/1193\n",
    "\n",
    "#  1.문제\n",
    "- 무한히 큰 배열에 다음과 같이 분수들이 적혀있다.\n",
    "- 이와 같이 나열된 분수들을 1/1 -> 1/2 -> 2/1 -> 3/1 -> 2/2 -> … 과 같은 지그재그 순서로 차례대로 1번, 2번, 3번, 4번, 5번, … 분수라고 하자.\n",
    "\n",
    "- X가 주어졌을 때, X번째 분수를 구하는 프로그램을 작성하시오.\n",
    "\n",
    "\n",
    "\n",
    "> 입력\n",
    "- 첫째 줄에 X(1 ≤ X ≤ 10,000,000)가 주어진다.\n",
    "- 예: 14\n",
    "\n",
    ">출력\n",
    "- 첫째 줄에 분수를 출력한다\n",
    "- 예: 2/4"
   ]
  },
  {
   "cell_type": "markdown",
   "metadata": {
    "ExecuteTime": {
     "end_time": "2020-02-07T04:17:28.198938Z",
     "start_time": "2020-02-07T04:17:28.195946Z"
    }
   },
   "source": [
    "# 2.풀이\n",
    "> 규칙성\n",
    "- 1/1 -> 1번째/ 합: 2\n",
    "- 1/2, 2/1 -> 2번째 / 합: 3\n",
    "- 3/1, 2/2, 2/3 -> 4번째 / 합: 4\n",
    "- 1/4, 2/3, 3/2, 4/1 -> 7번째 / 합: 5\n",
    "- 5/1, 4/2, 3/3, 2/4, 1/5  -> 11번째 시작 / 합: 6\n",
    "\n",
    "> X가 몇번째 대각선에 있는지 찾기\n",
    "- 1, 2, 4, 7, 11, ...\n",
    "- 차가 1,2,3,4,5가 나는 수열\n",
    "- a(0) = 1\n",
    "- a(n) =a(n-1) + n"
   ]
  },
  {
   "cell_type": "code",
   "execution_count": 48,
   "metadata": {
    "ExecuteTime": {
     "end_time": "2020-04-06T07:07:01.876724Z",
     "start_time": "2020-04-06T07:07:00.187719Z"
    },
    "scrolled": false
   },
   "outputs": [
    {
     "name": "stdout",
     "output_type": "stream",
     "text": [
      "14\n"
     ]
    }
   ],
   "source": [
    "X = int(input())"
   ]
  },
  {
   "cell_type": "code",
   "execution_count": 49,
   "metadata": {
    "ExecuteTime": {
     "end_time": "2020-04-06T07:07:03.073721Z",
     "start_time": "2020-04-06T07:07:03.068725Z"
    }
   },
   "outputs": [
    {
     "name": "stdout",
     "output_type": "stream",
     "text": [
      "[1, 2, 4, 7, 11]\n"
     ]
    }
   ],
   "source": [
    "a= [1]\n",
    "for i in range(1, X):\n",
    "    a1 = a[i-1] + i\n",
    "    if a1 <= X:\n",
    "        a.append(a1)\n",
    "    else:\n",
    "        break\n",
    "print(a)"
   ]
  },
  {
   "cell_type": "markdown",
   "metadata": {},
   "source": [
    "a의 마지막 원소의 index가 홀수/짝수에 따라 시작하는 분수가 달라짐"
   ]
  },
  {
   "cell_type": "code",
   "execution_count": 50,
   "metadata": {
    "ExecuteTime": {
     "end_time": "2020-04-06T07:07:05.008721Z",
     "start_time": "2020-04-06T07:07:05.002721Z"
    }
   },
   "outputs": [
    {
     "name": "stdout",
     "output_type": "stream",
     "text": [
      "5 6\n"
     ]
    }
   ],
   "source": [
    "# 짝수이면\n",
    "cnt = len(a)\n",
    "hap = cnt+ 1\n",
    "print(cnt, hap)"
   ]
  },
  {
   "cell_type": "code",
   "execution_count": 51,
   "metadata": {
    "ExecuteTime": {
     "end_time": "2020-04-06T07:07:06.358721Z",
     "start_time": "2020-04-06T07:07:06.352721Z"
    }
   },
   "outputs": [
    {
     "name": "stdout",
     "output_type": "stream",
     "text": [
      "11\n",
      "5/1\n",
      "12\n",
      "4/2\n",
      "13\n",
      "3/3\n",
      "14\n",
      "2/4\n"
     ]
    }
   ],
   "source": [
    "if cnt % 2 == 1: \n",
    "    bunmo = 0\n",
    "    for j in range(a[-1], X+1):\n",
    "        print(j)\n",
    "        bunmo += 1\n",
    "        bunja = hap - bunmo\n",
    "        print(f'{bunja}/{bunmo}')\n",
    "else:\n",
    "    bunja = 0\n",
    "    for j in range(a[-1], X+1):\n",
    "        print(j)\n",
    "        bunja += 1\n",
    "        bunmo = hap - bunja\n",
    "        print(f'{bunja}/{bunmo}')          "
   ]
  },
  {
   "cell_type": "markdown",
   "metadata": {},
   "source": [
    "#### 결과"
   ]
  },
  {
   "cell_type": "markdown",
   "metadata": {},
   "source": [
    "![1193_1](./images/1193_1.png)"
   ]
  },
  {
   "cell_type": "markdown",
   "metadata": {
    "ExecuteTime": {
     "end_time": "2020-04-06T07:11:26.170724Z",
     "start_time": "2020-04-06T07:11:26.163734Z"
    }
   },
   "source": [
    "## 2.풀이2\n",
    "> 출력 초과\n",
    "- 출력이 for문마다 되고 있음\n",
    "- 수정하자"
   ]
  },
  {
   "cell_type": "code",
   "execution_count": 53,
   "metadata": {
    "ExecuteTime": {
     "end_time": "2020-04-06T07:11:41.915757Z",
     "start_time": "2020-04-06T07:11:40.157722Z"
    },
    "scrolled": false
   },
   "outputs": [
    {
     "name": "stdout",
     "output_type": "stream",
     "text": [
      "14\n"
     ]
    }
   ],
   "source": [
    "X = int(input())"
   ]
  },
  {
   "cell_type": "code",
   "execution_count": 55,
   "metadata": {
    "ExecuteTime": {
     "end_time": "2020-04-06T07:12:24.210724Z",
     "start_time": "2020-04-06T07:12:24.199729Z"
    }
   },
   "outputs": [
    {
     "name": "stdout",
     "output_type": "stream",
     "text": [
      "2/4\n"
     ]
    }
   ],
   "source": [
    "a= [1]\n",
    "for i in range(1, X):\n",
    "    a1 = a[i-1] + i\n",
    "    if a1 <= X:\n",
    "        a.append(a1)\n",
    "    else:\n",
    "        break\n",
    "\n",
    "cnt = len(a)\n",
    "hap = cnt+ 1\n",
    "\n",
    "if cnt % 2 == 1: \n",
    "    bunmo = 0\n",
    "    for j in range(a[-1], X+1):\n",
    "        bunmo += 1\n",
    "        bunja = hap - bunmo\n",
    "    print(f'{bunja}/{bunmo}')\n",
    "else:\n",
    "    bunja = 0\n",
    "    for j in range(a[-1], X+1):\n",
    "        bunja += 1\n",
    "        bunmo = hap - bunja\n",
    "    print(f'{bunja}/{bunmo}')          "
   ]
  },
  {
   "cell_type": "markdown",
   "metadata": {},
   "source": [
    "#### 결과"
   ]
  },
  {
   "cell_type": "markdown",
   "metadata": {
    "ExecuteTime": {
     "end_time": "2020-04-06T07:13:43.616721Z",
     "start_time": "2020-04-06T07:13:43.548734Z"
    }
   },
   "source": [
    "![1193_2](./images/1193_2.png)"
   ]
  },
  {
   "cell_type": "code",
   "execution_count": null,
   "metadata": {},
   "outputs": [],
   "source": []
  }
 ],
 "metadata": {
  "kernelspec": {
   "display_name": "Python 3",
   "language": "python",
   "name": "python3"
  },
  "language_info": {
   "codemirror_mode": {
    "name": "ipython",
    "version": 3
   },
   "file_extension": ".py",
   "mimetype": "text/x-python",
   "name": "python",
   "nbconvert_exporter": "python",
   "pygments_lexer": "ipython3",
   "version": "3.7.6"
  },
  "toc": {
   "base_numbering": 1,
   "nav_menu": {},
   "number_sections": false,
   "sideBar": true,
   "skip_h1_title": false,
   "title_cell": "Table of Contents",
   "title_sidebar": "Contents",
   "toc_cell": false,
   "toc_position": {
    "height": "calc(100% - 180px)",
    "left": "10px",
    "top": "150px",
    "width": "191.594px"
   },
   "toc_section_display": true,
   "toc_window_display": true
  },
  "varInspector": {
   "cols": {
    "lenName": 16,
    "lenType": 16,
    "lenVar": 40
   },
   "kernels_config": {
    "python": {
     "delete_cmd_postfix": "",
     "delete_cmd_prefix": "del ",
     "library": "var_list.py",
     "varRefreshCmd": "print(var_dic_list())"
    },
    "r": {
     "delete_cmd_postfix": ") ",
     "delete_cmd_prefix": "rm(",
     "library": "var_list.r",
     "varRefreshCmd": "cat(var_dic_list()) "
    }
   },
   "types_to_exclude": [
    "module",
    "function",
    "builtin_function_or_method",
    "instance",
    "_Feature"
   ],
   "window_display": false
  }
 },
 "nbformat": 4,
 "nbformat_minor": 2
}
