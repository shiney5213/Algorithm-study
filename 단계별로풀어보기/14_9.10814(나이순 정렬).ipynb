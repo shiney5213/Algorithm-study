{
 "cells": [
  {
   "cell_type": "markdown",
   "metadata": {},
   "source": [
    "# 백준 1181번 문제\n",
    "- https://www.acmicpc.net/problem/1181\n",
    "\n",
    "##  1.문제\n",
    "- 온라인 저지에 가입한 사람들의 나이와 이름이 가입한 순서대로 주어진다. 이때, 회원들을 나이가 증가하는 순으로, 나이가 같으면 먼저 가입한 사람이 앞에 오는 순서로 정렬하는 프로그램을 작성하시오.\n",
    "\n",
    "\n",
    "> 입력\n",
    "- 첫째 줄에 온라인 저지 회원의 수 N이 주어진다. (1 ≤ N ≤ 100,000)\n",
    "- 둘째 줄부터 N개의 줄에는 각 회원의 나이와 이름이 공백으로 구분되어 주어진다. 나이는 1보다 크거나 같으며, 200보다 작거나 같은 정수이고, 이름은 알파벳 대소문자로 이루어져 있고, 길이가 100보다 작거나 같은 문자열이다. 입력은 가입한 순서로 주어진다.\n",
    "- 예\n",
    "- 3\n",
    "- 21 Junkyu\n",
    "- 21 Dohyun\n",
    "- 20 Sunyoung\n",
    "\n",
    "> 출력\n",
    "- 첫째 줄부터 총 N개의 줄에 걸쳐 온라인 저지 회원을 나이 순, 나이가 같으면 가입한 순으로 한 줄에 한 명씩 나이와 이름을 공백으로 구분해 출력한다.\n",
    "- 예\n",
    "- 20 Sunyoung\n",
    "- 21 Junkyu\n",
    "- 21 Dohyun"
   ]
  },
  {
   "cell_type": "markdown",
   "metadata": {
    "ExecuteTime": {
     "end_time": "2020-02-07T04:17:28.198938Z",
     "start_time": "2020-02-07T04:17:28.195946Z"
    }
   },
   "source": [
    "## 2.풀이\n",
    "- 먼저 가입했다는 것을 알기 위해서 입력한 순서대로 key를 만들어서 순서를 정할 수 있도록 함."
   ]
  },
  {
   "cell_type": "code",
   "execution_count": 1,
   "metadata": {
    "ExecuteTime": {
     "end_time": "2020-06-11T11:36:50.451432Z",
     "start_time": "2020-06-11T11:36:49.759436Z"
    }
   },
   "outputs": [
    {
     "name": "stdout",
     "output_type": "stream",
     "text": [
      "3\n",
      "3\n"
     ]
    }
   ],
   "source": [
    "N = input()\n",
    "print(N)"
   ]
  },
  {
   "cell_type": "code",
   "execution_count": 5,
   "metadata": {
    "ExecuteTime": {
     "end_time": "2020-06-11T11:41:16.520702Z",
     "start_time": "2020-06-11T11:41:00.490554Z"
    }
   },
   "outputs": [
    {
     "name": "stdout",
     "output_type": "stream",
     "text": [
      "21 Junkyu\n",
      "21 Dohyun\n",
      "20 Sunyoung\n"
     ]
    }
   ],
   "source": [
    "people = {}\n",
    "for i in range(int(N)):\n",
    "    people[str(i)]= list(input().split())"
   ]
  },
  {
   "cell_type": "code",
   "execution_count": 6,
   "metadata": {
    "ExecuteTime": {
     "end_time": "2020-06-11T11:41:18.501746Z",
     "start_time": "2020-06-11T11:41:18.496745Z"
    }
   },
   "outputs": [
    {
     "name": "stdout",
     "output_type": "stream",
     "text": [
      "{'0': ['21', 'Junkyu'], '1': ['21', 'Dohyun'], '2': ['20', 'Sunyoung']}\n"
     ]
    }
   ],
   "source": [
    "print(people)"
   ]
  },
  {
   "cell_type": "code",
   "execution_count": 11,
   "metadata": {
    "ExecuteTime": {
     "end_time": "2020-06-11T11:44:10.039716Z",
     "start_time": "2020-06-11T11:44:10.032715Z"
    }
   },
   "outputs": [
    {
     "name": "stdout",
     "output_type": "stream",
     "text": [
      "[('2', ['20', 'Sunyoung']), ('0', ['21', 'Junkyu']), ('1', ['21', 'Dohyun'])]\n"
     ]
    }
   ],
   "source": [
    "people_sort  = sorted(people.items(), key=lambda x:(x[1][0], x[0]))\n",
    "print(people_sort)\n",
    "                      "
   ]
  },
  {
   "cell_type": "code",
   "execution_count": 15,
   "metadata": {
    "ExecuteTime": {
     "end_time": "2020-06-11T11:45:11.047250Z",
     "start_time": "2020-06-11T11:45:11.041257Z"
    }
   },
   "outputs": [
    {
     "name": "stdout",
     "output_type": "stream",
     "text": [
      "20 Sunyoung\n",
      "21 Junkyu\n",
      "21 Dohyun\n"
     ]
    }
   ],
   "source": [
    "for (i, j) in people_sort:\n",
    "    print(j[0], j[1])"
   ]
  },
  {
   "cell_type": "markdown",
   "metadata": {},
   "source": [
    "#### 결과\n",
    "![10814](images/10814_1.png)"
   ]
  },
  {
   "cell_type": "markdown",
   "metadata": {
    "ExecuteTime": {
     "end_time": "2020-06-11T11:53:25.335920Z",
     "start_time": "2020-06-11T11:53:25.327917Z"
    }
   },
   "source": [
    "## 3. 풀이\n",
    "> 왜 틀렸을까?\n",
    "- 다른 사람들의 블로그를 참고해보니..굳이 입력한 순서를 저장하지 않아도 나이순으로 정렬해도 된다.\n",
    "- 나이순으로 할 때 int형으로 형 변환하자"
   ]
  },
  {
   "cell_type": "code",
   "execution_count": null,
   "metadata": {
    "ExecuteTime": {
     "end_time": "2020-06-11T11:56:09.307644Z",
     "start_time": "2020-06-11T11:55:56.146333Z"
    }
   },
   "outputs": [],
   "source": [
    "N = input()\n",
    "\n",
    "people = []\n",
    "for i in range(int(N)):\n",
    "    people.append(input().split())\n",
    " "
   ]
  },
  {
   "cell_type": "code",
   "execution_count": 23,
   "metadata": {
    "ExecuteTime": {
     "end_time": "2020-06-11T11:59:20.953586Z",
     "start_time": "2020-06-11T11:59:20.946594Z"
    }
   },
   "outputs": [
    {
     "name": "stdout",
     "output_type": "stream",
     "text": [
      "[[20, 'Sunyoung'], [21, 'Junkyu'], [21, 'Dohyun']]\n"
     ]
    }
   ],
   "source": [
    "   \n",
    "people = [[int(i), j] for (i, j) in people]\n",
    "print(people)"
   ]
  },
  {
   "cell_type": "code",
   "execution_count": 24,
   "metadata": {
    "ExecuteTime": {
     "end_time": "2020-06-11T11:59:23.488889Z",
     "start_time": "2020-06-11T11:59:23.482885Z"
    }
   },
   "outputs": [
    {
     "name": "stdout",
     "output_type": "stream",
     "text": [
      "[[20, 'Sunyoung'], [21, 'Junkyu'], [21, 'Dohyun']]\n"
     ]
    }
   ],
   "source": [
    "people_sort  = sorted(people, key=lambda x:(x[0]))\n",
    "print(people_sort)"
   ]
  },
  {
   "cell_type": "code",
   "execution_count": 25,
   "metadata": {
    "ExecuteTime": {
     "end_time": "2020-06-11T11:59:27.462647Z",
     "start_time": "2020-06-11T11:59:27.456648Z"
    }
   },
   "outputs": [
    {
     "name": "stdout",
     "output_type": "stream",
     "text": [
      "20 Sunyoung\n",
      "21 Junkyu\n",
      "21 Dohyun\n"
     ]
    }
   ],
   "source": [
    "for (i, j) in people_sort:\n",
    "    print(i, j)"
   ]
  },
  {
   "cell_type": "markdown",
   "metadata": {},
   "source": [
    "#### 결과\n",
    "![10814_2](images/10814_2.png)"
   ]
  },
  {
   "cell_type": "code",
   "execution_count": null,
   "metadata": {},
   "outputs": [],
   "source": []
  }
 ],
 "metadata": {
  "kernelspec": {
   "display_name": "Python 3",
   "language": "python",
   "name": "python3"
  },
  "language_info": {
   "codemirror_mode": {
    "name": "ipython",
    "version": 3
   },
   "file_extension": ".py",
   "mimetype": "text/x-python",
   "name": "python",
   "nbconvert_exporter": "python",
   "pygments_lexer": "ipython3",
   "version": "3.6.8"
  },
  "toc": {
   "base_numbering": 1,
   "nav_menu": {},
   "number_sections": false,
   "sideBar": true,
   "skip_h1_title": false,
   "title_cell": "Table of Contents",
   "title_sidebar": "Contents",
   "toc_cell": false,
   "toc_position": {
    "height": "calc(100% - 180px)",
    "left": "10px",
    "top": "150px",
    "width": "191.583px"
   },
   "toc_section_display": true,
   "toc_window_display": false
  },
  "varInspector": {
   "cols": {
    "lenName": 16,
    "lenType": 16,
    "lenVar": 40
   },
   "kernels_config": {
    "python": {
     "delete_cmd_postfix": "",
     "delete_cmd_prefix": "del ",
     "library": "var_list.py",
     "varRefreshCmd": "print(var_dic_list())"
    },
    "r": {
     "delete_cmd_postfix": ") ",
     "delete_cmd_prefix": "rm(",
     "library": "var_list.r",
     "varRefreshCmd": "cat(var_dic_list()) "
    }
   },
   "types_to_exclude": [
    "module",
    "function",
    "builtin_function_or_method",
    "instance",
    "_Feature"
   ],
   "window_display": false
  }
 },
 "nbformat": 4,
 "nbformat_minor": 2
}
