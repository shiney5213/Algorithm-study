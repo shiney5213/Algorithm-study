{
 "cells": [
  {
   "cell_type": "markdown",
   "metadata": {},
   "source": [
    "# 백준 15649번 문제\n",
    "- https://www.acmicpc.net/problem/15649\n",
    "\n",
    "##  1.문제\n",
    "- 자연수 N과 M이 주어졌을 때, 아래 조건을 만족하는 길이가 M인 수열을 모두 구하는 프로그램을 작성하시오.\n",
    "- 1부터 N까지 자연수 중에서 중복 없이 M개를 고른 수열\n",
    "\n",
    "\n",
    "> 입력\n",
    "- 첫째 줄에 자연수 N과 M이 주어진다. (1 ≤ M ≤ N ≤ 8)\n",
    "- 예\n",
    "- 3 1\n",
    "\n",
    "> 출력\n",
    "- 한 줄에 하나씩 문제의 조건을 만족하는 수열을 출력한다. 중복되는 수열을 여러 번 출력하면 안되며, 각 수열은 공백으로 구분해서 출력해야 한다.\n",
    "- 수열은 사전 순으로 증가하는 순서로 출력해야 한다.\n",
    "- 예\n",
    "- 1\n",
    "- 2\n",
    "- 3"
   ]
  },
  {
   "cell_type": "markdown",
   "metadata": {
    "ExecuteTime": {
     "end_time": "2020-02-07T04:17:28.198938Z",
     "start_time": "2020-02-07T04:17:28.195946Z"
    }
   },
   "source": [
    "## 2.풀이\n",
    "> 백트래킹 알고리즘\n",
    "- 모든 조합의 수를 살펴보는 것. 단 조건이 만족할 때만\n",
    "- DFS(Depth First Search): 깊이 우선 탐색, 현재지점에서 방문할 곳이 있으면 재귀호출을 이용해서 계속 하는 것. \n",
    "- 백트래킹: DFS에 가치지기를 통해 안가도 되는 루트는 고려하지 않고 탐색하는 완전탐색기법\n",
    "- 참고: https://developmentdiary.tistory.com/288"
   ]
  },
  {
   "cell_type": "code",
   "execution_count": 7,
   "metadata": {},
   "outputs": [
    {
     "name": "stdout",
     "output_type": "stream",
     "text": [
      "3 1\n",
      "[0, 0, 0, 0]\n",
      "[0]\n"
     ]
    }
   ],
   "source": [
    "n , m = map(int, input().split())\n",
    "\n",
    "check = [0 for _ in range(n+1)]\n",
    "result = [0 for _ in range(m)]\n",
    "print(check)\n",
    "print(result)"
   ]
  },
  {
   "cell_type": "code",
   "execution_count": 11,
   "metadata": {},
   "outputs": [],
   "source": [
    "def sequence(index, n, m):\n",
    "    if index == m:   # index가 0에서 m\n",
    "        for i in range(m):\n",
    "            print(result[i], end = ' ')\n",
    "        print()\n",
    "        return\n",
    "    for i in range(1, n + 1):\n",
    "        if check[i]==1:\n",
    "            continue\n",
    "        result[index]=i\n",
    "        check[i]=1\n",
    "        sequence(index+1, n, m)\n",
    "        check[i]=0\n",
    "        "
   ]
  },
  {
   "cell_type": "code",
   "execution_count": 12,
   "metadata": {},
   "outputs": [
    {
     "name": "stdout",
     "output_type": "stream",
     "text": [
      "1 \n",
      "2 \n",
      "3 \n"
     ]
    }
   ],
   "source": [
    "sequence(0, n, m)  # index가 0부터 시작"
   ]
  },
  {
   "cell_type": "code",
   "execution_count": null,
   "metadata": {},
   "outputs": [],
   "source": []
  },
  {
   "cell_type": "code",
   "execution_count": null,
   "metadata": {},
   "outputs": [],
   "source": []
  },
  {
   "cell_type": "code",
   "execution_count": null,
   "metadata": {},
   "outputs": [],
   "source": []
  }
 ],
 "metadata": {
  "kernelspec": {
   "display_name": "Python 3",
   "language": "python",
   "name": "python3"
  },
  "language_info": {
   "codemirror_mode": {
    "name": "ipython",
    "version": 3
   },
   "file_extension": ".py",
   "mimetype": "text/x-python",
   "name": "python",
   "nbconvert_exporter": "python",
   "pygments_lexer": "ipython3",
   "version": "3.6.10"
  },
  "toc": {
   "base_numbering": 1,
   "nav_menu": {},
   "number_sections": false,
   "sideBar": true,
   "skip_h1_title": false,
   "title_cell": "Table of Contents",
   "title_sidebar": "Contents",
   "toc_cell": false,
   "toc_position": {
    "height": "calc(100% - 180px)",
    "left": "10px",
    "top": "150px",
    "width": "191.583px"
   },
   "toc_section_display": true,
   "toc_window_display": false
  },
  "varInspector": {
   "cols": {
    "lenName": 16,
    "lenType": 16,
    "lenVar": 40
   },
   "kernels_config": {
    "python": {
     "delete_cmd_postfix": "",
     "delete_cmd_prefix": "del ",
     "library": "var_list.py",
     "varRefreshCmd": "print(var_dic_list())"
    },
    "r": {
     "delete_cmd_postfix": ") ",
     "delete_cmd_prefix": "rm(",
     "library": "var_list.r",
     "varRefreshCmd": "cat(var_dic_list()) "
    }
   },
   "types_to_exclude": [
    "module",
    "function",
    "builtin_function_or_method",
    "instance",
    "_Feature"
   ],
   "window_display": false
  }
 },
 "nbformat": 4,
 "nbformat_minor": 2
}
