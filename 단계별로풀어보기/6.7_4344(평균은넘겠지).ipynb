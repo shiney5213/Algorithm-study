{
 "cells": [
  {
   "cell_type": "markdown",
   "metadata": {},
   "source": [
    "# 백준 4344번 문제\n",
    "- https://www.acmicpc.net/problem/4344\n",
    "\n",
    "##  문제\n",
    "- 대학생 새내기들의 90%는 자신이 반에서 평균은 넘는다고 생각한다. 당신은 그들에게 슬픈 진실을 알려줘야 한다.\n",
    "\n",
    "> 입력\n",
    "- 첫째 줄에는 테스트 케이스의 개수 C가 주어진다.\n",
    "\n",
    "- 둘째 줄부터 각 테스트 케이스마다 학생의 수 N(1 ≤ N ≤ 1000, N은 정수)이 첫 수로 주어지고, 이어서 N명의 점수가 주어진다. 점수는 0보다 크거나 같고, 100보다 작거나 같은 정수이다.\n",
    "\n",
    ">> 예:\n",
    "- 5\n",
    "- 5 50 50 70 80 100\n",
    "- 7 100 95 90 80 70 60 50\n",
    "- 3 70 90 80\n",
    "- 3 70 90 81\n",
    "- 9 100 99 98 97 96 95 94 93 91\n",
    "\n",
    "> 출력\n",
    "- 각 케이스마다 한 줄씩 평균을 넘는 학생들의 비율을 반올림하여 소수점 셋째 자리까지 출력한다.\n",
    "\n",
    "\n",
    "\n",
    "\n",
    ">> 예\n",
    "- 40.000%\n",
    "- 57.143%\n",
    "- 33.333%\n",
    "- 66.667%\n",
    "- 55.556%"
   ]
  },
  {
   "cell_type": "markdown",
   "metadata": {
    "ExecuteTime": {
     "end_time": "2020-02-07T04:17:28.198938Z",
     "start_time": "2020-02-07T04:17:28.195946Z"
    }
   },
   "source": [
    "## 1.풀이\n",
    "> 평균이 넘는 학생들의 비율\n",
    "- 평균을 먼저 구하고, (평균보다 넘는 학생의 수 /전체 학생수) * 100로 구해보자"
   ]
  },
  {
   "cell_type": "code",
   "execution_count": 20,
   "metadata": {
    "ExecuteTime": {
     "end_time": "2020-03-16T12:33:17.508899Z",
     "start_time": "2020-03-16T12:33:16.284360Z"
    }
   },
   "outputs": [
    {
     "name": "stdout",
     "output_type": "stream",
     "text": [
      "5\n"
     ]
    }
   ],
   "source": [
    "N = int(input())"
   ]
  },
  {
   "cell_type": "code",
   "execution_count": 21,
   "metadata": {
    "ExecuteTime": {
     "end_time": "2020-03-16T12:33:56.893868Z",
     "start_time": "2020-03-16T12:33:23.878333Z"
    }
   },
   "outputs": [
    {
     "name": "stdout",
     "output_type": "stream",
     "text": [
      "5 50 50 70 80 100\n",
      "40.0 %\n",
      "7 100 95 90 80 70 60 50\n",
      "57.143 %\n",
      "3 70 90 80\n",
      "33.333 %\n",
      "3 70 90 81\n",
      "66.667 %\n",
      "9 100 99 98 97 96 95 94 93 91\n",
      "55.556 %\n"
     ]
    }
   ],
   "source": [
    "for i in range(N):\n",
    "    scores = list(map(int, input().split()))\n",
    "    avg = sum(scores[1:])/scores[0]\n",
    "    cnt = 0\n",
    "    for i in scores :\n",
    "        if i > avg:\n",
    "            cnt += 1\n",
    "    print(round((cnt/scores[0] * 100),3),'%')"
   ]
  },
  {
   "cell_type": "markdown",
   "metadata": {
    "ExecuteTime": {
     "end_time": "2020-02-10T02:35:18.218974Z",
     "start_time": "2020-02-10T02:35:18.216027Z"
    }
   },
   "source": [
    "### 결과"
   ]
  },
  {
   "cell_type": "markdown",
   "metadata": {
    "ExecuteTime": {
     "end_time": "2020-02-10T01:09:09.720273Z",
     "start_time": "2020-02-10T01:09:09.703301Z"
    }
   },
   "source": [
    "![4344_1](images/4344_1.png)"
   ]
  },
  {
   "cell_type": "markdown",
   "metadata": {},
   "source": [
    "## 2. 풀이\n",
    "- 왜 틀렸을까? 다시 확인해보자\n",
    "- 출력이 소수점 셋째자리까지 출력해야 한다"
   ]
  },
  {
   "cell_type": "code",
   "execution_count": 1,
   "metadata": {
    "ExecuteTime": {
     "end_time": "2020-03-16T12:52:37.256667Z",
     "start_time": "2020-03-16T12:52:36.403407Z"
    }
   },
   "outputs": [
    {
     "name": "stdout",
     "output_type": "stream",
     "text": [
      "5\n"
     ]
    }
   ],
   "source": [
    "N = int(input())"
   ]
  },
  {
   "cell_type": "code",
   "execution_count": 2,
   "metadata": {
    "ExecuteTime": {
     "end_time": "2020-03-16T12:53:23.076948Z",
     "start_time": "2020-03-16T12:52:41.672664Z"
    }
   },
   "outputs": [
    {
     "name": "stdout",
     "output_type": "stream",
     "text": [
      "5 50 50 70 80 100\n",
      "40.000%\n",
      "7 100 95 90 80 70 60 50\n",
      "57.143%\n",
      "3 70 90 80\n",
      "33.333%\n",
      "3 70 90 81\n",
      "66.667%\n",
      "9 100 99 98 97 96 95 94 93 91\n",
      "55.556%\n"
     ]
    }
   ],
   "source": [
    "for i in range(N):\n",
    "    scores = list(map(int, input().split()))\n",
    "    avg = sum(scores[1:])/scores[0]\n",
    "    cnt = 0\n",
    "    for i in scores :\n",
    "        if i > avg:\n",
    "            cnt += 1\n",
    "    rate =round((cnt/scores[0] * 100),3 )\n",
    "    print(format(rate, '.3f')+'%')"
   ]
  },
  {
   "cell_type": "markdown",
   "metadata": {
    "ExecuteTime": {
     "end_time": "2020-02-10T01:09:09.720273Z",
     "start_time": "2020-02-10T01:09:09.703301Z"
    }
   },
   "source": [
    "![4344_12](images/4344_2.png)"
   ]
  },
  {
   "cell_type": "markdown",
   "metadata": {},
   "source": [
    "## 3. 풀이\n",
    "- 왜 틀렸을까? 다시 확인해보자\n",
    "- for문에서 0번 원소는 빼야 함....."
   ]
  },
  {
   "cell_type": "code",
   "execution_count": null,
   "metadata": {
    "ExecuteTime": {
     "start_time": "2020-03-16T13:06:51.785Z"
    }
   },
   "outputs": [],
   "source": [
    "N = int(input())"
   ]
  },
  {
   "cell_type": "code",
   "execution_count": null,
   "metadata": {
    "ExecuteTime": {
     "start_time": "2020-03-16T13:06:57.936Z"
    }
   },
   "outputs": [],
   "source": [
    "for i in range(N):\n",
    "    scores = list(map(int, input().split()))\n",
    "    avg = sum(scores[1:])/scores[0]\n",
    "    cnt = 0\n",
    "    for i in scores[1:] :\n",
    "        if i > avg:\n",
    "            cnt += 1\n",
    "    rate =round((cnt/scores[0] * 100),3 )\n",
    "    print(format(rate, '.3f')+'%')"
   ]
  },
  {
   "cell_type": "markdown",
   "metadata": {
    "ExecuteTime": {
     "end_time": "2020-02-10T01:09:09.720273Z",
     "start_time": "2020-02-10T01:09:09.703301Z"
    }
   },
   "source": [
    "![4344_4](images/4344_4.png)"
   ]
  },
  {
   "cell_type": "markdown",
   "metadata": {
    "ExecuteTime": {
     "end_time": "2020-03-16T12:55:53.210168Z",
     "start_time": "2020-03-16T12:55:53.204166Z"
    }
   },
   "source": [
    "## 4. 풀이\n",
    "\n",
    "- numpy를 사용해서 다시 풀어보자"
   ]
  },
  {
   "cell_type": "code",
   "execution_count": 4,
   "metadata": {
    "ExecuteTime": {
     "end_time": "2020-03-16T12:56:05.544229Z",
     "start_time": "2020-03-16T12:56:05.188228Z"
    }
   },
   "outputs": [],
   "source": [
    "import numpy as np\n"
   ]
  },
  {
   "cell_type": "code",
   "execution_count": 5,
   "metadata": {
    "ExecuteTime": {
     "end_time": "2020-03-16T12:56:13.364985Z",
     "start_time": "2020-03-16T12:56:11.684437Z"
    }
   },
   "outputs": [
    {
     "name": "stdout",
     "output_type": "stream",
     "text": [
      "5\n"
     ]
    }
   ],
   "source": [
    "N = int(input())"
   ]
  },
  {
   "cell_type": "code",
   "execution_count": 13,
   "metadata": {
    "ExecuteTime": {
     "end_time": "2020-03-16T13:08:43.692602Z",
     "start_time": "2020-03-16T13:05:26.106781Z"
    }
   },
   "outputs": [
    {
     "name": "stdout",
     "output_type": "stream",
     "text": [
      "5 50 50 70 80 100\n",
      "40.000%\n",
      "7 100 95 90 80 70 60 50\n",
      "57.143%\n",
      "3 70 90 80\n",
      "33.333%\n",
      "3 70 90 81\n",
      "66.667%\n",
      "9 100 99 98 97 96 95 94 93 91\n",
      "55.556%\n"
     ]
    }
   ],
   "source": [
    "for i in range(N):\n",
    "    scores = list(map(int, input().split()))\n",
    "    avg = np.mean(scores[1:])\n",
    "    cnt = sum([ 1 for i in scores[1:] if i > avg])\n",
    "    rate =round((cnt/scores[0] * 100),3 )\n",
    "    print(format(rate, '.3f')+'%')"
   ]
  },
  {
   "cell_type": "markdown",
   "metadata": {
    "ExecuteTime": {
     "end_time": "2020-02-10T01:09:09.720273Z",
     "start_time": "2020-02-10T01:09:09.703301Z"
    }
   },
   "source": [
    "![4344_3](images/4344_3.png)"
   ]
  },
  {
   "cell_type": "markdown",
   "metadata": {},
   "source": [
    "> 왜 안되는지....잘 모르겠음\n",
    "- 다른 블로그를 참고해봐도...어렵당..\n",
    "- 나중에 다시 해보자..ㅜㅠ"
   ]
  },
  {
   "cell_type": "code",
   "execution_count": null,
   "metadata": {},
   "outputs": [],
   "source": []
  }
 ],
 "metadata": {
  "kernelspec": {
   "display_name": "Python 3",
   "language": "python",
   "name": "python3"
  },
  "language_info": {
   "codemirror_mode": {
    "name": "ipython",
    "version": 3
   },
   "file_extension": ".py",
   "mimetype": "text/x-python",
   "name": "python",
   "nbconvert_exporter": "python",
   "pygments_lexer": "ipython3",
   "version": "3.6.8"
  },
  "toc": {
   "base_numbering": 1,
   "nav_menu": {},
   "number_sections": false,
   "sideBar": true,
   "skip_h1_title": false,
   "title_cell": "Table of Contents",
   "title_sidebar": "Contents",
   "toc_cell": false,
   "toc_position": {
    "height": "calc(100% - 180px)",
    "left": "10px",
    "top": "150px",
    "width": "191.594px"
   },
   "toc_section_display": true,
   "toc_window_display": false
  },
  "varInspector": {
   "cols": {
    "lenName": 16,
    "lenType": 16,
    "lenVar": 40
   },
   "kernels_config": {
    "python": {
     "delete_cmd_postfix": "",
     "delete_cmd_prefix": "del ",
     "library": "var_list.py",
     "varRefreshCmd": "print(var_dic_list())"
    },
    "r": {
     "delete_cmd_postfix": ") ",
     "delete_cmd_prefix": "rm(",
     "library": "var_list.r",
     "varRefreshCmd": "cat(var_dic_list()) "
    }
   },
   "types_to_exclude": [
    "module",
    "function",
    "builtin_function_or_method",
    "instance",
    "_Feature"
   ],
   "window_display": false
  }
 },
 "nbformat": 4,
 "nbformat_minor": 2
}
