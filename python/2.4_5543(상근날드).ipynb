{
 "cells": [
  {
   "cell_type": "markdown",
   "metadata": {},
   "source": [
    "# 백준 5543번 문제\n",
    "- https://www.acmicpc.net/problem/5543\n",
    "\n",
    "##  문제\n",
    "- 상근날드에서 가장 잘 팔리는 메뉴는 세트 메뉴이다. 주문할 때, 자신이 원하는 햄버거와 음료를 하나씩 골라, 세트로 구매하면, 가격의 합계에서 50원을 뺀 가격이 세트 메뉴의 가격이 된다.\n",
    "\n",
    "-햄버거는 총 3종류 상덕버거, 중덕버거, 하덕버거가 있고, 음료는 콜라와 사이다 두 종류가 있다.\n",
    "\n",
    "-햄버거와 음료의 가격이 주어졌을 때, 가장 싼 세트 메뉴의 가격을 출력하는 프로그램을 작성하시오.\n",
    "\n",
    "> 입력\n",
    "- 입력은 총 다섯 줄이다. \n",
    "- 첫째 줄에는 상덕버거, 둘째 줄에는 중덕버거, 셋째 줄에는 하덕버거의 가격이 주어진다. \n",
    "- 넷째 줄에는 콜라의 가격, 다섯째 줄에는 사이다의 가격이 주어진다. \n",
    "- 모든 가격은 100원 이상, 2000원 이하이다.\n",
    "- 예\n",
    "- 800\n",
    "- 700\n",
    "- 900\n",
    "- 198\n",
    "- 300\n",
    "\n",
    "> 출력\n",
    "- 첫째 줄에 가장 싼 세트 메뉴의 가격을 출력한다.\n",
    "-  예: 848"
   ]
  },
  {
   "cell_type": "markdown",
   "metadata": {
    "ExecuteTime": {
     "end_time": "2020-02-07T04:17:28.198938Z",
     "start_time": "2020-02-07T04:17:28.195946Z"
    }
   },
   "source": [
    "## 1.해결 1 \n",
    "\n",
    "> 세트 가격 결정\n",
    "- 햄버거 가격 중 가장 저렴한 것 + 콜라 사이다 중 저렴한 것 - 50"
   ]
  },
  {
   "cell_type": "code",
   "execution_count": 1,
   "metadata": {
    "ExecuteTime": {
     "end_time": "2020-03-07T02:42:31.276814Z",
     "start_time": "2020-03-07T02:42:23.576946Z"
    }
   },
   "outputs": [
    {
     "name": "stdout",
     "output_type": "stream",
     "text": [
      "700 \n",
      "800\n",
      "900\n",
      "150\n",
      "300\n"
     ]
    }
   ],
   "source": [
    "price = []\n",
    "for i in range(1, 6): \n",
    "    price.append(input().split())"
   ]
  },
  {
   "cell_type": "code",
   "execution_count": 2,
   "metadata": {
    "ExecuteTime": {
     "end_time": "2020-03-07T02:42:32.369857Z",
     "start_time": "2020-03-07T02:42:32.360813Z"
    }
   },
   "outputs": [
    {
     "name": "stdout",
     "output_type": "stream",
     "text": [
      "['700'] ['150']\n"
     ]
    }
   ],
   "source": [
    "burger = min(price[:3])\n",
    "beverage = min(price[3:])\n",
    "print(burger, beverage)"
   ]
  },
  {
   "cell_type": "code",
   "execution_count": 3,
   "metadata": {
    "ExecuteTime": {
     "end_time": "2020-03-07T02:42:33.681774Z",
     "start_time": "2020-03-07T02:42:33.674769Z"
    }
   },
   "outputs": [
    {
     "name": "stdout",
     "output_type": "stream",
     "text": [
      "800\n"
     ]
    }
   ],
   "source": [
    "print(int(burger[0]) + int(beverage[0]) - 50)"
   ]
  },
  {
   "cell_type": "markdown",
   "metadata": {
    "ExecuteTime": {
     "end_time": "2020-02-10T02:35:18.218974Z",
     "start_time": "2020-02-10T02:35:18.216027Z"
    }
   },
   "source": [
    "### 결과"
   ]
  },
  {
   "cell_type": "markdown",
   "metadata": {
    "ExecuteTime": {
     "end_time": "2020-02-10T01:09:09.720273Z",
     "start_time": "2020-02-10T01:09:09.703301Z"
    }
   },
   "source": [
    "![5543_1](images/5543_1.png)"
   ]
  },
  {
   "cell_type": "markdown",
   "metadata": {},
   "source": [
    "## 2. 해결2"
   ]
  },
  {
   "cell_type": "markdown",
   "metadata": {},
   "source": [
    "> 왜 틀렸을까?\n",
    "- if문을 사용해서 해보자"
   ]
  },
  {
   "cell_type": "code",
   "execution_count": 4,
   "metadata": {
    "ExecuteTime": {
     "end_time": "2020-03-07T02:42:53.867200Z",
     "start_time": "2020-03-07T02:42:48.033619Z"
    }
   },
   "outputs": [
    {
     "name": "stdout",
     "output_type": "stream",
     "text": [
      "700\n",
      "800\n",
      "900\n",
      "150\n",
      "300\n"
     ]
    }
   ],
   "source": [
    "price = []\n",
    "for i in range(1, 6): \n",
    "    price.append(input().split())"
   ]
  },
  {
   "cell_type": "code",
   "execution_count": 11,
   "metadata": {
    "ExecuteTime": {
     "end_time": "2020-03-07T02:47:40.877706Z",
     "start_time": "2020-03-07T02:47:40.866706Z"
    }
   },
   "outputs": [
    {
     "name": "stdout",
     "output_type": "stream",
     "text": [
      "['700']\n",
      "['150']\n"
     ]
    }
   ],
   "source": [
    "a, b, c = price[:3]\n",
    "\n",
    "burger = 0\n",
    "if a >= b:\n",
    "    if b >= c:\n",
    "        burger = c\n",
    "    else:\n",
    "        berger = b\n",
    "else:\n",
    "    if a >= c:\n",
    "        burger = c\n",
    "    else:\n",
    "        burger = a\n",
    "\n",
    "print(burger)\n",
    "    \n",
    "d,e = price[3:]\n",
    "beverage = 0\n",
    "if d >= e:\n",
    "    beverage = e\n",
    "else:    \n",
    "    beverage = d\n",
    "print(beverage)\n",
    "\n",
    "    "
   ]
  },
  {
   "cell_type": "code",
   "execution_count": 12,
   "metadata": {
    "ExecuteTime": {
     "end_time": "2020-03-07T02:47:52.361531Z",
     "start_time": "2020-03-07T02:47:52.355529Z"
    },
    "scrolled": true
   },
   "outputs": [
    {
     "name": "stdout",
     "output_type": "stream",
     "text": [
      "800\n"
     ]
    }
   ],
   "source": [
    "print(int(burger[0]) + int(beverage[0]) - 50)"
   ]
  },
  {
   "cell_type": "markdown",
   "metadata": {},
   "source": [
    "### 결과"
   ]
  },
  {
   "cell_type": "markdown",
   "metadata": {},
   "source": [
    "![5543_2](images/5543_2.png)"
   ]
  },
  {
   "cell_type": "markdown",
   "metadata": {
    "ExecuteTime": {
     "end_time": "2020-03-07T02:49:23.769242Z",
     "start_time": "2020-03-07T02:49:23.762110Z"
    }
   },
   "source": [
    "## 3. 해결3\n",
    "> 런타임에러\n",
    "- 입력받을 때 sys.stdin.readline()을 이용해보자"
   ]
  },
  {
   "cell_type": "code",
   "execution_count": 14,
   "metadata": {
    "ExecuteTime": {
     "end_time": "2020-03-07T02:58:53.654621Z",
     "start_time": "2020-03-07T02:51:08.345965Z"
    },
    "scrolled": true
   },
   "outputs": [
    {
     "name": "stdout",
     "output_type": "stream",
     "text": [
      "700\n"
     ]
    },
    {
     "ename": "ValueError",
     "evalue": "not enough values to unpack (expected 2, got 1)",
     "output_type": "error",
     "traceback": [
      "\u001b[1;31m---------------------------------------------------------------------------\u001b[0m",
      "\u001b[1;31mValueError\u001b[0m                                Traceback (most recent call last)",
      "\u001b[1;32m<ipython-input-14-9fa8b3f08cc4>\u001b[0m in \u001b[0;36m<module>\u001b[1;34m\u001b[0m\n\u001b[1;32m----> 1\u001b[1;33m \u001b[0ma\u001b[0m\u001b[1;33m,\u001b[0m\u001b[0mb\u001b[0m \u001b[1;33m=\u001b[0m \u001b[0mmap\u001b[0m\u001b[1;33m(\u001b[0m\u001b[0mint\u001b[0m\u001b[1;33m,\u001b[0m \u001b[0minput\u001b[0m\u001b[1;33m(\u001b[0m\u001b[1;33m)\u001b[0m\u001b[1;33m.\u001b[0m\u001b[0msplit\u001b[0m\u001b[1;33m(\u001b[0m\u001b[1;33m)\u001b[0m\u001b[1;33m)\u001b[0m\u001b[1;33m\u001b[0m\u001b[1;33m\u001b[0m\u001b[0m\n\u001b[0m",
      "\u001b[1;31mValueError\u001b[0m: not enough values to unpack (expected 2, got 1)"
     ]
    }
   ],
   "source": [
    "import sys\n",
    "\n",
    "price = []\n",
    "for i in range(5):\n",
    "\tprice.append(sys.stdin.readline().replace('\\n', ''))\n",
    "\n",
    "\n",
    "a, b, c = price[:3]\n",
    "\n",
    "burger = 2000\n",
    "if a >= b:\n",
    "    if b >= c:\n",
    "        burger = c\n",
    "    else:\n",
    "        berger = b\n",
    "else:\n",
    "    if a >= c:\n",
    "        burger = c\n",
    "    else:\n",
    "        burger = a\n",
    "\n",
    "    \n",
    "d,e = price[3:]\n",
    "beverage = 2000\n",
    "if d >= e:\n",
    "    beverage = e\n",
    "else:    \n",
    "    beverage = d\n",
    "print(int(burger) + int(beverage) - 50)"
   ]
  },
  {
   "cell_type": "markdown",
   "metadata": {},
   "source": [
    "### 결과"
   ]
  },
  {
   "cell_type": "markdown",
   "metadata": {},
   "source": [
    "![5543_3](images/5543_3.png)"
   ]
  },
  {
   "cell_type": "markdown",
   "metadata": {
    "ExecuteTime": {
     "end_time": "2020-03-07T03:03:10.534804Z",
     "start_time": "2020-03-07T03:03:10.527804Z"
    }
   },
   "source": [
    "## 해결4\n",
    "> 다른 블로그 참고하자\n",
    "- https://yongku.tistory.com/entry/%EB%B0%B1%EC%A4%80-5543%EB%B2%88-%EC%83%81%EA%B7%BC%EB%82%A0%EB%93%9C-%ED%8C%8C%EC%9D%B4%EC%8D%ACPython\n",
    "\n",
    "- 입력 받을 때는 input(), readline() 중 어떤 것을 사용해도 상관없음.\n",
    "- <font color = 'red'>최소값을 비교할 때 문제에 주어진 2000원에 대한 비교가 있어야 함.\n",
    "- 메모리 절약을 위해 모든 값을 저장해놓고 한꺼번에 비교하는 것보다, 입력받을 때마다 비교하기</font>"
   ]
  },
  {
   "cell_type": "code",
   "execution_count": 1,
   "metadata": {
    "ExecuteTime": {
     "end_time": "2020-03-07T03:11:30.206667Z",
     "start_time": "2020-03-07T03:11:26.221781Z"
    }
   },
   "outputs": [
    {
     "name": "stdout",
     "output_type": "stream",
     "text": [
      "700\n",
      "800\n",
      "900\n",
      "700\n"
     ]
    }
   ],
   "source": [
    "min_berger= 2000\n",
    "for i in range(3): \n",
    "    berger =int(input())\n",
    "    min_berger = min(berger, min_berger)\n",
    "print(min_berger)"
   ]
  },
  {
   "cell_type": "code",
   "execution_count": 2,
   "metadata": {
    "ExecuteTime": {
     "end_time": "2020-03-07T03:12:11.853380Z",
     "start_time": "2020-03-07T03:12:08.716812Z"
    }
   },
   "outputs": [
    {
     "name": "stdout",
     "output_type": "stream",
     "text": [
      "150\n",
      "300\n",
      "150\n"
     ]
    }
   ],
   "source": [
    "min_beverage= 2000\n",
    "for i in range(2): \n",
    "    beverage =int(input())\n",
    "    min_beverage = min(beverage, min_beverage)\n",
    "print(min_beverage)\n"
   ]
  },
  {
   "cell_type": "code",
   "execution_count": 3,
   "metadata": {
    "ExecuteTime": {
     "end_time": "2020-03-07T03:12:26.920589Z",
     "start_time": "2020-03-07T03:12:26.915588Z"
    }
   },
   "outputs": [
    {
     "name": "stdout",
     "output_type": "stream",
     "text": [
      "800\n"
     ]
    }
   ],
   "source": [
    "print(min_berger + min_beverage - 50)"
   ]
  },
  {
   "cell_type": "markdown",
   "metadata": {},
   "source": [
    "### 결과"
   ]
  },
  {
   "cell_type": "markdown",
   "metadata": {},
   "source": [
    "![5543_4](images/5543_4.png)"
   ]
  },
  {
   "cell_type": "code",
   "execution_count": null,
   "metadata": {},
   "outputs": [],
   "source": []
  }
 ],
 "metadata": {
  "kernelspec": {
   "display_name": "Python 3",
   "language": "python",
   "name": "python3"
  },
  "language_info": {
   "codemirror_mode": {
    "name": "ipython",
    "version": 3
   },
   "file_extension": ".py",
   "mimetype": "text/x-python",
   "name": "python",
   "nbconvert_exporter": "python",
   "pygments_lexer": "ipython3",
   "version": "3.6.8"
  },
  "toc": {
   "base_numbering": 1,
   "nav_menu": {},
   "number_sections": false,
   "sideBar": true,
   "skip_h1_title": false,
   "title_cell": "Table of Contents",
   "title_sidebar": "Contents",
   "toc_cell": false,
   "toc_position": {
    "height": "calc(100% - 180px)",
    "left": "10px",
    "top": "150px",
    "width": "191.591px"
   },
   "toc_section_display": true,
   "toc_window_display": true
  },
  "varInspector": {
   "cols": {
    "lenName": 16,
    "lenType": 16,
    "lenVar": 40
   },
   "kernels_config": {
    "python": {
     "delete_cmd_postfix": "",
     "delete_cmd_prefix": "del ",
     "library": "var_list.py",
     "varRefreshCmd": "print(var_dic_list())"
    },
    "r": {
     "delete_cmd_postfix": ") ",
     "delete_cmd_prefix": "rm(",
     "library": "var_list.r",
     "varRefreshCmd": "cat(var_dic_list()) "
    }
   },
   "types_to_exclude": [
    "module",
    "function",
    "builtin_function_or_method",
    "instance",
    "_Feature"
   ],
   "window_display": false
  }
 },
 "nbformat": 4,
 "nbformat_minor": 2
}
