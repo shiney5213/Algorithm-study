{
 "cells": [
  {
   "cell_type": "markdown",
   "metadata": {},
   "source": [
    "# 백준 2884번 문제\n",
    "- https://www.acmicpc.net/problem/2753\n",
    "\n",
    "##  문제\n",
    "- 상근이는 매일 아침 알람을 듣고 일어난다. 알람을 듣고 바로 일어나면 다행이겠지만, 항상 조금만 더 자려는 마음 때문에 매일 학교를 지각하고 있다.\n",
    "- 상근이는 모든 방법을 동원해보았지만, 조금만 더 자려는 마음은 그 어떤 것도 없앨 수가 없었다.\n",
    "- 이런 상근이를 불쌍하게 보던, 창영이는 자신이 사용하는 방법을 추천해 주었다.\n",
    "- 바로 \"45분 일찍 알람 맞추기\"이다.\n",
    "\n",
    "- 이 방법은 단순하다. 원래 맞춰져있는 알람을 45분 앞서는 시간으로 바꾸는 것이다. \n",
    "- 어차피 알람 소리를 들으면, 알람을 끄고 조금 더 잘 것이기 때문이다. \n",
    "- 이 방법을 사용하면, 매일 아침 더 잤다는 기분을 느낄 수 있고, 학교도 지각하지 않게 된다.\n",
    "- 현재 상근이가 맞춰논 알람 시각이 주어졌을 때, 창영이의 방법을 사용한다면, 이를 언제로 고쳐야 하는지 구하는 프로그램을 작성하시오.\n",
    "\n",
    "> 입력\n",
    "- 첫째 줄에 두 정수 H와 M이 주어진다. (0 ≤ H ≤ 23, 0 ≤ M ≤ 59) \n",
    "- 그리고 이것은 현재 상근이가 맞춰놓은 알람 시간 H시 M분을 의미한다.\n",
    "- 입력 시간은 24시간 표현을 사용한다. \n",
    "- 24시간 표현에서 하루의 시작은 0:0(자정)이고, 끝은 23:59(다음날 자정 1분 전)이다. 시간을 나타낼 때, 불필요한 0은 사용하지 않는다.\n",
    "- 예: 10 10\n",
    "\n",
    "> 출력\n",
    "- 첫째 줄에 상근이가 창영이의 방법을 사용할 때, 맞춰야 하는 알람 시간을 출력한다. (입력과 같은 형태로 출력하면 된다.)\n",
    "- 예: 9 25"
   ]
  },
  {
   "cell_type": "markdown",
   "metadata": {
    "ExecuteTime": {
     "end_time": "2020-02-07T04:17:28.198938Z",
     "start_time": "2020-02-07T04:17:28.195946Z"
    }
   },
   "source": [
    "## 1.풀이\n",
    "\n",
    "> 분을 먼저 비교\n",
    "- 분이 45보다 크면 min - 45, 시간을 그대로 출력\n",
    "- 분이 45보다 작으면 min + 60 - 45, 시간은 1을 빼서 출력"
   ]
  },
  {
   "cell_type": "code",
   "execution_count": 22,
   "metadata": {
    "ExecuteTime": {
     "end_time": "2020-02-12T12:52:27.114312Z",
     "start_time": "2020-02-12T12:52:25.073749Z"
    }
   },
   "outputs": [
    {
     "name": "stdout",
     "output_type": "stream",
     "text": [
      "0 10\n"
     ]
    }
   ],
   "source": [
    "h, m = map(int, input().split())"
   ]
  },
  {
   "cell_type": "code",
   "execution_count": 23,
   "metadata": {
    "ExecuteTime": {
     "end_time": "2020-02-12T12:52:27.990042Z",
     "start_time": "2020-02-12T12:52:27.986053Z"
    }
   },
   "outputs": [
    {
     "name": "stdout",
     "output_type": "stream",
     "text": [
      "-1 25\n"
     ]
    }
   ],
   "source": [
    "if m >= 45:\n",
    "    print(h, end = ' ')\n",
    "    print( m-45)\n",
    "else:\n",
    "    print( h-1,end = ' ')\n",
    "    print( m+60-45,)    "
   ]
  },
  {
   "cell_type": "markdown",
   "metadata": {
    "ExecuteTime": {
     "end_time": "2020-02-10T02:35:18.218974Z",
     "start_time": "2020-02-10T02:35:18.216027Z"
    }
   },
   "source": [
    "### 결과"
   ]
  },
  {
   "cell_type": "markdown",
   "metadata": {
    "ExecuteTime": {
     "end_time": "2020-02-10T01:09:09.720273Z",
     "start_time": "2020-02-10T01:09:09.703301Z"
    }
   },
   "source": [
    "![2884_1](images/2884_1.png)"
   ]
  },
  {
   "cell_type": "markdown",
   "metadata": {
    "ExecuteTime": {
     "end_time": "2020-02-07T04:17:28.198938Z",
     "start_time": "2020-02-07T04:17:28.195946Z"
    }
   },
   "source": [
    "## 2.풀이\n",
    "\n",
    "> 시간과 분의 조건을 고려해야 함.\n",
    "- 시간은 0~23 -> 시간이 0이 입력되는 경우 -1이 출력됨.\n",
    "- 분은 0~59임을 고려해야 함."
   ]
  },
  {
   "cell_type": "code",
   "execution_count": 12,
   "metadata": {
    "ExecuteTime": {
     "end_time": "2020-02-17T00:59:20.450888Z",
     "start_time": "2020-02-17T00:59:15.216567Z"
    },
    "scrolled": true
   },
   "outputs": [
    {
     "name": "stdout",
     "output_type": "stream",
     "text": [
      "23 59\n"
     ]
    }
   ],
   "source": [
    "h, m = map(int, input().split())"
   ]
  },
  {
   "cell_type": "code",
   "execution_count": 13,
   "metadata": {
    "ExecuteTime": {
     "end_time": "2020-02-17T00:59:21.109466Z",
     "start_time": "2020-02-17T00:59:21.103516Z"
    }
   },
   "outputs": [
    {
     "name": "stdout",
     "output_type": "stream",
     "text": [
      "23 14\n"
     ]
    }
   ],
   "source": [
    "if m >= 45 and h == 0:\n",
    "    print(h, end = ' ')\n",
    "    print( m-45)\n",
    "elif m < 45 and h == 0:\n",
    "    print(23, end = ' ')\n",
    "    print( m+60-45)  \n",
    "elif m >= 45 and h != 0:\n",
    "    print(h, end = ' ')\n",
    "    print(m-45)\n",
    "else:\n",
    "    print( h-1,end = ' ')\n",
    "    print( m+60-45,)    "
   ]
  },
  {
   "cell_type": "markdown",
   "metadata": {
    "ExecuteTime": {
     "end_time": "2020-02-17T01:00:42.413372Z",
     "start_time": "2020-02-17T01:00:42.410283Z"
    }
   },
   "source": [
    "### 결과"
   ]
  },
  {
   "cell_type": "markdown",
   "metadata": {
    "ExecuteTime": {
     "end_time": "2020-02-17T00:44:50.539988Z",
     "start_time": "2020-02-17T00:44:50.520076Z"
    }
   },
   "source": [
    "![2884_2](images/2884_2.png)"
   ]
  },
  {
   "cell_type": "markdown",
   "metadata": {
    "ExecuteTime": {
     "end_time": "2020-02-07T04:17:28.198938Z",
     "start_time": "2020-02-07T04:17:28.195946Z"
    }
   },
   "source": [
    "## 3.풀이\n",
    "\n",
    "> 누락된 분기문의 조건이 있을 것 같음\n",
    "- 시간, 분 을 같이 조절해보자\n"
   ]
  },
  {
   "cell_type": "code",
   "execution_count": 6,
   "metadata": {
    "ExecuteTime": {
     "end_time": "2020-02-17T00:54:45.673649Z",
     "start_time": "2020-02-17T00:54:43.824143Z"
    },
    "scrolled": true
   },
   "outputs": [
    {
     "name": "stdout",
     "output_type": "stream",
     "text": [
      "0 0\n"
     ]
    }
   ],
   "source": [
    "h, m = map(int, input().split())"
   ]
  },
  {
   "cell_type": "code",
   "execution_count": 5,
   "metadata": {
    "ExecuteTime": {
     "end_time": "2020-02-17T00:53:22.284911Z",
     "start_time": "2020-02-17T00:53:22.273081Z"
    }
   },
   "outputs": [
    {
     "name": "stdout",
     "output_type": "stream",
     "text": [
      "10 15\n"
     ]
    }
   ],
   "source": [
    "if m >= 45 \n",
    "    if h == 0:\n",
    "        h = 23\n",
    "        print(h, end = ' ')\n",
    "        print( m-45)\n",
    "else:\n",
    "    if h == 0:\n",
    "        h = 23\n",
    "        print(h, end = ' ')\n",
    "        print( m+60-45)  \n",
    "    else:\n",
    "        print( h-1,end = ' ')\n",
    "        print( m+60-45,)    "
   ]
  },
  {
   "cell_type": "markdown",
   "metadata": {
    "ExecuteTime": {
     "end_time": "2020-02-17T01:00:42.413372Z",
     "start_time": "2020-02-17T01:00:42.410283Z"
    }
   },
   "source": [
    "### 결과"
   ]
  },
  {
   "cell_type": "markdown",
   "metadata": {
    "ExecuteTime": {
     "end_time": "2020-02-17T00:44:50.539988Z",
     "start_time": "2020-02-17T00:44:50.520076Z"
    }
   },
   "source": [
    "![2884_3](images/2884_3.png)"
   ]
  },
  {
   "cell_type": "code",
   "execution_count": null,
   "metadata": {},
   "outputs": [],
   "source": []
  }
 ],
 "metadata": {
  "kernelspec": {
   "display_name": "Python 3",
   "language": "python",
   "name": "python3"
  },
  "language_info": {
   "codemirror_mode": {
    "name": "ipython",
    "version": 3
   },
   "file_extension": ".py",
   "mimetype": "text/x-python",
   "name": "python",
   "nbconvert_exporter": "python",
   "pygments_lexer": "ipython3",
   "version": "3.7.5"
  },
  "toc": {
   "base_numbering": 1,
   "nav_menu": {},
   "number_sections": false,
   "sideBar": true,
   "skip_h1_title": false,
   "title_cell": "Table of Contents",
   "title_sidebar": "Contents",
   "toc_cell": false,
   "toc_position": {
    "height": "calc(100% - 180px)",
    "left": "10px",
    "top": "150px",
    "width": "191.594px"
   },
   "toc_section_display": true,
   "toc_window_display": true
  },
  "varInspector": {
   "cols": {
    "lenName": 16,
    "lenType": 16,
    "lenVar": 40
   },
   "kernels_config": {
    "python": {
     "delete_cmd_postfix": "",
     "delete_cmd_prefix": "del ",
     "library": "var_list.py",
     "varRefreshCmd": "print(var_dic_list())"
    },
    "r": {
     "delete_cmd_postfix": ") ",
     "delete_cmd_prefix": "rm(",
     "library": "var_list.r",
     "varRefreshCmd": "cat(var_dic_list()) "
    }
   },
   "types_to_exclude": [
    "module",
    "function",
    "builtin_function_or_method",
    "instance",
    "_Feature"
   ],
   "window_display": false
  }
 },
 "nbformat": 4,
 "nbformat_minor": 2
}
