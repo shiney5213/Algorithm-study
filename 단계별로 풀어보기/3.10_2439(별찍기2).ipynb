{
 "cells": [
  {
   "cell_type": "markdown",
   "metadata": {},
   "source": [
    "# 백준 2439번 문제\n",
    "- https://www.acmicpc.net/problem/2439\n",
    "\n",
    "##  문제\n",
    "- 첫째 줄에는 별 1개, 둘째 줄에는 별 2개, N번째 줄에는 별 N개를 찍는 문제\n",
    "- 하지만, 오른쪽을 기준으로 정렬한 별(예제 참고)을 출력하시오.\n",
    "\n",
    "> 입력\n",
    "- 첫째 줄에 N(1 ≤ N ≤ 100)이 주어진다.\n",
    "- 예: 2\n",
    "\n",
    "\n",
    "> 출력\n",
    "- 첫째 줄부터 N번째 줄까지 차례대로 별을 출력한다.\n",
    "\n",
    "- 예\n",
    "-  *\n",
    "- **"
   ]
  },
  {
   "cell_type": "markdown",
   "metadata": {
    "ExecuteTime": {
     "end_time": "2020-02-07T04:17:28.198938Z",
     "start_time": "2020-02-07T04:17:28.195946Z"
    }
   },
   "source": [
    "## 1.풀이\n",
    "\n",
    "- input()함수로 N를 입력받고, for문을 통해 \\*  출력"
   ]
  },
  {
   "cell_type": "code",
   "execution_count": 1,
   "metadata": {
    "ExecuteTime": {
     "end_time": "2020-03-07T02:11:50.068582Z",
     "start_time": "2020-03-07T02:11:47.999695Z"
    }
   },
   "outputs": [
    {
     "name": "stdout",
     "output_type": "stream",
     "text": [
      "5\n"
     ]
    }
   ],
   "source": [
    "N = int(input())"
   ]
  },
  {
   "cell_type": "code",
   "execution_count": 8,
   "metadata": {
    "ExecuteTime": {
     "end_time": "2020-03-07T02:16:01.913145Z",
     "start_time": "2020-03-07T02:16:01.906111Z"
    }
   },
   "outputs": [
    {
     "name": "stdout",
     "output_type": "stream",
     "text": [
      "---- *\n",
      "--- **\n",
      "-- ***\n",
      "- ****\n",
      " *****\n"
     ]
    }
   ],
   "source": [
    "for i in range(1,N+1):\n",
    "    print(\"-\"*(N-i),'*' *i)"
   ]
  },
  {
   "cell_type": "markdown",
   "metadata": {
    "ExecuteTime": {
     "end_time": "2020-02-10T02:35:18.218974Z",
     "start_time": "2020-02-10T02:35:18.216027Z"
    }
   },
   "source": [
    "### 결과"
   ]
  },
  {
   "cell_type": "markdown",
   "metadata": {
    "ExecuteTime": {
     "end_time": "2020-02-10T01:09:09.720273Z",
     "start_time": "2020-02-10T01:09:09.703301Z"
    }
   },
   "source": [
    "![2439_1](images/2439_1.png)"
   ]
  },
  {
   "cell_type": "markdown",
   "metadata": {},
   "source": [
    "## 2. 풀이\n",
    "> 출력 형식이 잘못되었습니다\n",
    "- 공백문자와 *사이에 공백문자가 하나씩 더 포함되어 있음.\n",
    "- 이를 없애기 위해 \\,를 +로 바꾸기"
   ]
  },
  {
   "cell_type": "code",
   "execution_count": 9,
   "metadata": {
    "ExecuteTime": {
     "end_time": "2020-03-04T15:54:47.314824Z",
     "start_time": "2020-03-04T15:54:45.135032Z"
    }
   },
   "outputs": [
    {
     "name": "stdout",
     "output_type": "stream",
     "text": [
      "5\n"
     ]
    }
   ],
   "source": [
    "N = int(input())"
   ]
  },
  {
   "cell_type": "code",
   "execution_count": 9,
   "metadata": {
    "ExecuteTime": {
     "end_time": "2020-03-07T02:17:01.287378Z",
     "start_time": "2020-03-07T02:17:01.282502Z"
    }
   },
   "outputs": [
    {
     "name": "stdout",
     "output_type": "stream",
     "text": [
      "----*\n",
      "---**\n",
      "--***\n",
      "-****\n",
      "*****\n"
     ]
    }
   ],
   "source": [
    "for i in range(1,N+1):\n",
    "    print(\" \"*(N-i)+'*' *i)"
   ]
  },
  {
   "cell_type": "markdown",
   "metadata": {
    "ExecuteTime": {
     "end_time": "2020-02-10T02:35:18.218974Z",
     "start_time": "2020-02-10T02:35:18.216027Z"
    }
   },
   "source": [
    "### 결과"
   ]
  },
  {
   "cell_type": "markdown",
   "metadata": {
    "ExecuteTime": {
     "end_time": "2020-02-10T01:09:09.720273Z",
     "start_time": "2020-02-10T01:09:09.703301Z"
    }
   },
   "source": [
    "![2439_2](images/2439_2.png)"
   ]
  },
  {
   "cell_type": "markdown",
   "metadata": {},
   "source": [
    "> <font color = 'red'>print()에서 쉼표(,)와 더하기(+)차이</font>\n",
    "- 평소에  print문을 이용할 때 아무생각없이 쉼표(,)를 썼었는데\n",
    "- 더하기(+)기호와 차이점을 확실히 알게 되었음."
   ]
  },
  {
   "cell_type": "code",
   "execution_count": null,
   "metadata": {},
   "outputs": [],
   "source": []
  }
 ],
 "metadata": {
  "kernelspec": {
   "display_name": "Python 3",
   "language": "python",
   "name": "python3"
  },
  "language_info": {
   "codemirror_mode": {
    "name": "ipython",
    "version": 3
   },
   "file_extension": ".py",
   "mimetype": "text/x-python",
   "name": "python",
   "nbconvert_exporter": "python",
   "pygments_lexer": "ipython3",
   "version": "3.6.8"
  },
  "toc": {
   "base_numbering": 1,
   "nav_menu": {},
   "number_sections": false,
   "sideBar": true,
   "skip_h1_title": false,
   "title_cell": "Table of Contents",
   "title_sidebar": "Contents",
   "toc_cell": false,
   "toc_position": {
    "height": "calc(100% - 180px)",
    "left": "10px",
    "top": "150px",
    "width": "191.594px"
   },
   "toc_section_display": true,
   "toc_window_display": false
  },
  "varInspector": {
   "cols": {
    "lenName": 16,
    "lenType": 16,
    "lenVar": 40
   },
   "kernels_config": {
    "python": {
     "delete_cmd_postfix": "",
     "delete_cmd_prefix": "del ",
     "library": "var_list.py",
     "varRefreshCmd": "print(var_dic_list())"
    },
    "r": {
     "delete_cmd_postfix": ") ",
     "delete_cmd_prefix": "rm(",
     "library": "var_list.r",
     "varRefreshCmd": "cat(var_dic_list()) "
    }
   },
   "types_to_exclude": [
    "module",
    "function",
    "builtin_function_or_method",
    "instance",
    "_Feature"
   ],
   "window_display": false
  }
 },
 "nbformat": 4,
 "nbformat_minor": 2
}
